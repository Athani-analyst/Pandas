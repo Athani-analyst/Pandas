{
 "cells": [
  {
   "cell_type": "markdown",
   "id": "ae1bb498",
   "metadata": {},
   "source": [
    "# Welcome to my Jupyter\n",
    "                                           Athani"
   ]
  },
  {
   "cell_type": "markdown",
   "id": "4bc22394",
   "metadata": {},
   "source": [
    "## Review of Python's datetime Module"
   ]
  },
  {
   "cell_type": "code",
   "execution_count": 1,
   "id": "1b86d54a",
   "metadata": {},
   "outputs": [],
   "source": [
    "import pandas as pd\n",
    "import datetime as dt"
   ]
  },
  {
   "cell_type": "code",
   "execution_count": 10,
   "id": "a2512ff1",
   "metadata": {},
   "outputs": [
    {
     "data": {
      "text/plain": [
       "datetime.date(2022, 1, 1)"
      ]
     },
     "execution_count": 10,
     "metadata": {},
     "output_type": "execute_result"
    }
   ],
   "source": [
    "today=dt.date(2022,1,1)\n",
    "#date(year, month, day)\n",
    "today"
   ]
  },
  {
   "cell_type": "code",
   "execution_count": 3,
   "id": "99bd2710",
   "metadata": {},
   "outputs": [
    {
     "data": {
      "text/plain": [
       "1"
      ]
     },
     "execution_count": 3,
     "metadata": {},
     "output_type": "execute_result"
    }
   ],
   "source": [
    "today.year\n",
    "today.month\n",
    "today.day"
   ]
  },
  {
   "cell_type": "code",
   "execution_count": 4,
   "id": "b0f237e5",
   "metadata": {},
   "outputs": [
    {
     "data": {
      "text/plain": [
       "datetime.datetime(2022, 1, 1, 0, 0)"
      ]
     },
     "execution_count": 4,
     "metadata": {},
     "output_type": "execute_result"
    }
   ],
   "source": [
    "dt.datetime(2022,1,1) # defalt take midday time"
   ]
  },
  {
   "cell_type": "code",
   "execution_count": 5,
   "id": "694b238e",
   "metadata": {},
   "outputs": [
    {
     "data": {
      "text/plain": [
       "datetime.datetime(2022, 1, 1, 4, 56, 44)"
      ]
     },
     "execution_count": 5,
     "metadata": {},
     "output_type": "execute_result"
    }
   ],
   "source": [
    "sometime=dt.datetime(2022,1,1,4,56,44) # defalt take midday time\n",
    "sometime\n",
    "#datetime(year, month, day[, hour[, minute[, second[, microsecond[,tzinfo]]]]])"
   ]
  },
  {
   "cell_type": "code",
   "execution_count": 6,
   "id": "a593a6a7",
   "metadata": {},
   "outputs": [
    {
     "data": {
      "text/plain": [
       "'2022-01-01 04:56:44'"
      ]
     },
     "execution_count": 6,
     "metadata": {},
     "output_type": "execute_result"
    }
   ],
   "source": [
    "str(dt.datetime(2022,1,1,4,56,44)) # converted into str bcz most readble format"
   ]
  },
  {
   "cell_type": "code",
   "execution_count": 7,
   "id": "cbc7b4de",
   "metadata": {},
   "outputs": [
    {
     "name": "stdout",
     "output_type": "stream",
     "text": [
      "2022\n",
      "1\n",
      "1\n",
      "4\n",
      "56\n",
      "44\n"
     ]
    }
   ],
   "source": [
    "print(sometime.year)\n",
    "print(sometime.month)\n",
    "print(sometime.day)\n",
    "print(sometime.hour)\n",
    "print(sometime.minute)\n",
    "print(sometime.second)"
   ]
  },
  {
   "cell_type": "code",
   "execution_count": 8,
   "id": "18ec92e1",
   "metadata": {},
   "outputs": [
    {
     "ename": "TypeError",
     "evalue": "an integer is required (got type str)",
     "output_type": "error",
     "traceback": [
      "\u001b[1;31m---------------------------------------------------------------------------\u001b[0m",
      "\u001b[1;31mTypeError\u001b[0m                                 Traceback (most recent call last)",
      "Input \u001b[1;32mIn [8]\u001b[0m, in \u001b[0;36m<cell line: 1>\u001b[1;34m()\u001b[0m\n\u001b[1;32m----> 1\u001b[0m \u001b[43mdt\u001b[49m\u001b[38;5;241;43m.\u001b[39;49m\u001b[43mdate\u001b[49m\u001b[43m(\u001b[49m\u001b[38;5;124;43m\"\u001b[39;49m\u001b[38;5;124;43m2022 10 21\u001b[39;49m\u001b[38;5;124;43m\"\u001b[39;49m\u001b[43m)\u001b[49m\n",
      "\u001b[1;31mTypeError\u001b[0m: an integer is required (got type str)"
     ]
    }
   ],
   "source": [
    "dt.date(\"2022 10 21\")"
   ]
  },
  {
   "cell_type": "markdown",
   "id": "e323f355",
   "metadata": {},
   "source": [
    "## The pandas Timestamp Object"
   ]
  },
  {
   "cell_type": "code",
   "execution_count": 11,
   "id": "8967ef1a",
   "metadata": {},
   "outputs": [
    {
     "data": {
      "text/plain": [
       "Timestamp('2022-01-01 00:00:00')"
      ]
     },
     "execution_count": 11,
     "metadata": {},
     "output_type": "execute_result"
    }
   ],
   "source": [
    "pd.Timestamp(\"2022-1-1\") # pd.Timestamp we need to pass the value as string and we can pass in any format as follow"
   ]
  },
  {
   "cell_type": "code",
   "execution_count": 12,
   "id": "ae669931",
   "metadata": {},
   "outputs": [
    {
     "data": {
      "text/plain": [
       "Timestamp('2022-01-01 00:00:00')"
      ]
     },
     "execution_count": 12,
     "metadata": {},
     "output_type": "execute_result"
    }
   ],
   "source": [
    "pd.Timestamp(\"2022/1/1\")"
   ]
  },
  {
   "cell_type": "code",
   "execution_count": 13,
   "id": "df1bbe45",
   "metadata": {},
   "outputs": [
    {
     "data": {
      "text/plain": [
       "Timestamp('2022-01-01 00:00:00')"
      ]
     },
     "execution_count": 13,
     "metadata": {},
     "output_type": "execute_result"
    }
   ],
   "source": [
    "pd.Timestamp(\"2022, 1, 1\")"
   ]
  },
  {
   "cell_type": "code",
   "execution_count": 14,
   "id": "23a86cda",
   "metadata": {},
   "outputs": [
    {
     "data": {
      "text/plain": [
       "Timestamp('2022-01-01 00:00:00')"
      ]
     },
     "execution_count": 14,
     "metadata": {},
     "output_type": "execute_result"
    }
   ],
   "source": [
    "pd.Timestamp(\"2022 1 1\")"
   ]
  },
  {
   "cell_type": "code",
   "execution_count": 15,
   "id": "5b18cfab",
   "metadata": {},
   "outputs": [
    {
     "data": {
      "text/plain": [
       "Timestamp('2022-01-15 00:00:00')"
      ]
     },
     "execution_count": 15,
     "metadata": {},
     "output_type": "execute_result"
    }
   ],
   "source": [
    "pd.Timestamp(\"15/1/2022\")"
   ]
  },
  {
   "cell_type": "code",
   "execution_count": 16,
   "id": "aff92ed0",
   "metadata": {},
   "outputs": [
    {
     "data": {
      "text/plain": [
       "Timestamp('2022-01-12 00:00:00')"
      ]
     },
     "execution_count": 16,
     "metadata": {},
     "output_type": "execute_result"
    }
   ],
   "source": [
    "pd.Timestamp(\"1/12/2022\")"
   ]
  },
  {
   "cell_type": "code",
   "execution_count": 17,
   "id": "f842f6e6",
   "metadata": {},
   "outputs": [
    {
     "data": {
      "text/plain": [
       "Timestamp('2022-01-15 06:54:00')"
      ]
     },
     "execution_count": 17,
     "metadata": {},
     "output_type": "execute_result"
    }
   ],
   "source": [
    "pd.Timestamp(\"15/1/2022 06:54\")"
   ]
  },
  {
   "cell_type": "code",
   "execution_count": 18,
   "id": "351289bb",
   "metadata": {},
   "outputs": [
    {
     "data": {
      "text/plain": [
       "Timestamp('2022-01-15 18:54:30')"
      ]
     },
     "execution_count": 18,
     "metadata": {},
     "output_type": "execute_result"
    }
   ],
   "source": [
    "pd.Timestamp(\"15/1/2022 06:54:30 PM\")"
   ]
  },
  {
   "cell_type": "code",
   "execution_count": 19,
   "id": "aecf4fb5",
   "metadata": {},
   "outputs": [
    {
     "data": {
      "text/plain": [
       "Timestamp('2022-12-11 00:00:00')"
      ]
     },
     "execution_count": 19,
     "metadata": {},
     "output_type": "execute_result"
    }
   ],
   "source": [
    "pd.Timestamp(\"20221211\")"
   ]
  },
  {
   "cell_type": "code",
   "execution_count": 20,
   "id": "dd28fc98",
   "metadata": {},
   "outputs": [
    {
     "data": {
      "text/plain": [
       "Timestamp('2022-11-11 01:10:50')"
      ]
     },
     "execution_count": 20,
     "metadata": {},
     "output_type": "execute_result"
    }
   ],
   "source": [
    "pd.Timestamp(\"20221111011050\")"
   ]
  },
  {
   "cell_type": "markdown",
   "id": "ae99bdef",
   "metadata": {},
   "source": [
    "## The Pandas DateTimeIndex object"
   ]
  },
  {
   "cell_type": "code",
   "execution_count": 43,
   "id": "ad7a0a89",
   "metadata": {},
   "outputs": [],
   "source": [
    "date=[\"2022-1-1\",\"2021/1/1\",\"2020/1/1\"]"
   ]
  },
  {
   "cell_type": "code",
   "execution_count": 44,
   "id": "ccc2c361",
   "metadata": {},
   "outputs": [
    {
     "data": {
      "text/plain": [
       "['2022-1-1', '2021/1/1', '2020/1/1']"
      ]
     },
     "execution_count": 44,
     "metadata": {},
     "output_type": "execute_result"
    }
   ],
   "source": [
    "date"
   ]
  },
  {
   "cell_type": "code",
   "execution_count": 53,
   "id": "a4dcd0aa",
   "metadata": {},
   "outputs": [],
   "source": [
    "index=pd.DatetimeIndex(date)"
   ]
  },
  {
   "cell_type": "code",
   "execution_count": 54,
   "id": "ae25bd48",
   "metadata": {},
   "outputs": [
    {
     "data": {
      "text/plain": [
       "2022-01-01    1\n",
       "2021-01-01    2\n",
       "2020-01-01    3\n",
       "dtype: int64"
      ]
     },
     "execution_count": 54,
     "metadata": {},
     "output_type": "execute_result"
    }
   ],
   "source": [
    "s=pd.Series([1,2,3],index=index)\n",
    "s"
   ]
  },
  {
   "cell_type": "code",
   "execution_count": 59,
   "id": "55e04343",
   "metadata": {},
   "outputs": [],
   "source": [
    "dates=[dt.date(2026,2,2),dt.date(2022,1,1),dt.date(2023,1,1)]"
   ]
  },
  {
   "cell_type": "code",
   "execution_count": 60,
   "id": "28fe2b3b",
   "metadata": {},
   "outputs": [
    {
     "data": {
      "text/plain": [
       "[datetime.date(2026, 2, 2),\n",
       " datetime.date(2022, 1, 1),\n",
       " datetime.date(2023, 1, 1)]"
      ]
     },
     "execution_count": 60,
     "metadata": {},
     "output_type": "execute_result"
    }
   ],
   "source": [
    "dates"
   ]
  },
  {
   "cell_type": "code",
   "execution_count": 61,
   "id": "1870fe12",
   "metadata": {},
   "outputs": [
    {
     "data": {
      "text/plain": [
       "DatetimeIndex(['2026-02-02', '2022-01-01', '2023-01-01'], dtype='datetime64[ns]', freq=None)"
      ]
     },
     "execution_count": 61,
     "metadata": {},
     "output_type": "execute_result"
    }
   ],
   "source": [
    "pd.DatetimeIndex(dates)"
   ]
  },
  {
   "cell_type": "code",
   "execution_count": 69,
   "id": "ec4a493b",
   "metadata": {},
   "outputs": [
    {
     "data": {
      "text/plain": [
       "2026-02-02    123\n",
       "2022-01-01    432\n",
       "2023-01-01    344\n",
       "dtype: int64"
      ]
     },
     "execution_count": 69,
     "metadata": {},
     "output_type": "execute_result"
    }
   ],
   "source": [
    "val=[123,432,344]\n",
    "df=pd.Series(val,index=dates)\n",
    "df"
   ]
  },
  {
   "cell_type": "markdown",
   "id": "0da5107d",
   "metadata": {},
   "source": [
    "## The pd.to_datetime() Method"
   ]
  },
  {
   "cell_type": "code",
   "execution_count": 70,
   "id": "cd0773b9",
   "metadata": {},
   "outputs": [
    {
     "data": {
      "text/plain": [
       "Timestamp('2022-01-01 00:00:00')"
      ]
     },
     "execution_count": 70,
     "metadata": {},
     "output_type": "execute_result"
    }
   ],
   "source": [
    "pd.to_datetime(\"2022-1-1\")"
   ]
  },
  {
   "cell_type": "code",
   "execution_count": 77,
   "id": "06abc1b9",
   "metadata": {},
   "outputs": [
    {
     "data": {
      "text/plain": [
       "Timestamp('2022-01-12 00:00:00')"
      ]
     },
     "execution_count": 77,
     "metadata": {},
     "output_type": "execute_result"
    }
   ],
   "source": [
    "pd.to_datetime(\"2022/1/12\")"
   ]
  },
  {
   "cell_type": "code",
   "execution_count": 78,
   "id": "e2179ede",
   "metadata": {},
   "outputs": [
    {
     "data": {
      "text/plain": [
       "Timestamp('2022-07-12 00:00:00')"
      ]
     },
     "execution_count": 78,
     "metadata": {},
     "output_type": "execute_result"
    }
   ],
   "source": [
    "pd.to_datetime(\"2022-july-12\")"
   ]
  },
  {
   "cell_type": "code",
   "execution_count": 81,
   "id": "caafe48d",
   "metadata": {},
   "outputs": [
    {
     "data": {
      "text/plain": [
       "DatetimeIndex(['2022-01-01', '2021-02-02', '1991-07-04'], dtype='datetime64[ns]', freq=None)"
      ]
     },
     "execution_count": 81,
     "metadata": {},
     "output_type": "execute_result"
    }
   ],
   "source": [
    "pd.to_datetime([\"2022-01-01\",\"2021/02/02\",\"july 4 1991\"])"
   ]
  },
  {
   "cell_type": "code",
   "execution_count": 21,
   "id": "fbcd01ac",
   "metadata": {},
   "outputs": [
    {
     "data": {
      "text/plain": [
       "Timestamp('1991-07-04 00:00:00')"
      ]
     },
     "execution_count": 21,
     "metadata": {},
     "output_type": "execute_result"
    }
   ],
   "source": [
    "pd.Timestamp(\"july 4 1991\")"
   ]
  },
  {
   "cell_type": "code",
   "execution_count": 84,
   "id": "7ab29cf6",
   "metadata": {
    "scrolled": true
   },
   "outputs": [
    {
     "data": {
      "text/plain": [
       "0     2022-01-01\n",
       "1     2021/02/02\n",
       "2    july 4 1991\n",
       "dtype: object"
      ]
     },
     "execution_count": 84,
     "metadata": {},
     "output_type": "execute_result"
    }
   ],
   "source": [
    "times=pd.Series([\"2022-01-01\",\"2021/02/02\",\"july 4 1991\"])\n",
    "times"
   ]
  },
  {
   "cell_type": "code",
   "execution_count": 86,
   "id": "4bc69ad3",
   "metadata": {},
   "outputs": [
    {
     "data": {
      "text/plain": [
       "0   2022-01-01\n",
       "1   2021-02-02\n",
       "2   1991-07-04\n",
       "dtype: datetime64[ns]"
      ]
     },
     "execution_count": 86,
     "metadata": {},
     "output_type": "execute_result"
    }
   ],
   "source": [
    "pd.to_datetime(times)"
   ]
  },
  {
   "cell_type": "code",
   "execution_count": 89,
   "id": "d6430db3",
   "metadata": {},
   "outputs": [
    {
     "data": {
      "text/plain": [
       "['2022-01-01', '2021/02/02', 'july 4 1991', 'Hello world', '2021-02-31']"
      ]
     },
     "execution_count": 89,
     "metadata": {},
     "output_type": "execute_result"
    }
   ],
   "source": [
    "dates=[\"2022-01-01\",\"2021/02/02\",\"july 4 1991\",\"Hello world\",\"2021-02-31\"]\n",
    "dates"
   ]
  },
  {
   "cell_type": "code",
   "execution_count": 90,
   "id": "6b3a594a",
   "metadata": {},
   "outputs": [
    {
     "ename": "ParserError",
     "evalue": "Unknown string format: Hello world",
     "output_type": "error",
     "traceback": [
      "\u001b[1;31m---------------------------------------------------------------------------\u001b[0m",
      "\u001b[1;31mTypeError\u001b[0m                                 Traceback (most recent call last)",
      "File \u001b[1;32m~\\anaconda3\\lib\\site-packages\\pandas\\core\\arrays\\datetimes.py:2211\u001b[0m, in \u001b[0;36mobjects_to_datetime64ns\u001b[1;34m(data, dayfirst, yearfirst, utc, errors, require_iso8601, allow_object, allow_mixed)\u001b[0m\n\u001b[0;32m   2210\u001b[0m \u001b[38;5;28;01mtry\u001b[39;00m:\n\u001b[1;32m-> 2211\u001b[0m     values, tz_parsed \u001b[38;5;241m=\u001b[39m \u001b[43mconversion\u001b[49m\u001b[38;5;241;43m.\u001b[39;49m\u001b[43mdatetime_to_datetime64\u001b[49m\u001b[43m(\u001b[49m\u001b[43mdata\u001b[49m\u001b[38;5;241;43m.\u001b[39;49m\u001b[43mravel\u001b[49m\u001b[43m(\u001b[49m\u001b[38;5;124;43m\"\u001b[39;49m\u001b[38;5;124;43mK\u001b[39;49m\u001b[38;5;124;43m\"\u001b[39;49m\u001b[43m)\u001b[49m\u001b[43m)\u001b[49m\n\u001b[0;32m   2212\u001b[0m     \u001b[38;5;66;03m# If tzaware, these values represent unix timestamps, so we\u001b[39;00m\n\u001b[0;32m   2213\u001b[0m     \u001b[38;5;66;03m#  return them as i8 to distinguish from wall times\u001b[39;00m\n",
      "File \u001b[1;32m~\\anaconda3\\lib\\site-packages\\pandas\\_libs\\tslibs\\conversion.pyx:360\u001b[0m, in \u001b[0;36mpandas._libs.tslibs.conversion.datetime_to_datetime64\u001b[1;34m()\u001b[0m\n",
      "\u001b[1;31mTypeError\u001b[0m: Unrecognized value type: <class 'str'>",
      "\nDuring handling of the above exception, another exception occurred:\n",
      "\u001b[1;31mParserError\u001b[0m                               Traceback (most recent call last)",
      "Input \u001b[1;32mIn [90]\u001b[0m, in \u001b[0;36m<cell line: 1>\u001b[1;34m()\u001b[0m\n\u001b[1;32m----> 1\u001b[0m \u001b[43mpd\u001b[49m\u001b[38;5;241;43m.\u001b[39;49m\u001b[43mto_datetime\u001b[49m\u001b[43m(\u001b[49m\u001b[43mdates\u001b[49m\u001b[43m)\u001b[49m\n",
      "File \u001b[1;32m~\\anaconda3\\lib\\site-packages\\pandas\\core\\tools\\datetimes.py:1076\u001b[0m, in \u001b[0;36mto_datetime\u001b[1;34m(arg, errors, dayfirst, yearfirst, utc, format, exact, unit, infer_datetime_format, origin, cache)\u001b[0m\n\u001b[0;32m   1074\u001b[0m         result \u001b[38;5;241m=\u001b[39m _convert_and_box_cache(arg, cache_array)\n\u001b[0;32m   1075\u001b[0m     \u001b[38;5;28;01melse\u001b[39;00m:\n\u001b[1;32m-> 1076\u001b[0m         result \u001b[38;5;241m=\u001b[39m \u001b[43mconvert_listlike\u001b[49m\u001b[43m(\u001b[49m\u001b[43marg\u001b[49m\u001b[43m,\u001b[49m\u001b[43m \u001b[49m\u001b[38;5;28;43mformat\u001b[39;49m\u001b[43m)\u001b[49m\n\u001b[0;32m   1077\u001b[0m \u001b[38;5;28;01melse\u001b[39;00m:\n\u001b[0;32m   1078\u001b[0m     result \u001b[38;5;241m=\u001b[39m convert_listlike(np\u001b[38;5;241m.\u001b[39marray([arg]), \u001b[38;5;28mformat\u001b[39m)[\u001b[38;5;241m0\u001b[39m]\n",
      "File \u001b[1;32m~\\anaconda3\\lib\\site-packages\\pandas\\core\\tools\\datetimes.py:402\u001b[0m, in \u001b[0;36m_convert_listlike_datetimes\u001b[1;34m(arg, format, name, tz, unit, errors, infer_datetime_format, dayfirst, yearfirst, exact)\u001b[0m\n\u001b[0;32m    400\u001b[0m \u001b[38;5;28;01massert\u001b[39;00m \u001b[38;5;28mformat\u001b[39m \u001b[38;5;129;01mis\u001b[39;00m \u001b[38;5;28;01mNone\u001b[39;00m \u001b[38;5;129;01mor\u001b[39;00m infer_datetime_format\n\u001b[0;32m    401\u001b[0m utc \u001b[38;5;241m=\u001b[39m tz \u001b[38;5;241m==\u001b[39m \u001b[38;5;124m\"\u001b[39m\u001b[38;5;124mutc\u001b[39m\u001b[38;5;124m\"\u001b[39m\n\u001b[1;32m--> 402\u001b[0m result, tz_parsed \u001b[38;5;241m=\u001b[39m \u001b[43mobjects_to_datetime64ns\u001b[49m\u001b[43m(\u001b[49m\n\u001b[0;32m    403\u001b[0m \u001b[43m    \u001b[49m\u001b[43marg\u001b[49m\u001b[43m,\u001b[49m\n\u001b[0;32m    404\u001b[0m \u001b[43m    \u001b[49m\u001b[43mdayfirst\u001b[49m\u001b[38;5;241;43m=\u001b[39;49m\u001b[43mdayfirst\u001b[49m\u001b[43m,\u001b[49m\n\u001b[0;32m    405\u001b[0m \u001b[43m    \u001b[49m\u001b[43myearfirst\u001b[49m\u001b[38;5;241;43m=\u001b[39;49m\u001b[43myearfirst\u001b[49m\u001b[43m,\u001b[49m\n\u001b[0;32m    406\u001b[0m \u001b[43m    \u001b[49m\u001b[43mutc\u001b[49m\u001b[38;5;241;43m=\u001b[39;49m\u001b[43mutc\u001b[49m\u001b[43m,\u001b[49m\n\u001b[0;32m    407\u001b[0m \u001b[43m    \u001b[49m\u001b[43merrors\u001b[49m\u001b[38;5;241;43m=\u001b[39;49m\u001b[43merrors\u001b[49m\u001b[43m,\u001b[49m\n\u001b[0;32m    408\u001b[0m \u001b[43m    \u001b[49m\u001b[43mrequire_iso8601\u001b[49m\u001b[38;5;241;43m=\u001b[39;49m\u001b[43mrequire_iso8601\u001b[49m\u001b[43m,\u001b[49m\n\u001b[0;32m    409\u001b[0m \u001b[43m    \u001b[49m\u001b[43mallow_object\u001b[49m\u001b[38;5;241;43m=\u001b[39;49m\u001b[38;5;28;43;01mTrue\u001b[39;49;00m\u001b[43m,\u001b[49m\n\u001b[0;32m    410\u001b[0m \u001b[43m\u001b[49m\u001b[43m)\u001b[49m\n\u001b[0;32m    412\u001b[0m \u001b[38;5;28;01mif\u001b[39;00m tz_parsed \u001b[38;5;129;01mis\u001b[39;00m \u001b[38;5;129;01mnot\u001b[39;00m \u001b[38;5;28;01mNone\u001b[39;00m:\n\u001b[0;32m    413\u001b[0m     \u001b[38;5;66;03m# We can take a shortcut since the datetime64 numpy array\u001b[39;00m\n\u001b[0;32m    414\u001b[0m     \u001b[38;5;66;03m# is in UTC\u001b[39;00m\n\u001b[0;32m    415\u001b[0m     dta \u001b[38;5;241m=\u001b[39m DatetimeArray(result, dtype\u001b[38;5;241m=\u001b[39mtz_to_dtype(tz_parsed))\n",
      "File \u001b[1;32m~\\anaconda3\\lib\\site-packages\\pandas\\core\\arrays\\datetimes.py:2217\u001b[0m, in \u001b[0;36mobjects_to_datetime64ns\u001b[1;34m(data, dayfirst, yearfirst, utc, errors, require_iso8601, allow_object, allow_mixed)\u001b[0m\n\u001b[0;32m   2215\u001b[0m         \u001b[38;5;28;01mreturn\u001b[39;00m values\u001b[38;5;241m.\u001b[39mview(\u001b[38;5;124m\"\u001b[39m\u001b[38;5;124mi8\u001b[39m\u001b[38;5;124m\"\u001b[39m), tz_parsed\n\u001b[0;32m   2216\u001b[0m     \u001b[38;5;28;01mexcept\u001b[39;00m (\u001b[38;5;167;01mValueError\u001b[39;00m, \u001b[38;5;167;01mTypeError\u001b[39;00m):\n\u001b[1;32m-> 2217\u001b[0m         \u001b[38;5;28;01mraise\u001b[39;00m err\n\u001b[0;32m   2219\u001b[0m \u001b[38;5;28;01mif\u001b[39;00m tz_parsed \u001b[38;5;129;01mis\u001b[39;00m \u001b[38;5;129;01mnot\u001b[39;00m \u001b[38;5;28;01mNone\u001b[39;00m:\n\u001b[0;32m   2220\u001b[0m     \u001b[38;5;66;03m# We can take a shortcut since the datetime64 numpy array\u001b[39;00m\n\u001b[0;32m   2221\u001b[0m     \u001b[38;5;66;03m#  is in UTC\u001b[39;00m\n\u001b[0;32m   2222\u001b[0m     \u001b[38;5;66;03m# Return i8 values to denote unix timestamps\u001b[39;00m\n\u001b[0;32m   2223\u001b[0m     \u001b[38;5;28;01mreturn\u001b[39;00m result\u001b[38;5;241m.\u001b[39mview(\u001b[38;5;124m\"\u001b[39m\u001b[38;5;124mi8\u001b[39m\u001b[38;5;124m\"\u001b[39m), tz_parsed\n",
      "File \u001b[1;32m~\\anaconda3\\lib\\site-packages\\pandas\\core\\arrays\\datetimes.py:2199\u001b[0m, in \u001b[0;36mobjects_to_datetime64ns\u001b[1;34m(data, dayfirst, yearfirst, utc, errors, require_iso8601, allow_object, allow_mixed)\u001b[0m\n\u001b[0;32m   2197\u001b[0m order: Literal[\u001b[38;5;124m\"\u001b[39m\u001b[38;5;124mF\u001b[39m\u001b[38;5;124m\"\u001b[39m, \u001b[38;5;124m\"\u001b[39m\u001b[38;5;124mC\u001b[39m\u001b[38;5;124m\"\u001b[39m] \u001b[38;5;241m=\u001b[39m \u001b[38;5;124m\"\u001b[39m\u001b[38;5;124mF\u001b[39m\u001b[38;5;124m\"\u001b[39m \u001b[38;5;28;01mif\u001b[39;00m flags\u001b[38;5;241m.\u001b[39mf_contiguous \u001b[38;5;28;01melse\u001b[39;00m \u001b[38;5;124m\"\u001b[39m\u001b[38;5;124mC\u001b[39m\u001b[38;5;124m\"\u001b[39m\n\u001b[0;32m   2198\u001b[0m \u001b[38;5;28;01mtry\u001b[39;00m:\n\u001b[1;32m-> 2199\u001b[0m     result, tz_parsed \u001b[38;5;241m=\u001b[39m \u001b[43mtslib\u001b[49m\u001b[38;5;241;43m.\u001b[39;49m\u001b[43marray_to_datetime\u001b[49m\u001b[43m(\u001b[49m\n\u001b[0;32m   2200\u001b[0m \u001b[43m        \u001b[49m\u001b[43mdata\u001b[49m\u001b[38;5;241;43m.\u001b[39;49m\u001b[43mravel\u001b[49m\u001b[43m(\u001b[49m\u001b[38;5;124;43m\"\u001b[39;49m\u001b[38;5;124;43mK\u001b[39;49m\u001b[38;5;124;43m\"\u001b[39;49m\u001b[43m)\u001b[49m\u001b[43m,\u001b[49m\n\u001b[0;32m   2201\u001b[0m \u001b[43m        \u001b[49m\u001b[43merrors\u001b[49m\u001b[38;5;241;43m=\u001b[39;49m\u001b[43merrors\u001b[49m\u001b[43m,\u001b[49m\n\u001b[0;32m   2202\u001b[0m \u001b[43m        \u001b[49m\u001b[43mutc\u001b[49m\u001b[38;5;241;43m=\u001b[39;49m\u001b[43mutc\u001b[49m\u001b[43m,\u001b[49m\n\u001b[0;32m   2203\u001b[0m \u001b[43m        \u001b[49m\u001b[43mdayfirst\u001b[49m\u001b[38;5;241;43m=\u001b[39;49m\u001b[43mdayfirst\u001b[49m\u001b[43m,\u001b[49m\n\u001b[0;32m   2204\u001b[0m \u001b[43m        \u001b[49m\u001b[43myearfirst\u001b[49m\u001b[38;5;241;43m=\u001b[39;49m\u001b[43myearfirst\u001b[49m\u001b[43m,\u001b[49m\n\u001b[0;32m   2205\u001b[0m \u001b[43m        \u001b[49m\u001b[43mrequire_iso8601\u001b[49m\u001b[38;5;241;43m=\u001b[39;49m\u001b[43mrequire_iso8601\u001b[49m\u001b[43m,\u001b[49m\n\u001b[0;32m   2206\u001b[0m \u001b[43m        \u001b[49m\u001b[43mallow_mixed\u001b[49m\u001b[38;5;241;43m=\u001b[39;49m\u001b[43mallow_mixed\u001b[49m\u001b[43m,\u001b[49m\n\u001b[0;32m   2207\u001b[0m \u001b[43m    \u001b[49m\u001b[43m)\u001b[49m\n\u001b[0;32m   2208\u001b[0m     result \u001b[38;5;241m=\u001b[39m result\u001b[38;5;241m.\u001b[39mreshape(data\u001b[38;5;241m.\u001b[39mshape, order\u001b[38;5;241m=\u001b[39morder)\n\u001b[0;32m   2209\u001b[0m \u001b[38;5;28;01mexcept\u001b[39;00m \u001b[38;5;167;01mValueError\u001b[39;00m \u001b[38;5;28;01mas\u001b[39;00m err:\n",
      "File \u001b[1;32m~\\anaconda3\\lib\\site-packages\\pandas\\_libs\\tslib.pyx:381\u001b[0m, in \u001b[0;36mpandas._libs.tslib.array_to_datetime\u001b[1;34m()\u001b[0m\n",
      "File \u001b[1;32m~\\anaconda3\\lib\\site-packages\\pandas\\_libs\\tslib.pyx:613\u001b[0m, in \u001b[0;36mpandas._libs.tslib.array_to_datetime\u001b[1;34m()\u001b[0m\n",
      "File \u001b[1;32m~\\anaconda3\\lib\\site-packages\\pandas\\_libs\\tslib.pyx:751\u001b[0m, in \u001b[0;36mpandas._libs.tslib._array_to_datetime_object\u001b[1;34m()\u001b[0m\n",
      "File \u001b[1;32m~\\anaconda3\\lib\\site-packages\\pandas\\_libs\\tslib.pyx:742\u001b[0m, in \u001b[0;36mpandas._libs.tslib._array_to_datetime_object\u001b[1;34m()\u001b[0m\n",
      "File \u001b[1;32m~\\anaconda3\\lib\\site-packages\\pandas\\_libs\\tslibs\\parsing.pyx:281\u001b[0m, in \u001b[0;36mpandas._libs.tslibs.parsing.parse_datetime_string\u001b[1;34m()\u001b[0m\n",
      "File \u001b[1;32m~\\anaconda3\\lib\\site-packages\\dateutil\\parser\\_parser.py:1368\u001b[0m, in \u001b[0;36mparse\u001b[1;34m(timestr, parserinfo, **kwargs)\u001b[0m\n\u001b[0;32m   1366\u001b[0m     \u001b[38;5;28;01mreturn\u001b[39;00m parser(parserinfo)\u001b[38;5;241m.\u001b[39mparse(timestr, \u001b[38;5;241m*\u001b[39m\u001b[38;5;241m*\u001b[39mkwargs)\n\u001b[0;32m   1367\u001b[0m \u001b[38;5;28;01melse\u001b[39;00m:\n\u001b[1;32m-> 1368\u001b[0m     \u001b[38;5;28;01mreturn\u001b[39;00m DEFAULTPARSER\u001b[38;5;241m.\u001b[39mparse(timestr, \u001b[38;5;241m*\u001b[39m\u001b[38;5;241m*\u001b[39mkwargs)\n",
      "File \u001b[1;32m~\\anaconda3\\lib\\site-packages\\dateutil\\parser\\_parser.py:643\u001b[0m, in \u001b[0;36mparser.parse\u001b[1;34m(self, timestr, default, ignoretz, tzinfos, **kwargs)\u001b[0m\n\u001b[0;32m    640\u001b[0m res, skipped_tokens \u001b[38;5;241m=\u001b[39m \u001b[38;5;28mself\u001b[39m\u001b[38;5;241m.\u001b[39m_parse(timestr, \u001b[38;5;241m*\u001b[39m\u001b[38;5;241m*\u001b[39mkwargs)\n\u001b[0;32m    642\u001b[0m \u001b[38;5;28;01mif\u001b[39;00m res \u001b[38;5;129;01mis\u001b[39;00m \u001b[38;5;28;01mNone\u001b[39;00m:\n\u001b[1;32m--> 643\u001b[0m     \u001b[38;5;28;01mraise\u001b[39;00m ParserError(\u001b[38;5;124m\"\u001b[39m\u001b[38;5;124mUnknown string format: \u001b[39m\u001b[38;5;132;01m%s\u001b[39;00m\u001b[38;5;124m\"\u001b[39m, timestr)\n\u001b[0;32m    645\u001b[0m \u001b[38;5;28;01mif\u001b[39;00m \u001b[38;5;28mlen\u001b[39m(res) \u001b[38;5;241m==\u001b[39m \u001b[38;5;241m0\u001b[39m:\n\u001b[0;32m    646\u001b[0m     \u001b[38;5;28;01mraise\u001b[39;00m ParserError(\u001b[38;5;124m\"\u001b[39m\u001b[38;5;124mString does not contain a date: \u001b[39m\u001b[38;5;132;01m%s\u001b[39;00m\u001b[38;5;124m\"\u001b[39m, timestr)\n",
      "\u001b[1;31mParserError\u001b[0m: Unknown string format: Hello world"
     ]
    }
   ],
   "source": [
    "pd.to_datetime(dates)"
   ]
  },
  {
   "cell_type": "code",
   "execution_count": 91,
   "id": "921b9664",
   "metadata": {},
   "outputs": [
    {
     "data": {
      "text/plain": [
       "DatetimeIndex(['2022-01-01', '2021-02-02', '1991-07-04', 'NaT', 'NaT'], dtype='datetime64[ns]', freq=None)"
      ]
     },
     "execution_count": 91,
     "metadata": {},
     "output_type": "execute_result"
    }
   ],
   "source": [
    "pd.to_datetime(dates,errors=\"coerce\")"
   ]
  },
  {
   "cell_type": "markdown",
   "id": "cc95ee8a",
   "metadata": {},
   "source": [
    "## Create Range of Dates with the pd.date_range() Method, Part-1"
   ]
  },
  {
   "cell_type": "code",
   "execution_count": 6,
   "id": "9e7dbec6",
   "metadata": {},
   "outputs": [
    {
     "ename": "ValueError",
     "evalue": "Of the four parameters: start, end, periods, and freq, exactly three must be specified",
     "output_type": "error",
     "traceback": [
      "\u001b[1;31m---------------------------------------------------------------------------\u001b[0m",
      "\u001b[1;31mValueError\u001b[0m                                Traceback (most recent call last)",
      "Input \u001b[1;32mIn [6]\u001b[0m, in \u001b[0;36m<cell line: 1>\u001b[1;34m()\u001b[0m\n\u001b[1;32m----> 1\u001b[0m \u001b[43mpd\u001b[49m\u001b[38;5;241;43m.\u001b[39;49m\u001b[43mdate_range\u001b[49m\u001b[43m(\u001b[49m\u001b[43m)\u001b[49m\n",
      "File \u001b[1;32m~\\anaconda3\\lib\\site-packages\\pandas\\core\\indexes\\datetimes.py:1070\u001b[0m, in \u001b[0;36mdate_range\u001b[1;34m(start, end, periods, freq, tz, normalize, name, closed, inclusive, **kwargs)\u001b[0m\n\u001b[0;32m   1067\u001b[0m \u001b[38;5;28;01mif\u001b[39;00m freq \u001b[38;5;129;01mis\u001b[39;00m \u001b[38;5;28;01mNone\u001b[39;00m \u001b[38;5;129;01mand\u001b[39;00m com\u001b[38;5;241m.\u001b[39many_none(periods, start, end):\n\u001b[0;32m   1068\u001b[0m     freq \u001b[38;5;241m=\u001b[39m \u001b[38;5;124m\"\u001b[39m\u001b[38;5;124mD\u001b[39m\u001b[38;5;124m\"\u001b[39m\n\u001b[1;32m-> 1070\u001b[0m dtarr \u001b[38;5;241m=\u001b[39m DatetimeArray\u001b[38;5;241m.\u001b[39m_generate_range(\n\u001b[0;32m   1071\u001b[0m     start\u001b[38;5;241m=\u001b[39mstart,\n\u001b[0;32m   1072\u001b[0m     end\u001b[38;5;241m=\u001b[39mend,\n\u001b[0;32m   1073\u001b[0m     periods\u001b[38;5;241m=\u001b[39mperiods,\n\u001b[0;32m   1074\u001b[0m     freq\u001b[38;5;241m=\u001b[39mfreq,\n\u001b[0;32m   1075\u001b[0m     tz\u001b[38;5;241m=\u001b[39mtz,\n\u001b[0;32m   1076\u001b[0m     normalize\u001b[38;5;241m=\u001b[39mnormalize,\n\u001b[0;32m   1077\u001b[0m     inclusive\u001b[38;5;241m=\u001b[39minclusive,\n\u001b[0;32m   1078\u001b[0m     \u001b[38;5;241m*\u001b[39m\u001b[38;5;241m*\u001b[39mkwargs,\n\u001b[0;32m   1079\u001b[0m )\n\u001b[0;32m   1080\u001b[0m \u001b[38;5;28;01mreturn\u001b[39;00m DatetimeIndex\u001b[38;5;241m.\u001b[39m_simple_new(dtarr, name\u001b[38;5;241m=\u001b[39mname)\n",
      "File \u001b[1;32m~\\anaconda3\\lib\\site-packages\\pandas\\core\\arrays\\datetimes.py:405\u001b[0m, in \u001b[0;36mDatetimeArray._generate_range\u001b[1;34m(cls, start, end, periods, freq, tz, normalize, ambiguous, nonexistent, inclusive)\u001b[0m\n\u001b[0;32m    402\u001b[0m     \u001b[38;5;28;01mraise\u001b[39;00m \u001b[38;5;167;01mValueError\u001b[39;00m(\u001b[38;5;124m\"\u001b[39m\u001b[38;5;124mMust provide freq argument if no data is supplied\u001b[39m\u001b[38;5;124m\"\u001b[39m)\n\u001b[0;32m    404\u001b[0m \u001b[38;5;28;01mif\u001b[39;00m com\u001b[38;5;241m.\u001b[39mcount_not_none(start, end, periods, freq) \u001b[38;5;241m!=\u001b[39m \u001b[38;5;241m3\u001b[39m:\n\u001b[1;32m--> 405\u001b[0m     \u001b[38;5;28;01mraise\u001b[39;00m \u001b[38;5;167;01mValueError\u001b[39;00m(\n\u001b[0;32m    406\u001b[0m         \u001b[38;5;124m\"\u001b[39m\u001b[38;5;124mOf the four parameters: start, end, periods, \u001b[39m\u001b[38;5;124m\"\u001b[39m\n\u001b[0;32m    407\u001b[0m         \u001b[38;5;124m\"\u001b[39m\u001b[38;5;124mand freq, exactly three must be specified\u001b[39m\u001b[38;5;124m\"\u001b[39m\n\u001b[0;32m    408\u001b[0m     )\n\u001b[0;32m    409\u001b[0m freq \u001b[38;5;241m=\u001b[39m to_offset(freq)\n\u001b[0;32m    411\u001b[0m \u001b[38;5;28;01mif\u001b[39;00m start \u001b[38;5;129;01mis\u001b[39;00m \u001b[38;5;129;01mnot\u001b[39;00m \u001b[38;5;28;01mNone\u001b[39;00m:\n",
      "\u001b[1;31mValueError\u001b[0m: Of the four parameters: start, end, periods, and freq, exactly three must be specified"
     ]
    }
   ],
   "source": [
    "pd.date_range()"
   ]
  },
  {
   "cell_type": "code",
   "execution_count": 25,
   "id": "1df6be9e",
   "metadata": {},
   "outputs": [
    {
     "data": {
      "text/plain": [
       "DatetimeIndex(['2022-01-01', '2022-01-02', '2022-01-03', '2022-01-04',\n",
       "               '2022-01-05', '2022-01-06', '2022-01-07', '2022-01-08',\n",
       "               '2022-01-09', '2022-01-10',\n",
       "               ...\n",
       "               '2022-12-22', '2022-12-23', '2022-12-24', '2022-12-25',\n",
       "               '2022-12-26', '2022-12-27', '2022-12-28', '2022-12-29',\n",
       "               '2022-12-30', '2022-12-31'],\n",
       "              dtype='datetime64[ns]', length=365, freq='D')"
      ]
     },
     "execution_count": 25,
     "metadata": {},
     "output_type": "execute_result"
    }
   ],
   "source": [
    "pd.date_range(start=\"2022-1-1\",end=\"2022-12-31\",freq=\"D\")\n",
    "\n",
    "freq : str or DateOffset, default 'D'\n",
    "    Frequency strings can have multiples, e.g. '5H'. See\n",
    "    :ref:`here <timeseries.offset_aliases>` for a list of\n",
    "    frequency aliases."
   ]
  },
  {
   "cell_type": "code",
   "execution_count": 18,
   "id": "edf9b845",
   "metadata": {},
   "outputs": [
    {
     "data": {
      "text/plain": [
       "DatetimeIndex(['2022-01-01', '2022-01-03', '2022-01-05', '2022-01-07',\n",
       "               '2022-01-09', '2022-01-11', '2022-01-13', '2022-01-15',\n",
       "               '2022-01-17', '2022-01-19',\n",
       "               ...\n",
       "               '2022-11-23', '2022-11-25', '2022-11-27', '2022-11-29',\n",
       "               '2022-12-01', '2022-12-03', '2022-12-05', '2022-12-07',\n",
       "               '2022-12-09', '2022-12-11'],\n",
       "              dtype='datetime64[ns]', length=173, freq='2D')"
      ]
     },
     "execution_count": 18,
     "metadata": {},
     "output_type": "execute_result"
    }
   ],
   "source": [
    "pd.date_range(start=\"2022-1-1\",end=\"2022-12-12\",freq=\"2d\") \n",
    "#2d represent the two intravl between the dates"
   ]
  },
  {
   "cell_type": "code",
   "execution_count": 20,
   "id": "4349e062",
   "metadata": {},
   "outputs": [
    {
     "data": {
      "text/plain": [
       "DatetimeIndex(['2022-01-31', '2022-02-28', '2022-03-31', '2022-04-30',\n",
       "               '2022-05-31', '2022-06-30', '2022-07-31', '2022-08-31',\n",
       "               '2022-09-30', '2022-10-31', '2022-11-30'],\n",
       "              dtype='datetime64[ns]', freq='M')"
      ]
     },
     "execution_count": 20,
     "metadata": {},
     "output_type": "execute_result"
    }
   ],
   "source": [
    "pd.date_range(start=\"2022-1-1\",end=\"2022-12-12\",freq=\"M\") \n",
    "\n",
    "#Changed the `freq` (frequency) to ``'M'`` (month end frequeNCY)"
   ]
  },
  {
   "cell_type": "code",
   "execution_count": 27,
   "id": "d37ad071",
   "metadata": {},
   "outputs": [
    {
     "data": {
      "text/plain": [
       "DatetimeIndex(['2022-01-01', '2022-02-01', '2022-03-01', '2022-04-01',\n",
       "               '2022-05-01', '2022-06-01', '2022-07-01', '2022-08-01',\n",
       "               '2022-09-01', '2022-10-01', '2022-11-01', '2022-12-01'],\n",
       "              dtype='datetime64[ns]', freq='MS')"
      ]
     },
     "execution_count": 27,
     "metadata": {},
     "output_type": "execute_result"
    }
   ],
   "source": [
    "pd.date_range(start=\"2022-1-1\",end=\"2022-12-12\",freq=\"MS\") \n",
    "#Changed the `freq` (frequency) to ``'MS'`` (month start frequeNCY)"
   ]
  },
  {
   "cell_type": "code",
   "execution_count": 21,
   "id": "19c707ae",
   "metadata": {
    "scrolled": true
   },
   "outputs": [
    {
     "data": {
      "text/plain": [
       "DatetimeIndex(['2022-01-31', '2022-04-30', '2022-07-31', '2022-10-31'], dtype='datetime64[ns]', freq='3M')"
      ]
     },
     "execution_count": 21,
     "metadata": {},
     "output_type": "execute_result"
    }
   ],
   "source": [
    "pd.date_range(start=\"2022-1-1\",end=\"2022-12-12\",freq=\"3M\") \n"
   ]
  },
  {
   "cell_type": "code",
   "execution_count": 23,
   "id": "41e6bf58",
   "metadata": {},
   "outputs": [
    {
     "data": {
      "text/plain": [
       "DatetimeIndex(['2022-01-02', '2022-01-09', '2022-01-16', '2022-01-23',\n",
       "               '2022-01-30', '2022-02-06', '2022-02-13', '2022-02-20',\n",
       "               '2022-02-27', '2022-03-06', '2022-03-13', '2022-03-20',\n",
       "               '2022-03-27', '2022-04-03', '2022-04-10', '2022-04-17',\n",
       "               '2022-04-24', '2022-05-01', '2022-05-08', '2022-05-15',\n",
       "               '2022-05-22', '2022-05-29', '2022-06-05', '2022-06-12',\n",
       "               '2022-06-19', '2022-06-26', '2022-07-03', '2022-07-10',\n",
       "               '2022-07-17', '2022-07-24', '2022-07-31', '2022-08-07',\n",
       "               '2022-08-14', '2022-08-21', '2022-08-28', '2022-09-04',\n",
       "               '2022-09-11', '2022-09-18', '2022-09-25', '2022-10-02',\n",
       "               '2022-10-09', '2022-10-16', '2022-10-23', '2022-10-30',\n",
       "               '2022-11-06', '2022-11-13', '2022-11-20', '2022-11-27',\n",
       "               '2022-12-04', '2022-12-11'],\n",
       "              dtype='datetime64[ns]', freq='W-SUN')"
      ]
     },
     "execution_count": 23,
     "metadata": {},
     "output_type": "execute_result"
    }
   ],
   "source": [
    "pd.date_range(start=\"2022-1-1\",end=\"2022-12-12\",freq=\"W\") \n",
    "#freq='W-SUN' defalt weekday start with Sunday"
   ]
  },
  {
   "cell_type": "code",
   "execution_count": 24,
   "id": "06cd6af0",
   "metadata": {},
   "outputs": [
    {
     "data": {
      "text/plain": [
       "DatetimeIndex(['2022-01-03', '2022-01-10', '2022-01-17', '2022-01-24',\n",
       "               '2022-01-31', '2022-02-07', '2022-02-14', '2022-02-21',\n",
       "               '2022-02-28', '2022-03-07', '2022-03-14', '2022-03-21',\n",
       "               '2022-03-28', '2022-04-04', '2022-04-11', '2022-04-18',\n",
       "               '2022-04-25', '2022-05-02', '2022-05-09', '2022-05-16',\n",
       "               '2022-05-23', '2022-05-30', '2022-06-06', '2022-06-13',\n",
       "               '2022-06-20', '2022-06-27', '2022-07-04', '2022-07-11',\n",
       "               '2022-07-18', '2022-07-25', '2022-08-01', '2022-08-08',\n",
       "               '2022-08-15', '2022-08-22', '2022-08-29', '2022-09-05',\n",
       "               '2022-09-12', '2022-09-19', '2022-09-26', '2022-10-03',\n",
       "               '2022-10-10', '2022-10-17', '2022-10-24', '2022-10-31',\n",
       "               '2022-11-07', '2022-11-14', '2022-11-21', '2022-11-28',\n",
       "               '2022-12-05', '2022-12-12'],\n",
       "              dtype='datetime64[ns]', freq='W-MON')"
      ]
     },
     "execution_count": 24,
     "metadata": {},
     "output_type": "execute_result"
    }
   ],
   "source": [
    "pd.date_range(start=\"2022-1-1\",end=\"2022-12-12\",freq=\"W-mon\") \n"
   ]
  },
  {
   "cell_type": "markdown",
   "id": "b677460c",
   "metadata": {},
   "source": [
    "### Part-2"
   ]
  },
  {
   "cell_type": "code",
   "execution_count": 28,
   "id": "670949a6",
   "metadata": {},
   "outputs": [
    {
     "data": {
      "text/plain": [
       "DatetimeIndex(['2022-01-01', '2022-01-02', '2022-01-03', '2022-01-04',\n",
       "               '2022-01-05', '2022-01-06', '2022-01-07', '2022-01-08',\n",
       "               '2022-01-09', '2022-01-10', '2022-01-11', '2022-01-12',\n",
       "               '2022-01-13', '2022-01-14', '2022-01-15', '2022-01-16',\n",
       "               '2022-01-17', '2022-01-18', '2022-01-19', '2022-01-20',\n",
       "               '2022-01-21', '2022-01-22', '2022-01-23', '2022-01-24',\n",
       "               '2022-01-25', '2022-01-26', '2022-01-27', '2022-01-28',\n",
       "               '2022-01-29', '2022-01-30', '2022-01-31', '2022-02-01',\n",
       "               '2022-02-02', '2022-02-03', '2022-02-04', '2022-02-05',\n",
       "               '2022-02-06', '2022-02-07', '2022-02-08', '2022-02-09',\n",
       "               '2022-02-10', '2022-02-11', '2022-02-12', '2022-02-13',\n",
       "               '2022-02-14', '2022-02-15', '2022-02-16', '2022-02-17',\n",
       "               '2022-02-18', '2022-02-19'],\n",
       "              dtype='datetime64[ns]', freq='D')"
      ]
     },
     "execution_count": 28,
     "metadata": {},
     "output_type": "execute_result"
    }
   ],
   "source": [
    "pd.date_range(start=\"2022/01/01\",periods=50)"
   ]
  },
  {
   "cell_type": "code",
   "execution_count": 31,
   "id": "fbd6045f",
   "metadata": {},
   "outputs": [
    {
     "data": {
      "text/plain": [
       "DatetimeIndex(['2022-01-02', '2022-01-09', '2022-01-16', '2022-01-23',\n",
       "               '2022-01-30', '2022-02-06', '2022-02-13', '2022-02-20',\n",
       "               '2022-02-27', '2022-03-06', '2022-03-13', '2022-03-20',\n",
       "               '2022-03-27', '2022-04-03', '2022-04-10', '2022-04-17',\n",
       "               '2022-04-24', '2022-05-01', '2022-05-08', '2022-05-15',\n",
       "               '2022-05-22', '2022-05-29', '2022-06-05', '2022-06-12',\n",
       "               '2022-06-19', '2022-06-26', '2022-07-03', '2022-07-10',\n",
       "               '2022-07-17', '2022-07-24', '2022-07-31', '2022-08-07',\n",
       "               '2022-08-14', '2022-08-21', '2022-08-28', '2022-09-04',\n",
       "               '2022-09-11', '2022-09-18', '2022-09-25', '2022-10-02',\n",
       "               '2022-10-09', '2022-10-16', '2022-10-23', '2022-10-30',\n",
       "               '2022-11-06', '2022-11-13', '2022-11-20', '2022-11-27',\n",
       "               '2022-12-04', '2022-12-11'],\n",
       "              dtype='datetime64[ns]', freq='W-SUN')"
      ]
     },
     "execution_count": 31,
     "metadata": {},
     "output_type": "execute_result"
    }
   ],
   "source": [
    "pd.date_range(start=\"2022/01/01\",periods=50,freq=\"W\")"
   ]
  },
  {
   "cell_type": "code",
   "execution_count": 33,
   "id": "3ce35b1b",
   "metadata": {},
   "outputs": [
    {
     "data": {
      "text/plain": [
       "DatetimeIndex(['2022-01-03', '2022-01-04', '2022-01-05', '2022-01-06',\n",
       "               '2022-01-07', '2022-01-10', '2022-01-11', '2022-01-12',\n",
       "               '2022-01-13', '2022-01-14', '2022-01-17', '2022-01-18',\n",
       "               '2022-01-19', '2022-01-20', '2022-01-21', '2022-01-24',\n",
       "               '2022-01-25', '2022-01-26', '2022-01-27', '2022-01-28',\n",
       "               '2022-01-31', '2022-02-01', '2022-02-02', '2022-02-03',\n",
       "               '2022-02-04', '2022-02-07', '2022-02-08', '2022-02-09',\n",
       "               '2022-02-10', '2022-02-11', '2022-02-14', '2022-02-15',\n",
       "               '2022-02-16', '2022-02-17', '2022-02-18', '2022-02-21',\n",
       "               '2022-02-22', '2022-02-23', '2022-02-24', '2022-02-25',\n",
       "               '2022-02-28', '2022-03-01', '2022-03-02', '2022-03-03',\n",
       "               '2022-03-04', '2022-03-07', '2022-03-08', '2022-03-09',\n",
       "               '2022-03-10', '2022-03-11'],\n",
       "              dtype='datetime64[ns]', freq='B')"
      ]
     },
     "execution_count": 33,
     "metadata": {},
     "output_type": "execute_result"
    }
   ],
   "source": [
    "pd.date_range(start=\"2022/01/01\",periods=50,freq=\"B\")\n",
    "#freq=\"B\" -----> Bussines days, except Sunday and Sat"
   ]
  },
  {
   "cell_type": "code",
   "execution_count": 34,
   "id": "0f8c0b5e",
   "metadata": {},
   "outputs": [
    {
     "data": {
      "text/plain": [
       "DatetimeIndex(['2022-01-04', '2022-01-11', '2022-01-18', '2022-01-25',\n",
       "               '2022-02-01', '2022-02-08', '2022-02-15', '2022-02-22',\n",
       "               '2022-03-01', '2022-03-08', '2022-03-15', '2022-03-22',\n",
       "               '2022-03-29', '2022-04-05', '2022-04-12', '2022-04-19',\n",
       "               '2022-04-26', '2022-05-03', '2022-05-10', '2022-05-17',\n",
       "               '2022-05-24', '2022-05-31', '2022-06-07', '2022-06-14',\n",
       "               '2022-06-21', '2022-06-28', '2022-07-05', '2022-07-12',\n",
       "               '2022-07-19', '2022-07-26', '2022-08-02', '2022-08-09',\n",
       "               '2022-08-16', '2022-08-23', '2022-08-30', '2022-09-06',\n",
       "               '2022-09-13', '2022-09-20', '2022-09-27', '2022-10-04',\n",
       "               '2022-10-11', '2022-10-18', '2022-10-25', '2022-11-01',\n",
       "               '2022-11-08', '2022-11-15', '2022-11-22', '2022-11-29',\n",
       "               '2022-12-06', '2022-12-13'],\n",
       "              dtype='datetime64[ns]', freq='W-TUE')"
      ]
     },
     "execution_count": 34,
     "metadata": {},
     "output_type": "execute_result"
    }
   ],
   "source": [
    "pd.date_range(start=\"2022/01/01\",periods=50,freq=\"W-Tue\")"
   ]
  },
  {
   "cell_type": "code",
   "execution_count": 37,
   "id": "ff033fc2",
   "metadata": {},
   "outputs": [
    {
     "data": {
      "text/plain": [
       "DatetimeIndex(['2022-12-31', '2023-12-31', '2024-12-31', '2025-12-31',\n",
       "               '2026-12-31', '2027-12-31', '2028-12-31', '2029-12-31',\n",
       "               '2030-12-31', '2031-12-31', '2032-12-31', '2033-12-31',\n",
       "               '2034-12-31', '2035-12-31', '2036-12-31', '2037-12-31',\n",
       "               '2038-12-31', '2039-12-31', '2040-12-31', '2041-12-31',\n",
       "               '2042-12-31', '2043-12-31', '2044-12-31', '2045-12-31',\n",
       "               '2046-12-31', '2047-12-31', '2048-12-31', '2049-12-31',\n",
       "               '2050-12-31', '2051-12-31', '2052-12-31', '2053-12-31',\n",
       "               '2054-12-31', '2055-12-31', '2056-12-31', '2057-12-31',\n",
       "               '2058-12-31', '2059-12-31', '2060-12-31', '2061-12-31',\n",
       "               '2062-12-31', '2063-12-31', '2064-12-31', '2065-12-31',\n",
       "               '2066-12-31', '2067-12-31', '2068-12-31', '2069-12-31',\n",
       "               '2070-12-31', '2071-12-31'],\n",
       "              dtype='datetime64[ns]', freq='A-DEC')"
      ]
     },
     "execution_count": 37,
     "metadata": {},
     "output_type": "execute_result"
    }
   ],
   "source": [
    "pd.date_range(start=\"2022/01/01\",periods=50,freq=\"A\")\n",
    "#Changed the `freq` (frequency) to ``'A'`` (Year end frequeNCY)"
   ]
  },
  {
   "cell_type": "markdown",
   "id": "060cfba1",
   "metadata": {},
   "source": [
    "### Part-3"
   ]
  },
  {
   "cell_type": "code",
   "execution_count": 39,
   "id": "a70aeef2",
   "metadata": {},
   "outputs": [
    {
     "data": {
      "text/plain": [
       "DatetimeIndex(['1999-12-13', '1999-12-14', '1999-12-15', '1999-12-16',\n",
       "               '1999-12-17', '1999-12-18', '1999-12-19', '1999-12-20',\n",
       "               '1999-12-21', '1999-12-22', '1999-12-23', '1999-12-24',\n",
       "               '1999-12-25', '1999-12-26', '1999-12-27', '1999-12-28',\n",
       "               '1999-12-29', '1999-12-30', '1999-12-31', '2000-01-01'],\n",
       "              dtype='datetime64[ns]', freq='D')"
      ]
     },
     "execution_count": 39,
     "metadata": {},
     "output_type": "execute_result"
    }
   ],
   "source": [
    "pd.date_range(end=\"2000/01/01\",periods=20,)"
   ]
  },
  {
   "cell_type": "code",
   "execution_count": 48,
   "id": "7963e81b",
   "metadata": {},
   "outputs": [
    {
     "data": {
      "text/plain": [
       "DatetimeIndex(['1998-05-31', '1998-06-30', '1998-07-31', '1998-08-31',\n",
       "               '1998-09-30', '1998-10-31', '1998-11-30', '1998-12-31',\n",
       "               '1999-01-31', '1999-02-28', '1999-03-31', '1999-04-30',\n",
       "               '1999-05-31', '1999-06-30', '1999-07-31', '1999-08-31',\n",
       "               '1999-09-30', '1999-10-31', '1999-11-30', '1999-12-31'],\n",
       "              dtype='datetime64[ns]', freq='M')"
      ]
     },
     "execution_count": 48,
     "metadata": {},
     "output_type": "execute_result"
    }
   ],
   "source": [
    "pd.date_range(end=\"2000/01/01\",periods=20,freq=\"M\")"
   ]
  },
  {
   "cell_type": "code",
   "execution_count": 42,
   "id": "86ede556",
   "metadata": {},
   "outputs": [
    {
     "data": {
      "text/plain": [
       "DatetimeIndex(['1999-12-06', '1999-12-07', '1999-12-08', '1999-12-09',\n",
       "               '1999-12-10', '1999-12-13', '1999-12-14', '1999-12-15',\n",
       "               '1999-12-16', '1999-12-17', '1999-12-20', '1999-12-21',\n",
       "               '1999-12-22', '1999-12-23', '1999-12-24', '1999-12-27',\n",
       "               '1999-12-28', '1999-12-29', '1999-12-30', '1999-12-31'],\n",
       "              dtype='datetime64[ns]', freq='B')"
      ]
     },
     "execution_count": 42,
     "metadata": {},
     "output_type": "execute_result"
    }
   ],
   "source": [
    "pd.date_range(end=\"2000/01/01\",periods=20,freq=\"B\")"
   ]
  },
  {
   "cell_type": "markdown",
   "id": "23739ba5",
   "metadata": {},
   "source": [
    "## The .dt Accessor"
   ]
  },
  {
   "cell_type": "code",
   "execution_count": 54,
   "id": "43556de8",
   "metadata": {},
   "outputs": [
    {
     "data": {
      "text/plain": [
       "DatetimeIndex(['2020-01-01', '2020-01-02', '2020-01-03', '2020-01-04',\n",
       "               '2020-01-05', '2020-01-06', '2020-01-07', '2020-01-08',\n",
       "               '2020-01-09', '2020-01-10', '2020-01-11', '2020-01-12',\n",
       "               '2020-01-13', '2020-01-14', '2020-01-15', '2020-01-16',\n",
       "               '2020-01-17', '2020-01-18', '2020-01-19', '2020-01-20',\n",
       "               '2020-01-21', '2020-01-22', '2020-01-23', '2020-01-24',\n",
       "               '2020-01-25', '2020-01-26', '2020-01-27', '2020-01-28',\n",
       "               '2020-01-29', '2020-01-30', '2020-01-31', '2020-02-01',\n",
       "               '2020-02-02', '2020-02-03', '2020-02-04', '2020-02-05',\n",
       "               '2020-02-06', '2020-02-07', '2020-02-08', '2020-02-09',\n",
       "               '2020-02-10', '2020-02-11', '2020-02-12', '2020-02-13',\n",
       "               '2020-02-14', '2020-02-15', '2020-02-16', '2020-02-17',\n",
       "               '2020-02-18', '2020-02-19', '2020-02-20', '2020-02-21',\n",
       "               '2020-02-22', '2020-02-23', '2020-02-24', '2020-02-25',\n",
       "               '2020-02-26', '2020-02-27', '2020-02-28', '2020-02-29',\n",
       "               '2020-03-01', '2020-03-02', '2020-03-03', '2020-03-04',\n",
       "               '2020-03-05', '2020-03-06', '2020-03-07', '2020-03-08',\n",
       "               '2020-03-09', '2020-03-10', '2020-03-11', '2020-03-12',\n",
       "               '2020-03-13', '2020-03-14', '2020-03-15', '2020-03-16',\n",
       "               '2020-03-17', '2020-03-18', '2020-03-19', '2020-03-20',\n",
       "               '2020-03-21', '2020-03-22', '2020-03-23', '2020-03-24',\n",
       "               '2020-03-25', '2020-03-26', '2020-03-27', '2020-03-28',\n",
       "               '2020-03-29', '2020-03-30', '2020-03-31', '2020-04-01',\n",
       "               '2020-04-02', '2020-04-03', '2020-04-04', '2020-04-05',\n",
       "               '2020-04-06', '2020-04-07', '2020-04-08', '2020-04-09'],\n",
       "              dtype='datetime64[ns]', freq='D')"
      ]
     },
     "execution_count": 54,
     "metadata": {},
     "output_type": "execute_result"
    }
   ],
   "source": [
    "bunch_of_date=pd.date_range(start=\"2020-01-01\",periods=100)\n",
    "bunch_of_date"
   ]
  },
  {
   "cell_type": "code",
   "execution_count": 56,
   "id": "7abb6271",
   "metadata": {},
   "outputs": [
    {
     "data": {
      "text/plain": [
       "0    2020-01-01\n",
       "1    2020-01-02\n",
       "2    2020-01-03\n",
       "3    2020-01-04\n",
       "4    2020-01-05\n",
       "        ...    \n",
       "95   2020-04-05\n",
       "96   2020-04-06\n",
       "97   2020-04-07\n",
       "98   2020-04-08\n",
       "99   2020-04-09\n",
       "Length: 100, dtype: datetime64[ns]"
      ]
     },
     "execution_count": 56,
     "metadata": {},
     "output_type": "execute_result"
    }
   ],
   "source": [
    "s=pd.Series(bunch_of_date)\n",
    "s"
   ]
  },
  {
   "cell_type": "code",
   "execution_count": 59,
   "id": "c9ae98f8",
   "metadata": {},
   "outputs": [
    {
     "data": {
      "text/plain": [
       "0     2020\n",
       "1     2020\n",
       "2     2020\n",
       "3     2020\n",
       "4     2020\n",
       "      ... \n",
       "95    2020\n",
       "96    2020\n",
       "97    2020\n",
       "98    2020\n",
       "99    2020\n",
       "Length: 100, dtype: int64"
      ]
     },
     "execution_count": 59,
     "metadata": {},
     "output_type": "execute_result"
    }
   ],
   "source": [
    "s.dt.year # extracting the year only"
   ]
  },
  {
   "cell_type": "code",
   "execution_count": 60,
   "id": "ba74b703",
   "metadata": {},
   "outputs": [
    {
     "data": {
      "text/plain": [
       "0     1\n",
       "1     1\n",
       "2     1\n",
       "3     1\n",
       "4     1\n",
       "     ..\n",
       "95    4\n",
       "96    4\n",
       "97    4\n",
       "98    4\n",
       "99    4\n",
       "Length: 100, dtype: int64"
      ]
     },
     "execution_count": 60,
     "metadata": {},
     "output_type": "execute_result"
    }
   ],
   "source": [
    "s.dt.month # extracting the year only"
   ]
  },
  {
   "cell_type": "code",
   "execution_count": 62,
   "id": "f711a501",
   "metadata": {},
   "outputs": [
    {
     "data": {
      "text/plain": [
       "0     January\n",
       "1     January\n",
       "2     January\n",
       "3     January\n",
       "4     January\n",
       "       ...   \n",
       "95      April\n",
       "96      April\n",
       "97      April\n",
       "98      April\n",
       "99      April\n",
       "Length: 100, dtype: object"
      ]
     },
     "execution_count": 62,
     "metadata": {},
     "output_type": "execute_result"
    }
   ],
   "source": [
    "s.dt.month_name()"
   ]
  },
  {
   "cell_type": "code",
   "execution_count": 69,
   "id": "744720a3",
   "metadata": {},
   "outputs": [
    {
     "data": {
      "text/plain": [
       "0    2020-01-01\n",
       "91   2020-04-01\n",
       "dtype: datetime64[ns]"
      ]
     },
     "execution_count": 69,
     "metadata": {},
     "output_type": "execute_result"
    }
   ],
   "source": [
    "s[s.dt.is_quarter_start] #first its  give bool value"
   ]
  },
  {
   "cell_type": "code",
   "execution_count": 73,
   "id": "2809701c",
   "metadata": {},
   "outputs": [
    {
     "data": {
      "text/plain": [
       "30   2020-01-31\n",
       "59   2020-02-29\n",
       "90   2020-03-31\n",
       "dtype: datetime64[ns]"
      ]
     },
     "execution_count": 73,
     "metadata": {},
     "output_type": "execute_result"
    }
   ],
   "source": [
    "s[s.dt.is_month_end]"
   ]
  },
  {
   "cell_type": "markdown",
   "id": "980f3c6b",
   "metadata": {},
   "source": [
    "## Import Financial Data Set with pandas_datareader Library"
   ]
  },
  {
   "cell_type": "code",
   "execution_count": 3,
   "id": "9d9a1e1d",
   "metadata": {},
   "outputs": [],
   "source": [
    "import pandas as pd\n",
    "import datetime as dt\n",
    "from pandas_datareader import data"
   ]
  },
  {
   "cell_type": "code",
   "execution_count": 4,
   "id": "d9b65b7f",
   "metadata": {},
   "outputs": [
    {
     "data": {
      "text/html": [
       "<div>\n",
       "<style scoped>\n",
       "    .dataframe tbody tr th:only-of-type {\n",
       "        vertical-align: middle;\n",
       "    }\n",
       "\n",
       "    .dataframe tbody tr th {\n",
       "        vertical-align: top;\n",
       "    }\n",
       "\n",
       "    .dataframe thead th {\n",
       "        text-align: right;\n",
       "    }\n",
       "</style>\n",
       "<table border=\"1\" class=\"dataframe\">\n",
       "  <thead>\n",
       "    <tr style=\"text-align: right;\">\n",
       "      <th></th>\n",
       "      <th>High</th>\n",
       "      <th>Low</th>\n",
       "      <th>Open</th>\n",
       "      <th>Close</th>\n",
       "      <th>Volume</th>\n",
       "      <th>Adj Close</th>\n",
       "    </tr>\n",
       "    <tr>\n",
       "      <th>Date</th>\n",
       "      <th></th>\n",
       "      <th></th>\n",
       "      <th></th>\n",
       "      <th></th>\n",
       "      <th></th>\n",
       "      <th></th>\n",
       "    </tr>\n",
       "  </thead>\n",
       "  <tbody>\n",
       "    <tr>\n",
       "      <th>1990-01-02</th>\n",
       "      <td>0.616319</td>\n",
       "      <td>0.598090</td>\n",
       "      <td>0.605903</td>\n",
       "      <td>0.616319</td>\n",
       "      <td>53035200.0</td>\n",
       "      <td>0.386570</td>\n",
       "    </tr>\n",
       "    <tr>\n",
       "      <th>1990-01-03</th>\n",
       "      <td>0.626736</td>\n",
       "      <td>0.614583</td>\n",
       "      <td>0.621528</td>\n",
       "      <td>0.619792</td>\n",
       "      <td>113774400.0</td>\n",
       "      <td>0.388748</td>\n",
       "    </tr>\n",
       "    <tr>\n",
       "      <th>1990-01-04</th>\n",
       "      <td>0.638889</td>\n",
       "      <td>0.616319</td>\n",
       "      <td>0.619792</td>\n",
       "      <td>0.638021</td>\n",
       "      <td>125740800.0</td>\n",
       "      <td>0.400182</td>\n",
       "    </tr>\n",
       "    <tr>\n",
       "      <th>1990-01-05</th>\n",
       "      <td>0.638889</td>\n",
       "      <td>0.621528</td>\n",
       "      <td>0.635417</td>\n",
       "      <td>0.622396</td>\n",
       "      <td>69566400.0</td>\n",
       "      <td>0.390381</td>\n",
       "    </tr>\n",
       "    <tr>\n",
       "      <th>1990-01-08</th>\n",
       "      <td>0.631944</td>\n",
       "      <td>0.614583</td>\n",
       "      <td>0.621528</td>\n",
       "      <td>0.631944</td>\n",
       "      <td>58982400.0</td>\n",
       "      <td>0.396370</td>\n",
       "    </tr>\n",
       "  </tbody>\n",
       "</table>\n",
       "</div>"
      ],
      "text/plain": [
       "                High       Low      Open     Close       Volume  Adj Close\n",
       "Date                                                                      \n",
       "1990-01-02  0.616319  0.598090  0.605903  0.616319   53035200.0   0.386570\n",
       "1990-01-03  0.626736  0.614583  0.621528  0.619792  113774400.0   0.388748\n",
       "1990-01-04  0.638889  0.616319  0.619792  0.638021  125740800.0   0.400182\n",
       "1990-01-05  0.638889  0.621528  0.635417  0.622396   69566400.0   0.390381\n",
       "1990-01-08  0.631944  0.614583  0.621528  0.631944   58982400.0   0.396370"
      ]
     },
     "execution_count": 4,
     "metadata": {},
     "output_type": "execute_result"
    }
   ],
   "source": [
    "stocks=data.DataReader(name=\"MSFT\",data_source=\"yahoo\",start=\"1990-1-1\",end=\"2021-12-31\")\n",
    "stocks.head()"
   ]
  },
  {
   "cell_type": "code",
   "execution_count": 48,
   "id": "b38c47a2",
   "metadata": {},
   "outputs": [
    {
     "data": {
      "text/plain": [
       "DatetimeIndex(['1990-01-02', '1990-01-03', '1990-01-04', '1990-01-05',\n",
       "               '1990-01-08', '1990-01-09', '1990-01-10', '1990-01-11',\n",
       "               '1990-01-12', '1990-01-15',\n",
       "               ...\n",
       "               '2021-12-17', '2021-12-20', '2021-12-21', '2021-12-22',\n",
       "               '2021-12-23', '2021-12-27', '2021-12-28', '2021-12-29',\n",
       "               '2021-12-30', '2021-12-31'],\n",
       "              dtype='datetime64[ns]', name='Date', length=8064, freq=None)"
      ]
     },
     "execution_count": 48,
     "metadata": {},
     "output_type": "execute_result"
    }
   ],
   "source": [
    "stocks.index"
   ]
  },
  {
   "cell_type": "code",
   "execution_count": 49,
   "id": "aac45b20",
   "metadata": {},
   "outputs": [
    {
     "data": {
      "text/plain": [
       "Index(['High', 'Low', 'Open', 'Close', 'Volume', 'Adj Close'], dtype='object')"
      ]
     },
     "execution_count": 49,
     "metadata": {},
     "output_type": "execute_result"
    }
   ],
   "source": [
    "stocks.columns"
   ]
  },
  {
   "cell_type": "code",
   "execution_count": 50,
   "id": "9dbbeafc",
   "metadata": {},
   "outputs": [
    {
     "data": {
      "text/plain": [
       "array([[6.16319001e-01, 5.98089993e-01, 6.05903029e-01, 6.16319001e-01,\n",
       "        5.30352000e+07, 3.86569798e-01],\n",
       "       [6.26735985e-01, 6.14583015e-01, 6.21528029e-01, 6.19791985e-01,\n",
       "        1.13774400e+08, 3.88748080e-01],\n",
       "       [6.38889015e-01, 6.16319001e-01, 6.19791985e-01, 6.38020992e-01,\n",
       "        1.25740800e+08, 4.00181860e-01],\n",
       "       ...,\n",
       "       [3.44299988e+02, 3.39679993e+02, 3.41299988e+02, 3.41950012e+02,\n",
       "        1.50420000e+07, 3.39730377e+02],\n",
       "       [3.43130005e+02, 3.38820007e+02, 3.41910004e+02, 3.39320007e+02,\n",
       "        1.59945000e+07, 3.37117432e+02],\n",
       "       [3.39359985e+02, 3.35850006e+02, 3.38510010e+02, 3.36320007e+02,\n",
       "        1.80008000e+07, 3.34136932e+02]])"
      ]
     },
     "execution_count": 50,
     "metadata": {},
     "output_type": "execute_result"
    }
   ],
   "source": [
    "stocks.values"
   ]
  },
  {
   "cell_type": "code",
   "execution_count": 51,
   "id": "c364332b",
   "metadata": {},
   "outputs": [
    {
     "data": {
      "text/plain": [
       "[DatetimeIndex(['1990-01-02', '1990-01-03', '1990-01-04', '1990-01-05',\n",
       "                '1990-01-08', '1990-01-09', '1990-01-10', '1990-01-11',\n",
       "                '1990-01-12', '1990-01-15',\n",
       "                ...\n",
       "                '2021-12-17', '2021-12-20', '2021-12-21', '2021-12-22',\n",
       "                '2021-12-23', '2021-12-27', '2021-12-28', '2021-12-29',\n",
       "                '2021-12-30', '2021-12-31'],\n",
       "               dtype='datetime64[ns]', name='Date', length=8064, freq=None),\n",
       " Index(['High', 'Low', 'Open', 'Close', 'Volume', 'Adj Close'], dtype='object')]"
      ]
     },
     "execution_count": 51,
     "metadata": {},
     "output_type": "execute_result"
    }
   ],
   "source": [
    "stocks.axes"
   ]
  },
  {
   "cell_type": "markdown",
   "id": "54cd36e3",
   "metadata": {},
   "source": [
    "## Selecting Rows from a DataFrame with a DatetimeIndex"
   ]
  },
  {
   "cell_type": "code",
   "execution_count": 52,
   "id": "f9bba11e",
   "metadata": {
    "scrolled": true
   },
   "outputs": [
    {
     "data": {
      "text/html": [
       "<div>\n",
       "<style scoped>\n",
       "    .dataframe tbody tr th:only-of-type {\n",
       "        vertical-align: middle;\n",
       "    }\n",
       "\n",
       "    .dataframe tbody tr th {\n",
       "        vertical-align: top;\n",
       "    }\n",
       "\n",
       "    .dataframe thead th {\n",
       "        text-align: right;\n",
       "    }\n",
       "</style>\n",
       "<table border=\"1\" class=\"dataframe\">\n",
       "  <thead>\n",
       "    <tr style=\"text-align: right;\">\n",
       "      <th></th>\n",
       "      <th>High</th>\n",
       "      <th>Low</th>\n",
       "      <th>Open</th>\n",
       "      <th>Close</th>\n",
       "      <th>Volume</th>\n",
       "      <th>Adj Close</th>\n",
       "    </tr>\n",
       "    <tr>\n",
       "      <th>Date</th>\n",
       "      <th></th>\n",
       "      <th></th>\n",
       "      <th></th>\n",
       "      <th></th>\n",
       "      <th></th>\n",
       "      <th></th>\n",
       "    </tr>\n",
       "  </thead>\n",
       "  <tbody>\n",
       "    <tr>\n",
       "      <th>1990-01-02</th>\n",
       "      <td>0.616319</td>\n",
       "      <td>0.598090</td>\n",
       "      <td>0.605903</td>\n",
       "      <td>0.616319</td>\n",
       "      <td>53035200.0</td>\n",
       "      <td>0.386570</td>\n",
       "    </tr>\n",
       "    <tr>\n",
       "      <th>1990-01-03</th>\n",
       "      <td>0.626736</td>\n",
       "      <td>0.614583</td>\n",
       "      <td>0.621528</td>\n",
       "      <td>0.619792</td>\n",
       "      <td>113774400.0</td>\n",
       "      <td>0.388748</td>\n",
       "    </tr>\n",
       "    <tr>\n",
       "      <th>1990-01-04</th>\n",
       "      <td>0.638889</td>\n",
       "      <td>0.616319</td>\n",
       "      <td>0.619792</td>\n",
       "      <td>0.638021</td>\n",
       "      <td>125740800.0</td>\n",
       "      <td>0.400182</td>\n",
       "    </tr>\n",
       "    <tr>\n",
       "      <th>1990-01-05</th>\n",
       "      <td>0.638889</td>\n",
       "      <td>0.621528</td>\n",
       "      <td>0.635417</td>\n",
       "      <td>0.622396</td>\n",
       "      <td>69566400.0</td>\n",
       "      <td>0.390381</td>\n",
       "    </tr>\n",
       "    <tr>\n",
       "      <th>1990-01-08</th>\n",
       "      <td>0.631944</td>\n",
       "      <td>0.614583</td>\n",
       "      <td>0.621528</td>\n",
       "      <td>0.631944</td>\n",
       "      <td>58982400.0</td>\n",
       "      <td>0.396370</td>\n",
       "    </tr>\n",
       "  </tbody>\n",
       "</table>\n",
       "</div>"
      ],
      "text/plain": [
       "                High       Low      Open     Close       Volume  Adj Close\n",
       "Date                                                                      \n",
       "1990-01-02  0.616319  0.598090  0.605903  0.616319   53035200.0   0.386570\n",
       "1990-01-03  0.626736  0.614583  0.621528  0.619792  113774400.0   0.388748\n",
       "1990-01-04  0.638889  0.616319  0.619792  0.638021  125740800.0   0.400182\n",
       "1990-01-05  0.638889  0.621528  0.635417  0.622396   69566400.0   0.390381\n",
       "1990-01-08  0.631944  0.614583  0.621528  0.631944   58982400.0   0.396370"
      ]
     },
     "execution_count": 52,
     "metadata": {},
     "output_type": "execute_result"
    }
   ],
   "source": [
    "stocks.head()"
   ]
  },
  {
   "cell_type": "code",
   "execution_count": 53,
   "id": "4b6945f9",
   "metadata": {},
   "outputs": [
    {
     "data": {
      "text/plain": [
       "High         2.230000e+02\n",
       "Low          2.196800e+02\n",
       "Open         2.217000e+02\n",
       "Close        2.224200e+02\n",
       "Volume       2.094210e+07\n",
       "Adj Close    2.191394e+02\n",
       "Name: 2020-12-31 00:00:00, dtype: float64"
      ]
     },
     "execution_count": 53,
     "metadata": {},
     "output_type": "execute_result"
    }
   ],
   "source": [
    "stocks.loc[pd.Timestamp(\"2020-12-31\")] # for .loc we should use [] "
   ]
  },
  {
   "cell_type": "code",
   "execution_count": 54,
   "id": "dbc30c51",
   "metadata": {},
   "outputs": [
    {
     "data": {
      "text/plain": [
       "High         6.163190e-01\n",
       "Low          5.980900e-01\n",
       "Open         6.059030e-01\n",
       "Close        6.163190e-01\n",
       "Volume       5.303520e+07\n",
       "Adj Close    3.865698e-01\n",
       "Name: 1990-01-02 00:00:00, dtype: float64"
      ]
     },
     "execution_count": 54,
     "metadata": {},
     "output_type": "execute_result"
    }
   ],
   "source": [
    "stocks.iloc[0]"
   ]
  },
  {
   "cell_type": "code",
   "execution_count": 55,
   "id": "bc9e4e23",
   "metadata": {},
   "outputs": [
    {
     "data": {
      "text/html": [
       "<div>\n",
       "<style scoped>\n",
       "    .dataframe tbody tr th:only-of-type {\n",
       "        vertical-align: middle;\n",
       "    }\n",
       "\n",
       "    .dataframe tbody tr th {\n",
       "        vertical-align: top;\n",
       "    }\n",
       "\n",
       "    .dataframe thead th {\n",
       "        text-align: right;\n",
       "    }\n",
       "</style>\n",
       "<table border=\"1\" class=\"dataframe\">\n",
       "  <thead>\n",
       "    <tr style=\"text-align: right;\">\n",
       "      <th></th>\n",
       "      <th>High</th>\n",
       "      <th>Low</th>\n",
       "      <th>Open</th>\n",
       "      <th>Close</th>\n",
       "      <th>Volume</th>\n",
       "      <th>Adj Close</th>\n",
       "    </tr>\n",
       "    <tr>\n",
       "      <th>Date</th>\n",
       "      <th></th>\n",
       "      <th></th>\n",
       "      <th></th>\n",
       "      <th></th>\n",
       "      <th></th>\n",
       "      <th></th>\n",
       "    </tr>\n",
       "  </thead>\n",
       "  <tbody>\n",
       "    <tr>\n",
       "      <th>2020-12-31</th>\n",
       "      <td>223.0</td>\n",
       "      <td>219.679993</td>\n",
       "      <td>221.699997</td>\n",
       "      <td>222.419998</td>\n",
       "      <td>20942100.0</td>\n",
       "      <td>219.139359</td>\n",
       "    </tr>\n",
       "    <tr>\n",
       "      <th>2021-01-04</th>\n",
       "      <td>223.0</td>\n",
       "      <td>214.809998</td>\n",
       "      <td>222.529999</td>\n",
       "      <td>217.690002</td>\n",
       "      <td>37130100.0</td>\n",
       "      <td>214.479095</td>\n",
       "    </tr>\n",
       "  </tbody>\n",
       "</table>\n",
       "</div>"
      ],
      "text/plain": [
       "             High         Low        Open       Close      Volume   Adj Close\n",
       "Date                                                                         \n",
       "2020-12-31  223.0  219.679993  221.699997  222.419998  20942100.0  219.139359\n",
       "2021-01-04  223.0  214.809998  222.529999  217.690002  37130100.0  214.479095"
      ]
     },
     "execution_count": 55,
     "metadata": {},
     "output_type": "execute_result"
    }
   ],
   "source": [
    "stocks.loc[['2020-12-31','2021-01-04']]"
   ]
  },
  {
   "cell_type": "code",
   "execution_count": 56,
   "id": "0247b60d",
   "metadata": {},
   "outputs": [
    {
     "ename": "KeyError",
     "evalue": "'2021-01-04'",
     "output_type": "error",
     "traceback": [
      "\u001b[1;31m---------------------------------------------------------------------------\u001b[0m",
      "\u001b[1;31mKeyError\u001b[0m                                  Traceback (most recent call last)",
      "File \u001b[1;32m~\\anaconda3\\lib\\site-packages\\pandas\\core\\indexes\\base.py:3621\u001b[0m, in \u001b[0;36mIndex.get_loc\u001b[1;34m(self, key, method, tolerance)\u001b[0m\n\u001b[0;32m   3620\u001b[0m \u001b[38;5;28;01mtry\u001b[39;00m:\n\u001b[1;32m-> 3621\u001b[0m     \u001b[38;5;28;01mreturn\u001b[39;00m \u001b[38;5;28;43mself\u001b[39;49m\u001b[38;5;241;43m.\u001b[39;49m\u001b[43m_engine\u001b[49m\u001b[38;5;241;43m.\u001b[39;49m\u001b[43mget_loc\u001b[49m\u001b[43m(\u001b[49m\u001b[43mcasted_key\u001b[49m\u001b[43m)\u001b[49m\n\u001b[0;32m   3622\u001b[0m \u001b[38;5;28;01mexcept\u001b[39;00m \u001b[38;5;167;01mKeyError\u001b[39;00m \u001b[38;5;28;01mas\u001b[39;00m err:\n",
      "File \u001b[1;32m~\\anaconda3\\lib\\site-packages\\pandas\\_libs\\index.pyx:136\u001b[0m, in \u001b[0;36mpandas._libs.index.IndexEngine.get_loc\u001b[1;34m()\u001b[0m\n",
      "File \u001b[1;32m~\\anaconda3\\lib\\site-packages\\pandas\\_libs\\index.pyx:163\u001b[0m, in \u001b[0;36mpandas._libs.index.IndexEngine.get_loc\u001b[1;34m()\u001b[0m\n",
      "File \u001b[1;32mpandas\\_libs\\hashtable_class_helper.pxi:5198\u001b[0m, in \u001b[0;36mpandas._libs.hashtable.PyObjectHashTable.get_item\u001b[1;34m()\u001b[0m\n",
      "File \u001b[1;32mpandas\\_libs\\hashtable_class_helper.pxi:5206\u001b[0m, in \u001b[0;36mpandas._libs.hashtable.PyObjectHashTable.get_item\u001b[1;34m()\u001b[0m\n",
      "\u001b[1;31mKeyError\u001b[0m: '2021-01-04'",
      "\nThe above exception was the direct cause of the following exception:\n",
      "\u001b[1;31mKeyError\u001b[0m                                  Traceback (most recent call last)",
      "Input \u001b[1;32mIn [56]\u001b[0m, in \u001b[0;36m<cell line: 1>\u001b[1;34m()\u001b[0m\n\u001b[1;32m----> 1\u001b[0m \u001b[43mstocks\u001b[49m\u001b[38;5;241;43m.\u001b[39;49m\u001b[43mloc\u001b[49m\u001b[43m[\u001b[49m\u001b[38;5;124;43m'\u001b[39;49m\u001b[38;5;124;43m2020-12-31\u001b[39;49m\u001b[38;5;124;43m'\u001b[39;49m\u001b[43m,\u001b[49m\u001b[38;5;124;43m'\u001b[39;49m\u001b[38;5;124;43m2021-01-04\u001b[39;49m\u001b[38;5;124;43m'\u001b[39;49m\u001b[43m]\u001b[49m\n",
      "File \u001b[1;32m~\\anaconda3\\lib\\site-packages\\pandas\\core\\indexing.py:961\u001b[0m, in \u001b[0;36m_LocationIndexer.__getitem__\u001b[1;34m(self, key)\u001b[0m\n\u001b[0;32m    959\u001b[0m     \u001b[38;5;28;01mif\u001b[39;00m \u001b[38;5;28mself\u001b[39m\u001b[38;5;241m.\u001b[39m_is_scalar_access(key):\n\u001b[0;32m    960\u001b[0m         \u001b[38;5;28;01mreturn\u001b[39;00m \u001b[38;5;28mself\u001b[39m\u001b[38;5;241m.\u001b[39mobj\u001b[38;5;241m.\u001b[39m_get_value(\u001b[38;5;241m*\u001b[39mkey, takeable\u001b[38;5;241m=\u001b[39m\u001b[38;5;28mself\u001b[39m\u001b[38;5;241m.\u001b[39m_takeable)\n\u001b[1;32m--> 961\u001b[0m     \u001b[38;5;28;01mreturn\u001b[39;00m \u001b[38;5;28;43mself\u001b[39;49m\u001b[38;5;241;43m.\u001b[39;49m\u001b[43m_getitem_tuple\u001b[49m\u001b[43m(\u001b[49m\u001b[43mkey\u001b[49m\u001b[43m)\u001b[49m\n\u001b[0;32m    962\u001b[0m \u001b[38;5;28;01melse\u001b[39;00m:\n\u001b[0;32m    963\u001b[0m     \u001b[38;5;66;03m# we by definition only have the 0th axis\u001b[39;00m\n\u001b[0;32m    964\u001b[0m     axis \u001b[38;5;241m=\u001b[39m \u001b[38;5;28mself\u001b[39m\u001b[38;5;241m.\u001b[39maxis \u001b[38;5;129;01mor\u001b[39;00m \u001b[38;5;241m0\u001b[39m\n",
      "File \u001b[1;32m~\\anaconda3\\lib\\site-packages\\pandas\\core\\indexing.py:1140\u001b[0m, in \u001b[0;36m_LocIndexer._getitem_tuple\u001b[1;34m(self, tup)\u001b[0m\n\u001b[0;32m   1138\u001b[0m \u001b[38;5;28;01mwith\u001b[39;00m suppress(IndexingError):\n\u001b[0;32m   1139\u001b[0m     tup \u001b[38;5;241m=\u001b[39m \u001b[38;5;28mself\u001b[39m\u001b[38;5;241m.\u001b[39m_expand_ellipsis(tup)\n\u001b[1;32m-> 1140\u001b[0m     \u001b[38;5;28;01mreturn\u001b[39;00m \u001b[38;5;28;43mself\u001b[39;49m\u001b[38;5;241;43m.\u001b[39;49m\u001b[43m_getitem_lowerdim\u001b[49m\u001b[43m(\u001b[49m\u001b[43mtup\u001b[49m\u001b[43m)\u001b[49m\n\u001b[0;32m   1142\u001b[0m \u001b[38;5;66;03m# no multi-index, so validate all of the indexers\u001b[39;00m\n\u001b[0;32m   1143\u001b[0m tup \u001b[38;5;241m=\u001b[39m \u001b[38;5;28mself\u001b[39m\u001b[38;5;241m.\u001b[39m_validate_tuple_indexer(tup)\n",
      "File \u001b[1;32m~\\anaconda3\\lib\\site-packages\\pandas\\core\\indexing.py:891\u001b[0m, in \u001b[0;36m_LocationIndexer._getitem_lowerdim\u001b[1;34m(self, tup)\u001b[0m\n\u001b[0;32m    889\u001b[0m             \u001b[38;5;28;01mreturn\u001b[39;00m section\n\u001b[0;32m    890\u001b[0m         \u001b[38;5;66;03m# This is an elided recursive call to iloc/loc\u001b[39;00m\n\u001b[1;32m--> 891\u001b[0m         \u001b[38;5;28;01mreturn\u001b[39;00m \u001b[38;5;28;43mgetattr\u001b[39;49m\u001b[43m(\u001b[49m\u001b[43msection\u001b[49m\u001b[43m,\u001b[49m\u001b[43m \u001b[49m\u001b[38;5;28;43mself\u001b[39;49m\u001b[38;5;241;43m.\u001b[39;49m\u001b[43mname\u001b[49m\u001b[43m)\u001b[49m\u001b[43m[\u001b[49m\u001b[43mnew_key\u001b[49m\u001b[43m]\u001b[49m\n\u001b[0;32m    893\u001b[0m \u001b[38;5;28;01mraise\u001b[39;00m IndexingError(\u001b[38;5;124m\"\u001b[39m\u001b[38;5;124mnot applicable\u001b[39m\u001b[38;5;124m\"\u001b[39m)\n",
      "File \u001b[1;32m~\\anaconda3\\lib\\site-packages\\pandas\\core\\indexing.py:967\u001b[0m, in \u001b[0;36m_LocationIndexer.__getitem__\u001b[1;34m(self, key)\u001b[0m\n\u001b[0;32m    964\u001b[0m axis \u001b[38;5;241m=\u001b[39m \u001b[38;5;28mself\u001b[39m\u001b[38;5;241m.\u001b[39maxis \u001b[38;5;129;01mor\u001b[39;00m \u001b[38;5;241m0\u001b[39m\n\u001b[0;32m    966\u001b[0m maybe_callable \u001b[38;5;241m=\u001b[39m com\u001b[38;5;241m.\u001b[39mapply_if_callable(key, \u001b[38;5;28mself\u001b[39m\u001b[38;5;241m.\u001b[39mobj)\n\u001b[1;32m--> 967\u001b[0m \u001b[38;5;28;01mreturn\u001b[39;00m \u001b[38;5;28;43mself\u001b[39;49m\u001b[38;5;241;43m.\u001b[39;49m\u001b[43m_getitem_axis\u001b[49m\u001b[43m(\u001b[49m\u001b[43mmaybe_callable\u001b[49m\u001b[43m,\u001b[49m\u001b[43m \u001b[49m\u001b[43maxis\u001b[49m\u001b[38;5;241;43m=\u001b[39;49m\u001b[43maxis\u001b[49m\u001b[43m)\u001b[49m\n",
      "File \u001b[1;32m~\\anaconda3\\lib\\site-packages\\pandas\\core\\indexing.py:1202\u001b[0m, in \u001b[0;36m_LocIndexer._getitem_axis\u001b[1;34m(self, key, axis)\u001b[0m\n\u001b[0;32m   1200\u001b[0m \u001b[38;5;66;03m# fall thru to straight lookup\u001b[39;00m\n\u001b[0;32m   1201\u001b[0m \u001b[38;5;28mself\u001b[39m\u001b[38;5;241m.\u001b[39m_validate_key(key, axis)\n\u001b[1;32m-> 1202\u001b[0m \u001b[38;5;28;01mreturn\u001b[39;00m \u001b[38;5;28;43mself\u001b[39;49m\u001b[38;5;241;43m.\u001b[39;49m\u001b[43m_get_label\u001b[49m\u001b[43m(\u001b[49m\u001b[43mkey\u001b[49m\u001b[43m,\u001b[49m\u001b[43m \u001b[49m\u001b[43maxis\u001b[49m\u001b[38;5;241;43m=\u001b[39;49m\u001b[43maxis\u001b[49m\u001b[43m)\u001b[49m\n",
      "File \u001b[1;32m~\\anaconda3\\lib\\site-packages\\pandas\\core\\indexing.py:1153\u001b[0m, in \u001b[0;36m_LocIndexer._get_label\u001b[1;34m(self, label, axis)\u001b[0m\n\u001b[0;32m   1151\u001b[0m \u001b[38;5;28;01mdef\u001b[39;00m \u001b[38;5;21m_get_label\u001b[39m(\u001b[38;5;28mself\u001b[39m, label, axis: \u001b[38;5;28mint\u001b[39m):\n\u001b[0;32m   1152\u001b[0m     \u001b[38;5;66;03m# GH#5667 this will fail if the label is not present in the axis.\u001b[39;00m\n\u001b[1;32m-> 1153\u001b[0m     \u001b[38;5;28;01mreturn\u001b[39;00m \u001b[38;5;28;43mself\u001b[39;49m\u001b[38;5;241;43m.\u001b[39;49m\u001b[43mobj\u001b[49m\u001b[38;5;241;43m.\u001b[39;49m\u001b[43mxs\u001b[49m\u001b[43m(\u001b[49m\u001b[43mlabel\u001b[49m\u001b[43m,\u001b[49m\u001b[43m \u001b[49m\u001b[43maxis\u001b[49m\u001b[38;5;241;43m=\u001b[39;49m\u001b[43maxis\u001b[49m\u001b[43m)\u001b[49m\n",
      "File \u001b[1;32m~\\anaconda3\\lib\\site-packages\\pandas\\core\\generic.py:3864\u001b[0m, in \u001b[0;36mNDFrame.xs\u001b[1;34m(self, key, axis, level, drop_level)\u001b[0m\n\u001b[0;32m   3862\u001b[0m             new_index \u001b[38;5;241m=\u001b[39m index[loc]\n\u001b[0;32m   3863\u001b[0m \u001b[38;5;28;01melse\u001b[39;00m:\n\u001b[1;32m-> 3864\u001b[0m     loc \u001b[38;5;241m=\u001b[39m \u001b[43mindex\u001b[49m\u001b[38;5;241;43m.\u001b[39;49m\u001b[43mget_loc\u001b[49m\u001b[43m(\u001b[49m\u001b[43mkey\u001b[49m\u001b[43m)\u001b[49m\n\u001b[0;32m   3866\u001b[0m     \u001b[38;5;28;01mif\u001b[39;00m \u001b[38;5;28misinstance\u001b[39m(loc, np\u001b[38;5;241m.\u001b[39mndarray):\n\u001b[0;32m   3867\u001b[0m         \u001b[38;5;28;01mif\u001b[39;00m loc\u001b[38;5;241m.\u001b[39mdtype \u001b[38;5;241m==\u001b[39m np\u001b[38;5;241m.\u001b[39mbool_:\n",
      "File \u001b[1;32m~\\anaconda3\\lib\\site-packages\\pandas\\core\\indexes\\base.py:3623\u001b[0m, in \u001b[0;36mIndex.get_loc\u001b[1;34m(self, key, method, tolerance)\u001b[0m\n\u001b[0;32m   3621\u001b[0m     \u001b[38;5;28;01mreturn\u001b[39;00m \u001b[38;5;28mself\u001b[39m\u001b[38;5;241m.\u001b[39m_engine\u001b[38;5;241m.\u001b[39mget_loc(casted_key)\n\u001b[0;32m   3622\u001b[0m \u001b[38;5;28;01mexcept\u001b[39;00m \u001b[38;5;167;01mKeyError\u001b[39;00m \u001b[38;5;28;01mas\u001b[39;00m err:\n\u001b[1;32m-> 3623\u001b[0m     \u001b[38;5;28;01mraise\u001b[39;00m \u001b[38;5;167;01mKeyError\u001b[39;00m(key) \u001b[38;5;28;01mfrom\u001b[39;00m \u001b[38;5;21;01merr\u001b[39;00m\n\u001b[0;32m   3624\u001b[0m \u001b[38;5;28;01mexcept\u001b[39;00m \u001b[38;5;167;01mTypeError\u001b[39;00m:\n\u001b[0;32m   3625\u001b[0m     \u001b[38;5;66;03m# If we have a listlike key, _check_indexing_error will raise\u001b[39;00m\n\u001b[0;32m   3626\u001b[0m     \u001b[38;5;66;03m#  InvalidIndexError. Otherwise we fall through and re-raise\u001b[39;00m\n\u001b[0;32m   3627\u001b[0m     \u001b[38;5;66;03m#  the TypeError.\u001b[39;00m\n\u001b[0;32m   3628\u001b[0m     \u001b[38;5;28mself\u001b[39m\u001b[38;5;241m.\u001b[39m_check_indexing_error(key)\n",
      "\u001b[1;31mKeyError\u001b[0m: '2021-01-04'"
     ]
    }
   ],
   "source": [
    "stocks.loc['2020-12-31','2021-01-04'] #use double sqr bracket"
   ]
  },
  {
   "cell_type": "code",
   "execution_count": 57,
   "id": "cb9a45ef",
   "metadata": {},
   "outputs": [
    {
     "data": {
      "text/html": [
       "<div>\n",
       "<style scoped>\n",
       "    .dataframe tbody tr th:only-of-type {\n",
       "        vertical-align: middle;\n",
       "    }\n",
       "\n",
       "    .dataframe tbody tr th {\n",
       "        vertical-align: top;\n",
       "    }\n",
       "\n",
       "    .dataframe thead th {\n",
       "        text-align: right;\n",
       "    }\n",
       "</style>\n",
       "<table border=\"1\" class=\"dataframe\">\n",
       "  <thead>\n",
       "    <tr style=\"text-align: right;\">\n",
       "      <th></th>\n",
       "      <th>High</th>\n",
       "      <th>Low</th>\n",
       "      <th>Open</th>\n",
       "      <th>Close</th>\n",
       "      <th>Volume</th>\n",
       "      <th>Adj Close</th>\n",
       "    </tr>\n",
       "    <tr>\n",
       "      <th>Date</th>\n",
       "      <th></th>\n",
       "      <th></th>\n",
       "      <th></th>\n",
       "      <th></th>\n",
       "      <th></th>\n",
       "      <th></th>\n",
       "    </tr>\n",
       "  </thead>\n",
       "  <tbody>\n",
       "    <tr>\n",
       "      <th>2020-12-31</th>\n",
       "      <td>223.0</td>\n",
       "      <td>219.679993</td>\n",
       "      <td>221.699997</td>\n",
       "      <td>222.419998</td>\n",
       "      <td>20942100.0</td>\n",
       "      <td>219.139359</td>\n",
       "    </tr>\n",
       "    <tr>\n",
       "      <th>2021-01-04</th>\n",
       "      <td>223.0</td>\n",
       "      <td>214.809998</td>\n",
       "      <td>222.529999</td>\n",
       "      <td>217.690002</td>\n",
       "      <td>37130100.0</td>\n",
       "      <td>214.479095</td>\n",
       "    </tr>\n",
       "  </tbody>\n",
       "</table>\n",
       "</div>"
      ],
      "text/plain": [
       "             High         Low        Open       Close      Volume   Adj Close\n",
       "Date                                                                         \n",
       "2020-12-31  223.0  219.679993  221.699997  222.419998  20942100.0  219.139359\n",
       "2021-01-04  223.0  214.809998  222.529999  217.690002  37130100.0  214.479095"
      ]
     },
     "execution_count": 57,
     "metadata": {},
     "output_type": "execute_result"
    }
   ],
   "source": [
    "stocks.loc[['2020-12-31','2021-01-04']]"
   ]
  },
  {
   "cell_type": "code",
   "execution_count": 58,
   "id": "cf6f764d",
   "metadata": {},
   "outputs": [
    {
     "data": {
      "text/html": [
       "<div>\n",
       "<style scoped>\n",
       "    .dataframe tbody tr th:only-of-type {\n",
       "        vertical-align: middle;\n",
       "    }\n",
       "\n",
       "    .dataframe tbody tr th {\n",
       "        vertical-align: top;\n",
       "    }\n",
       "\n",
       "    .dataframe thead th {\n",
       "        text-align: right;\n",
       "    }\n",
       "</style>\n",
       "<table border=\"1\" class=\"dataframe\">\n",
       "  <thead>\n",
       "    <tr style=\"text-align: right;\">\n",
       "      <th></th>\n",
       "      <th>High</th>\n",
       "      <th>Low</th>\n",
       "      <th>Open</th>\n",
       "      <th>Close</th>\n",
       "      <th>Volume</th>\n",
       "      <th>Adj Close</th>\n",
       "    </tr>\n",
       "    <tr>\n",
       "      <th>Date</th>\n",
       "      <th></th>\n",
       "      <th></th>\n",
       "      <th></th>\n",
       "      <th></th>\n",
       "      <th></th>\n",
       "      <th></th>\n",
       "    </tr>\n",
       "  </thead>\n",
       "  <tbody>\n",
       "    <tr>\n",
       "      <th>2020-12-31</th>\n",
       "      <td>223.0</td>\n",
       "      <td>219.679993</td>\n",
       "      <td>221.699997</td>\n",
       "      <td>222.419998</td>\n",
       "      <td>20942100.0</td>\n",
       "      <td>219.139359</td>\n",
       "    </tr>\n",
       "    <tr>\n",
       "      <th>2021-01-04</th>\n",
       "      <td>223.0</td>\n",
       "      <td>214.809998</td>\n",
       "      <td>222.529999</td>\n",
       "      <td>217.690002</td>\n",
       "      <td>37130100.0</td>\n",
       "      <td>214.479095</td>\n",
       "    </tr>\n",
       "  </tbody>\n",
       "</table>\n",
       "</div>"
      ],
      "text/plain": [
       "             High         Low        Open       Close      Volume   Adj Close\n",
       "Date                                                                         \n",
       "2020-12-31  223.0  219.679993  221.699997  222.419998  20942100.0  219.139359\n",
       "2021-01-04  223.0  214.809998  222.529999  217.690002  37130100.0  214.479095"
      ]
     },
     "execution_count": 58,
     "metadata": {},
     "output_type": "execute_result"
    }
   ],
   "source": [
    "stocks.loc['2020-12-31':'2021-01-04'] # passing in the form of list"
   ]
  },
  {
   "cell_type": "code",
   "execution_count": 59,
   "id": "cb3a84b0",
   "metadata": {},
   "outputs": [
    {
     "data": {
      "text/html": [
       "<div>\n",
       "<style scoped>\n",
       "    .dataframe tbody tr th:only-of-type {\n",
       "        vertical-align: middle;\n",
       "    }\n",
       "\n",
       "    .dataframe tbody tr th {\n",
       "        vertical-align: top;\n",
       "    }\n",
       "\n",
       "    .dataframe thead th {\n",
       "        text-align: right;\n",
       "    }\n",
       "</style>\n",
       "<table border=\"1\" class=\"dataframe\">\n",
       "  <thead>\n",
       "    <tr style=\"text-align: right;\">\n",
       "      <th></th>\n",
       "      <th>High</th>\n",
       "      <th>Low</th>\n",
       "      <th>Open</th>\n",
       "      <th>Close</th>\n",
       "      <th>Volume</th>\n",
       "      <th>Adj Close</th>\n",
       "    </tr>\n",
       "    <tr>\n",
       "      <th>Date</th>\n",
       "      <th></th>\n",
       "      <th></th>\n",
       "      <th></th>\n",
       "      <th></th>\n",
       "      <th></th>\n",
       "      <th></th>\n",
       "    </tr>\n",
       "  </thead>\n",
       "  <tbody>\n",
       "    <tr>\n",
       "      <th>2020-01-02</th>\n",
       "      <td>160.729996</td>\n",
       "      <td>158.330002</td>\n",
       "      <td>158.779999</td>\n",
       "      <td>160.619995</td>\n",
       "      <td>22622100.0</td>\n",
       "      <td>156.591995</td>\n",
       "    </tr>\n",
       "    <tr>\n",
       "      <th>2020-01-03</th>\n",
       "      <td>159.949997</td>\n",
       "      <td>158.059998</td>\n",
       "      <td>158.320007</td>\n",
       "      <td>158.619995</td>\n",
       "      <td>21116200.0</td>\n",
       "      <td>154.642166</td>\n",
       "    </tr>\n",
       "    <tr>\n",
       "      <th>2020-01-06</th>\n",
       "      <td>159.100006</td>\n",
       "      <td>156.509995</td>\n",
       "      <td>157.080002</td>\n",
       "      <td>159.029999</td>\n",
       "      <td>20813700.0</td>\n",
       "      <td>155.041885</td>\n",
       "    </tr>\n",
       "    <tr>\n",
       "      <th>2020-01-07</th>\n",
       "      <td>159.669998</td>\n",
       "      <td>157.320007</td>\n",
       "      <td>159.320007</td>\n",
       "      <td>157.580002</td>\n",
       "      <td>21634100.0</td>\n",
       "      <td>153.628265</td>\n",
       "    </tr>\n",
       "    <tr>\n",
       "      <th>2020-01-08</th>\n",
       "      <td>160.800003</td>\n",
       "      <td>157.949997</td>\n",
       "      <td>158.929993</td>\n",
       "      <td>160.089996</td>\n",
       "      <td>27746500.0</td>\n",
       "      <td>156.075302</td>\n",
       "    </tr>\n",
       "    <tr>\n",
       "      <th>...</th>\n",
       "      <td>...</td>\n",
       "      <td>...</td>\n",
       "      <td>...</td>\n",
       "      <td>...</td>\n",
       "      <td>...</td>\n",
       "      <td>...</td>\n",
       "    </tr>\n",
       "    <tr>\n",
       "      <th>2020-12-31</th>\n",
       "      <td>223.000000</td>\n",
       "      <td>219.679993</td>\n",
       "      <td>221.699997</td>\n",
       "      <td>222.419998</td>\n",
       "      <td>20942100.0</td>\n",
       "      <td>219.139359</td>\n",
       "    </tr>\n",
       "    <tr>\n",
       "      <th>2021-01-04</th>\n",
       "      <td>223.000000</td>\n",
       "      <td>214.809998</td>\n",
       "      <td>222.529999</td>\n",
       "      <td>217.690002</td>\n",
       "      <td>37130100.0</td>\n",
       "      <td>214.479095</td>\n",
       "    </tr>\n",
       "    <tr>\n",
       "      <th>2021-01-05</th>\n",
       "      <td>218.520004</td>\n",
       "      <td>215.699997</td>\n",
       "      <td>217.259995</td>\n",
       "      <td>217.899994</td>\n",
       "      <td>23823000.0</td>\n",
       "      <td>214.686005</td>\n",
       "    </tr>\n",
       "    <tr>\n",
       "      <th>2021-01-06</th>\n",
       "      <td>216.490005</td>\n",
       "      <td>211.940002</td>\n",
       "      <td>212.169998</td>\n",
       "      <td>212.250000</td>\n",
       "      <td>35930700.0</td>\n",
       "      <td>209.119339</td>\n",
       "    </tr>\n",
       "    <tr>\n",
       "      <th>2021-01-07</th>\n",
       "      <td>219.339996</td>\n",
       "      <td>213.710007</td>\n",
       "      <td>214.039993</td>\n",
       "      <td>218.289993</td>\n",
       "      <td>27694500.0</td>\n",
       "      <td>215.070267</td>\n",
       "    </tr>\n",
       "  </tbody>\n",
       "</table>\n",
       "<p>257 rows × 6 columns</p>\n",
       "</div>"
      ],
      "text/plain": [
       "                  High         Low        Open       Close      Volume  \\\n",
       "Date                                                                     \n",
       "2020-01-02  160.729996  158.330002  158.779999  160.619995  22622100.0   \n",
       "2020-01-03  159.949997  158.059998  158.320007  158.619995  21116200.0   \n",
       "2020-01-06  159.100006  156.509995  157.080002  159.029999  20813700.0   \n",
       "2020-01-07  159.669998  157.320007  159.320007  157.580002  21634100.0   \n",
       "2020-01-08  160.800003  157.949997  158.929993  160.089996  27746500.0   \n",
       "...                ...         ...         ...         ...         ...   \n",
       "2020-12-31  223.000000  219.679993  221.699997  222.419998  20942100.0   \n",
       "2021-01-04  223.000000  214.809998  222.529999  217.690002  37130100.0   \n",
       "2021-01-05  218.520004  215.699997  217.259995  217.899994  23823000.0   \n",
       "2021-01-06  216.490005  211.940002  212.169998  212.250000  35930700.0   \n",
       "2021-01-07  219.339996  213.710007  214.039993  218.289993  27694500.0   \n",
       "\n",
       "             Adj Close  \n",
       "Date                    \n",
       "2020-01-02  156.591995  \n",
       "2020-01-03  154.642166  \n",
       "2020-01-06  155.041885  \n",
       "2020-01-07  153.628265  \n",
       "2020-01-08  156.075302  \n",
       "...                ...  \n",
       "2020-12-31  219.139359  \n",
       "2021-01-04  214.479095  \n",
       "2021-01-05  214.686005  \n",
       "2021-01-06  209.119339  \n",
       "2021-01-07  215.070267  \n",
       "\n",
       "[257 rows x 6 columns]"
      ]
     },
     "execution_count": 59,
     "metadata": {},
     "output_type": "execute_result"
    }
   ],
   "source": [
    "stocks.truncate(before='2020-1-1',after=\"2021-01-07\")"
   ]
  },
  {
   "cell_type": "code",
   "execution_count": 60,
   "id": "5c196904",
   "metadata": {},
   "outputs": [
    {
     "name": "stderr",
     "output_type": "stream",
     "text": [
      "C:\\Users\\Manjunath\\anaconda3\\lib\\site-packages\\IPython\\core\\interactiveshell.py:3369: UserWarning: Parsing '31-07-1997' in DD/MM/YYYY format. Provide format or specify infer_datetime_format=True for consistent parsing.\n",
      "  exec(code_obj, self.user_global_ns, self.user_ns)\n"
     ]
    },
    {
     "data": {
      "text/plain": [
       "DatetimeIndex(['1997-07-31', '1998-07-31', '1999-07-31', '2000-07-31',\n",
       "               '2001-07-31', '2002-07-31', '2003-07-31', '2004-07-31',\n",
       "               '2005-07-31', '2006-07-31', '2007-07-31', '2008-07-31',\n",
       "               '2009-07-31', '2010-07-31', '2011-07-31', '2012-07-31',\n",
       "               '2013-07-31', '2014-07-31', '2015-07-31', '2016-07-31',\n",
       "               '2017-07-31', '2018-07-31', '2019-07-31', '2020-07-31',\n",
       "               '2021-07-31', '2022-07-31'],\n",
       "              dtype='datetime64[ns]', freq='<DateOffset: years=1>')"
      ]
     },
     "execution_count": 60,
     "metadata": {},
     "output_type": "execute_result"
    }
   ],
   "source": [
    "birthday=pd.date_range(\"31-07-1997\",\"31-7-2022\",freq=pd.DateOffset(years=1))\n",
    "birthday\n"
   ]
  },
  {
   "cell_type": "code",
   "execution_count": 62,
   "id": "1a00d4a9",
   "metadata": {},
   "outputs": [
    {
     "data": {
      "text/html": [
       "<div>\n",
       "<style scoped>\n",
       "    .dataframe tbody tr th:only-of-type {\n",
       "        vertical-align: middle;\n",
       "    }\n",
       "\n",
       "    .dataframe tbody tr th {\n",
       "        vertical-align: top;\n",
       "    }\n",
       "\n",
       "    .dataframe thead th {\n",
       "        text-align: right;\n",
       "    }\n",
       "</style>\n",
       "<table border=\"1\" class=\"dataframe\">\n",
       "  <thead>\n",
       "    <tr style=\"text-align: right;\">\n",
       "      <th></th>\n",
       "      <th>High</th>\n",
       "      <th>Low</th>\n",
       "      <th>Open</th>\n",
       "      <th>Close</th>\n",
       "      <th>Volume</th>\n",
       "      <th>Adj Close</th>\n",
       "    </tr>\n",
       "    <tr>\n",
       "      <th>Date</th>\n",
       "      <th></th>\n",
       "      <th></th>\n",
       "      <th></th>\n",
       "      <th></th>\n",
       "      <th></th>\n",
       "      <th></th>\n",
       "    </tr>\n",
       "  </thead>\n",
       "  <tbody>\n",
       "    <tr>\n",
       "      <th>1997-07-31</th>\n",
       "      <td>17.765625</td>\n",
       "      <td>17.609375</td>\n",
       "      <td>17.750000</td>\n",
       "      <td>17.671875</td>\n",
       "      <td>42240800.0</td>\n",
       "      <td>11.084216</td>\n",
       "    </tr>\n",
       "    <tr>\n",
       "      <th>1998-07-31</th>\n",
       "      <td>28.378906</td>\n",
       "      <td>27.484375</td>\n",
       "      <td>28.234375</td>\n",
       "      <td>27.484375</td>\n",
       "      <td>53705200.0</td>\n",
       "      <td>17.238848</td>\n",
       "    </tr>\n",
       "    <tr>\n",
       "      <th>2000-07-31</th>\n",
       "      <td>35.562500</td>\n",
       "      <td>34.625000</td>\n",
       "      <td>35.093750</td>\n",
       "      <td>34.906250</td>\n",
       "      <td>70283800.0</td>\n",
       "      <td>21.894016</td>\n",
       "    </tr>\n",
       "    <tr>\n",
       "      <th>2001-07-31</th>\n",
       "      <td>33.695000</td>\n",
       "      <td>32.924999</td>\n",
       "      <td>33.005001</td>\n",
       "      <td>33.095001</td>\n",
       "      <td>59031600.0</td>\n",
       "      <td>20.757965</td>\n",
       "    </tr>\n",
       "    <tr>\n",
       "      <th>2002-07-31</th>\n",
       "      <td>24.000000</td>\n",
       "      <td>23.180000</td>\n",
       "      <td>23.805000</td>\n",
       "      <td>23.990000</td>\n",
       "      <td>93875600.0</td>\n",
       "      <td>15.047088</td>\n",
       "    </tr>\n",
       "    <tr>\n",
       "      <th>2003-07-31</th>\n",
       "      <td>26.990000</td>\n",
       "      <td>26.309999</td>\n",
       "      <td>26.600000</td>\n",
       "      <td>26.410000</td>\n",
       "      <td>64504800.0</td>\n",
       "      <td>16.618240</td>\n",
       "    </tr>\n",
       "    <tr>\n",
       "      <th>2006-07-31</th>\n",
       "      <td>24.420000</td>\n",
       "      <td>24.010000</td>\n",
       "      <td>24.070000</td>\n",
       "      <td>24.059999</td>\n",
       "      <td>40254400.0</td>\n",
       "      <td>17.351908</td>\n",
       "    </tr>\n",
       "    <tr>\n",
       "      <th>2007-07-31</th>\n",
       "      <td>29.719999</td>\n",
       "      <td>28.980000</td>\n",
       "      <td>29.709999</td>\n",
       "      <td>28.990000</td>\n",
       "      <td>66554000.0</td>\n",
       "      <td>21.197575</td>\n",
       "    </tr>\n",
       "    <tr>\n",
       "      <th>2008-07-31</th>\n",
       "      <td>26.280001</td>\n",
       "      <td>25.709999</td>\n",
       "      <td>25.850000</td>\n",
       "      <td>25.719999</td>\n",
       "      <td>60461000.0</td>\n",
       "      <td>19.078405</td>\n",
       "    </tr>\n",
       "    <tr>\n",
       "      <th>2009-07-31</th>\n",
       "      <td>24.070000</td>\n",
       "      <td>23.500000</td>\n",
       "      <td>23.770000</td>\n",
       "      <td>23.520000</td>\n",
       "      <td>54258200.0</td>\n",
       "      <td>17.868423</td>\n",
       "    </tr>\n",
       "    <tr>\n",
       "      <th>2012-07-31</th>\n",
       "      <td>29.709999</td>\n",
       "      <td>29.330000</td>\n",
       "      <td>29.480000</td>\n",
       "      <td>29.469999</td>\n",
       "      <td>37620900.0</td>\n",
       "      <td>24.010950</td>\n",
       "    </tr>\n",
       "    <tr>\n",
       "      <th>2013-07-31</th>\n",
       "      <td>32.049999</td>\n",
       "      <td>31.709999</td>\n",
       "      <td>31.969999</td>\n",
       "      <td>31.840000</td>\n",
       "      <td>43898400.0</td>\n",
       "      <td>26.732496</td>\n",
       "    </tr>\n",
       "    <tr>\n",
       "      <th>2014-07-31</th>\n",
       "      <td>43.689999</td>\n",
       "      <td>43.080002</td>\n",
       "      <td>43.380001</td>\n",
       "      <td>43.160000</td>\n",
       "      <td>31537500.0</td>\n",
       "      <td>37.305805</td>\n",
       "    </tr>\n",
       "    <tr>\n",
       "      <th>2015-07-31</th>\n",
       "      <td>47.369999</td>\n",
       "      <td>46.500000</td>\n",
       "      <td>47.290001</td>\n",
       "      <td>46.700001</td>\n",
       "      <td>31201500.0</td>\n",
       "      <td>41.432343</td>\n",
       "    </tr>\n",
       "    <tr>\n",
       "      <th>2017-07-31</th>\n",
       "      <td>73.440002</td>\n",
       "      <td>72.410004</td>\n",
       "      <td>73.300003</td>\n",
       "      <td>72.699997</td>\n",
       "      <td>23600100.0</td>\n",
       "      <td>67.950516</td>\n",
       "    </tr>\n",
       "    <tr>\n",
       "      <th>2018-07-31</th>\n",
       "      <td>106.720001</td>\n",
       "      <td>105.379997</td>\n",
       "      <td>106.489998</td>\n",
       "      <td>106.080002</td>\n",
       "      <td>27655200.0</td>\n",
       "      <td>101.085472</td>\n",
       "    </tr>\n",
       "    <tr>\n",
       "      <th>2019-07-31</th>\n",
       "      <td>140.490005</td>\n",
       "      <td>135.080002</td>\n",
       "      <td>140.330002</td>\n",
       "      <td>136.270004</td>\n",
       "      <td>38598800.0</td>\n",
       "      <td>131.962692</td>\n",
       "    </tr>\n",
       "    <tr>\n",
       "      <th>2020-07-31</th>\n",
       "      <td>205.100006</td>\n",
       "      <td>199.009995</td>\n",
       "      <td>204.399994</td>\n",
       "      <td>205.009995</td>\n",
       "      <td>51044000.0</td>\n",
       "      <td>200.972885</td>\n",
       "    </tr>\n",
       "  </tbody>\n",
       "</table>\n",
       "</div>"
      ],
      "text/plain": [
       "                  High         Low        Open       Close      Volume  \\\n",
       "Date                                                                     \n",
       "1997-07-31   17.765625   17.609375   17.750000   17.671875  42240800.0   \n",
       "1998-07-31   28.378906   27.484375   28.234375   27.484375  53705200.0   \n",
       "2000-07-31   35.562500   34.625000   35.093750   34.906250  70283800.0   \n",
       "2001-07-31   33.695000   32.924999   33.005001   33.095001  59031600.0   \n",
       "2002-07-31   24.000000   23.180000   23.805000   23.990000  93875600.0   \n",
       "2003-07-31   26.990000   26.309999   26.600000   26.410000  64504800.0   \n",
       "2006-07-31   24.420000   24.010000   24.070000   24.059999  40254400.0   \n",
       "2007-07-31   29.719999   28.980000   29.709999   28.990000  66554000.0   \n",
       "2008-07-31   26.280001   25.709999   25.850000   25.719999  60461000.0   \n",
       "2009-07-31   24.070000   23.500000   23.770000   23.520000  54258200.0   \n",
       "2012-07-31   29.709999   29.330000   29.480000   29.469999  37620900.0   \n",
       "2013-07-31   32.049999   31.709999   31.969999   31.840000  43898400.0   \n",
       "2014-07-31   43.689999   43.080002   43.380001   43.160000  31537500.0   \n",
       "2015-07-31   47.369999   46.500000   47.290001   46.700001  31201500.0   \n",
       "2017-07-31   73.440002   72.410004   73.300003   72.699997  23600100.0   \n",
       "2018-07-31  106.720001  105.379997  106.489998  106.080002  27655200.0   \n",
       "2019-07-31  140.490005  135.080002  140.330002  136.270004  38598800.0   \n",
       "2020-07-31  205.100006  199.009995  204.399994  205.009995  51044000.0   \n",
       "\n",
       "             Adj Close  \n",
       "Date                    \n",
       "1997-07-31   11.084216  \n",
       "1998-07-31   17.238848  \n",
       "2000-07-31   21.894016  \n",
       "2001-07-31   20.757965  \n",
       "2002-07-31   15.047088  \n",
       "2003-07-31   16.618240  \n",
       "2006-07-31   17.351908  \n",
       "2007-07-31   21.197575  \n",
       "2008-07-31   19.078405  \n",
       "2009-07-31   17.868423  \n",
       "2012-07-31   24.010950  \n",
       "2013-07-31   26.732496  \n",
       "2014-07-31   37.305805  \n",
       "2015-07-31   41.432343  \n",
       "2017-07-31   67.950516  \n",
       "2018-07-31  101.085472  \n",
       "2019-07-31  131.962692  \n",
       "2020-07-31  200.972885  "
      ]
     },
     "execution_count": 62,
     "metadata": {},
     "output_type": "execute_result"
    }
   ],
   "source": [
    "stocks[stocks.index.isin(birthday)] # the stock price on my birthday date"
   ]
  },
  {
   "cell_type": "markdown",
   "id": "799e6778",
   "metadata": {},
   "source": [
    "## Timestamp Object Attributes and Methods"
   ]
  },
  {
   "cell_type": "code",
   "execution_count": 63,
   "id": "7fe6d4b9",
   "metadata": {},
   "outputs": [
    {
     "data": {
      "text/html": [
       "<div>\n",
       "<style scoped>\n",
       "    .dataframe tbody tr th:only-of-type {\n",
       "        vertical-align: middle;\n",
       "    }\n",
       "\n",
       "    .dataframe tbody tr th {\n",
       "        vertical-align: top;\n",
       "    }\n",
       "\n",
       "    .dataframe thead th {\n",
       "        text-align: right;\n",
       "    }\n",
       "</style>\n",
       "<table border=\"1\" class=\"dataframe\">\n",
       "  <thead>\n",
       "    <tr style=\"text-align: right;\">\n",
       "      <th></th>\n",
       "      <th>High</th>\n",
       "      <th>Low</th>\n",
       "      <th>Open</th>\n",
       "      <th>Close</th>\n",
       "      <th>Volume</th>\n",
       "      <th>Adj Close</th>\n",
       "    </tr>\n",
       "    <tr>\n",
       "      <th>Date</th>\n",
       "      <th></th>\n",
       "      <th></th>\n",
       "      <th></th>\n",
       "      <th></th>\n",
       "      <th></th>\n",
       "      <th></th>\n",
       "    </tr>\n",
       "  </thead>\n",
       "  <tbody>\n",
       "    <tr>\n",
       "      <th>1990-01-02</th>\n",
       "      <td>0.616319</td>\n",
       "      <td>0.598090</td>\n",
       "      <td>0.605903</td>\n",
       "      <td>0.616319</td>\n",
       "      <td>53035200.0</td>\n",
       "      <td>0.386570</td>\n",
       "    </tr>\n",
       "    <tr>\n",
       "      <th>1990-01-03</th>\n",
       "      <td>0.626736</td>\n",
       "      <td>0.614583</td>\n",
       "      <td>0.621528</td>\n",
       "      <td>0.619792</td>\n",
       "      <td>113774400.0</td>\n",
       "      <td>0.388748</td>\n",
       "    </tr>\n",
       "    <tr>\n",
       "      <th>1990-01-04</th>\n",
       "      <td>0.638889</td>\n",
       "      <td>0.616319</td>\n",
       "      <td>0.619792</td>\n",
       "      <td>0.638021</td>\n",
       "      <td>125740800.0</td>\n",
       "      <td>0.400182</td>\n",
       "    </tr>\n",
       "    <tr>\n",
       "      <th>1990-01-05</th>\n",
       "      <td>0.638889</td>\n",
       "      <td>0.621528</td>\n",
       "      <td>0.635417</td>\n",
       "      <td>0.622396</td>\n",
       "      <td>69566400.0</td>\n",
       "      <td>0.390381</td>\n",
       "    </tr>\n",
       "    <tr>\n",
       "      <th>1990-01-08</th>\n",
       "      <td>0.631944</td>\n",
       "      <td>0.614583</td>\n",
       "      <td>0.621528</td>\n",
       "      <td>0.631944</td>\n",
       "      <td>58982400.0</td>\n",
       "      <td>0.396370</td>\n",
       "    </tr>\n",
       "  </tbody>\n",
       "</table>\n",
       "</div>"
      ],
      "text/plain": [
       "                High       Low      Open     Close       Volume  Adj Close\n",
       "Date                                                                      \n",
       "1990-01-02  0.616319  0.598090  0.605903  0.616319   53035200.0   0.386570\n",
       "1990-01-03  0.626736  0.614583  0.621528  0.619792  113774400.0   0.388748\n",
       "1990-01-04  0.638889  0.616319  0.619792  0.638021  125740800.0   0.400182\n",
       "1990-01-05  0.638889  0.621528  0.635417  0.622396   69566400.0   0.390381\n",
       "1990-01-08  0.631944  0.614583  0.621528  0.631944   58982400.0   0.396370"
      ]
     },
     "execution_count": 63,
     "metadata": {},
     "output_type": "execute_result"
    }
   ],
   "source": [
    "stocks.head()"
   ]
  },
  {
   "cell_type": "code",
   "execution_count": 65,
   "id": "6d24a284",
   "metadata": {},
   "outputs": [
    {
     "data": {
      "text/plain": [
       "Timestamp('1990-05-24 00:00:00')"
      ]
     },
     "execution_count": 65,
     "metadata": {},
     "output_type": "execute_result"
    }
   ],
   "source": [
    "random_day=stocks.index[100]\n",
    "random_day"
   ]
  },
  {
   "cell_type": "code",
   "execution_count": 73,
   "id": "cd9f0725",
   "metadata": {},
   "outputs": [
    {
     "data": {
      "text/plain": [
       "False"
      ]
     },
     "execution_count": 73,
     "metadata": {},
     "output_type": "execute_result"
    }
   ],
   "source": [
    "random_day.month\n",
    "random_day.year\n",
    "random_day.day\n",
    "random_day.is_month_start\n",
    "random_day.is_month_end\n",
    "random_day.is_quarter_start\n",
    "random_day.is_quarter_end"
   ]
  },
  {
   "cell_type": "code",
   "execution_count": 75,
   "id": "a0b0c888",
   "metadata": {},
   "outputs": [
    {
     "data": {
      "text/plain": [
       "'May'"
      ]
     },
     "execution_count": 75,
     "metadata": {},
     "output_type": "execute_result"
    }
   ],
   "source": [
    "random_day.month_name()"
   ]
  },
  {
   "cell_type": "code",
   "execution_count": 76,
   "id": "6e3c150c",
   "metadata": {},
   "outputs": [
    {
     "data": {
      "text/plain": [
       "'Thursday'"
      ]
     },
     "execution_count": 76,
     "metadata": {},
     "output_type": "execute_result"
    }
   ],
   "source": [
    "random_day.day_name()"
   ]
  },
  {
   "cell_type": "code",
   "execution_count": 78,
   "id": "88bfcb17",
   "metadata": {},
   "outputs": [
    {
     "data": {
      "text/plain": [
       "Index(['Tuesday', 'Wednesday', 'Thursday', 'Friday', 'Monday', 'Tuesday',\n",
       "       'Wednesday', 'Thursday', 'Friday', 'Monday',\n",
       "       ...\n",
       "       'Friday', 'Monday', 'Tuesday', 'Wednesday', 'Thursday', 'Monday',\n",
       "       'Tuesday', 'Wednesday', 'Thursday', 'Friday'],\n",
       "      dtype='object', name='Date', length=8064)"
      ]
     },
     "execution_count": 78,
     "metadata": {},
     "output_type": "execute_result"
    }
   ],
   "source": [
    "stocks.index.day_name()"
   ]
  },
  {
   "cell_type": "code",
   "execution_count": 79,
   "id": "54ee4e03",
   "metadata": {},
   "outputs": [],
   "source": [
    "stocks.insert(0,column=\"Day_name\",value=stocks.index.day_name())"
   ]
  },
  {
   "cell_type": "code",
   "execution_count": 83,
   "id": "3839131e",
   "metadata": {},
   "outputs": [
    {
     "data": {
      "text/plain": [
       "Index(['January', 'January', 'January', 'January', 'January', 'January',\n",
       "       'January', 'January', 'January', 'January',\n",
       "       ...\n",
       "       'December', 'December', 'December', 'December', 'December', 'December',\n",
       "       'December', 'December', 'December', 'December'],\n",
       "      dtype='object', name='Date', length=8064)"
      ]
     },
     "execution_count": 83,
     "metadata": {},
     "output_type": "execute_result"
    }
   ],
   "source": [
    "month_names=stocks.index.month_name()\n",
    "month_names"
   ]
  },
  {
   "cell_type": "code",
   "execution_count": 85,
   "id": "077f3864",
   "metadata": {},
   "outputs": [
    {
     "data": {
      "text/html": [
       "<div>\n",
       "<style scoped>\n",
       "    .dataframe tbody tr th:only-of-type {\n",
       "        vertical-align: middle;\n",
       "    }\n",
       "\n",
       "    .dataframe tbody tr th {\n",
       "        vertical-align: top;\n",
       "    }\n",
       "\n",
       "    .dataframe thead th {\n",
       "        text-align: right;\n",
       "    }\n",
       "</style>\n",
       "<table border=\"1\" class=\"dataframe\">\n",
       "  <thead>\n",
       "    <tr style=\"text-align: right;\">\n",
       "      <th></th>\n",
       "      <th>Day_name</th>\n",
       "      <th>Month_Name</th>\n",
       "      <th>High</th>\n",
       "      <th>Low</th>\n",
       "      <th>Open</th>\n",
       "      <th>Close</th>\n",
       "      <th>Volume</th>\n",
       "      <th>Adj Close</th>\n",
       "    </tr>\n",
       "    <tr>\n",
       "      <th>Date</th>\n",
       "      <th></th>\n",
       "      <th></th>\n",
       "      <th></th>\n",
       "      <th></th>\n",
       "      <th></th>\n",
       "      <th></th>\n",
       "      <th></th>\n",
       "      <th></th>\n",
       "    </tr>\n",
       "  </thead>\n",
       "  <tbody>\n",
       "    <tr>\n",
       "      <th>1990-01-02</th>\n",
       "      <td>Tuesday</td>\n",
       "      <td>January</td>\n",
       "      <td>0.616319</td>\n",
       "      <td>0.598090</td>\n",
       "      <td>0.605903</td>\n",
       "      <td>0.616319</td>\n",
       "      <td>53035200.0</td>\n",
       "      <td>0.386570</td>\n",
       "    </tr>\n",
       "    <tr>\n",
       "      <th>1990-01-03</th>\n",
       "      <td>Wednesday</td>\n",
       "      <td>January</td>\n",
       "      <td>0.626736</td>\n",
       "      <td>0.614583</td>\n",
       "      <td>0.621528</td>\n",
       "      <td>0.619792</td>\n",
       "      <td>113774400.0</td>\n",
       "      <td>0.388748</td>\n",
       "    </tr>\n",
       "    <tr>\n",
       "      <th>1990-01-04</th>\n",
       "      <td>Thursday</td>\n",
       "      <td>January</td>\n",
       "      <td>0.638889</td>\n",
       "      <td>0.616319</td>\n",
       "      <td>0.619792</td>\n",
       "      <td>0.638021</td>\n",
       "      <td>125740800.0</td>\n",
       "      <td>0.400182</td>\n",
       "    </tr>\n",
       "    <tr>\n",
       "      <th>1990-01-05</th>\n",
       "      <td>Friday</td>\n",
       "      <td>January</td>\n",
       "      <td>0.638889</td>\n",
       "      <td>0.621528</td>\n",
       "      <td>0.635417</td>\n",
       "      <td>0.622396</td>\n",
       "      <td>69566400.0</td>\n",
       "      <td>0.390381</td>\n",
       "    </tr>\n",
       "    <tr>\n",
       "      <th>1990-01-08</th>\n",
       "      <td>Monday</td>\n",
       "      <td>January</td>\n",
       "      <td>0.631944</td>\n",
       "      <td>0.614583</td>\n",
       "      <td>0.621528</td>\n",
       "      <td>0.631944</td>\n",
       "      <td>58982400.0</td>\n",
       "      <td>0.396370</td>\n",
       "    </tr>\n",
       "    <tr>\n",
       "      <th>...</th>\n",
       "      <td>...</td>\n",
       "      <td>...</td>\n",
       "      <td>...</td>\n",
       "      <td>...</td>\n",
       "      <td>...</td>\n",
       "      <td>...</td>\n",
       "      <td>...</td>\n",
       "      <td>...</td>\n",
       "    </tr>\n",
       "    <tr>\n",
       "      <th>2021-12-27</th>\n",
       "      <td>Monday</td>\n",
       "      <td>December</td>\n",
       "      <td>342.480011</td>\n",
       "      <td>335.429993</td>\n",
       "      <td>335.459991</td>\n",
       "      <td>342.450012</td>\n",
       "      <td>19947000.0</td>\n",
       "      <td>340.227112</td>\n",
       "    </tr>\n",
       "    <tr>\n",
       "      <th>2021-12-28</th>\n",
       "      <td>Tuesday</td>\n",
       "      <td>December</td>\n",
       "      <td>343.809998</td>\n",
       "      <td>340.320007</td>\n",
       "      <td>343.149994</td>\n",
       "      <td>341.250000</td>\n",
       "      <td>15661500.0</td>\n",
       "      <td>339.034882</td>\n",
       "    </tr>\n",
       "    <tr>\n",
       "      <th>2021-12-29</th>\n",
       "      <td>Wednesday</td>\n",
       "      <td>December</td>\n",
       "      <td>344.299988</td>\n",
       "      <td>339.679993</td>\n",
       "      <td>341.299988</td>\n",
       "      <td>341.950012</td>\n",
       "      <td>15042000.0</td>\n",
       "      <td>339.730377</td>\n",
       "    </tr>\n",
       "    <tr>\n",
       "      <th>2021-12-30</th>\n",
       "      <td>Thursday</td>\n",
       "      <td>December</td>\n",
       "      <td>343.130005</td>\n",
       "      <td>338.820007</td>\n",
       "      <td>341.910004</td>\n",
       "      <td>339.320007</td>\n",
       "      <td>15994500.0</td>\n",
       "      <td>337.117432</td>\n",
       "    </tr>\n",
       "    <tr>\n",
       "      <th>2021-12-31</th>\n",
       "      <td>Friday</td>\n",
       "      <td>December</td>\n",
       "      <td>339.359985</td>\n",
       "      <td>335.850006</td>\n",
       "      <td>338.510010</td>\n",
       "      <td>336.320007</td>\n",
       "      <td>18000800.0</td>\n",
       "      <td>334.136932</td>\n",
       "    </tr>\n",
       "  </tbody>\n",
       "</table>\n",
       "<p>8064 rows × 8 columns</p>\n",
       "</div>"
      ],
      "text/plain": [
       "             Day_name Month_Name        High         Low        Open  \\\n",
       "Date                                                                   \n",
       "1990-01-02    Tuesday    January    0.616319    0.598090    0.605903   \n",
       "1990-01-03  Wednesday    January    0.626736    0.614583    0.621528   \n",
       "1990-01-04   Thursday    January    0.638889    0.616319    0.619792   \n",
       "1990-01-05     Friday    January    0.638889    0.621528    0.635417   \n",
       "1990-01-08     Monday    January    0.631944    0.614583    0.621528   \n",
       "...               ...        ...         ...         ...         ...   \n",
       "2021-12-27     Monday   December  342.480011  335.429993  335.459991   \n",
       "2021-12-28    Tuesday   December  343.809998  340.320007  343.149994   \n",
       "2021-12-29  Wednesday   December  344.299988  339.679993  341.299988   \n",
       "2021-12-30   Thursday   December  343.130005  338.820007  341.910004   \n",
       "2021-12-31     Friday   December  339.359985  335.850006  338.510010   \n",
       "\n",
       "                 Close       Volume   Adj Close  \n",
       "Date                                             \n",
       "1990-01-02    0.616319   53035200.0    0.386570  \n",
       "1990-01-03    0.619792  113774400.0    0.388748  \n",
       "1990-01-04    0.638021  125740800.0    0.400182  \n",
       "1990-01-05    0.622396   69566400.0    0.390381  \n",
       "1990-01-08    0.631944   58982400.0    0.396370  \n",
       "...                ...          ...         ...  \n",
       "2021-12-27  342.450012   19947000.0  340.227112  \n",
       "2021-12-28  341.250000   15661500.0  339.034882  \n",
       "2021-12-29  341.950012   15042000.0  339.730377  \n",
       "2021-12-30  339.320007   15994500.0  337.117432  \n",
       "2021-12-31  336.320007   18000800.0  334.136932  \n",
       "\n",
       "[8064 rows x 8 columns]"
      ]
     },
     "execution_count": 85,
     "metadata": {},
     "output_type": "execute_result"
    }
   ],
   "source": [
    "stocks.insert(1,column=\"Month_Name\",value=month_names)\n",
    "stocks"
   ]
  },
  {
   "cell_type": "code",
   "execution_count": 88,
   "id": "1c210af9",
   "metadata": {},
   "outputs": [
    {
     "data": {
      "text/html": [
       "<div>\n",
       "<style scoped>\n",
       "    .dataframe tbody tr th:only-of-type {\n",
       "        vertical-align: middle;\n",
       "    }\n",
       "\n",
       "    .dataframe tbody tr th {\n",
       "        vertical-align: top;\n",
       "    }\n",
       "\n",
       "    .dataframe thead th {\n",
       "        text-align: right;\n",
       "    }\n",
       "</style>\n",
       "<table border=\"1\" class=\"dataframe\">\n",
       "  <thead>\n",
       "    <tr style=\"text-align: right;\">\n",
       "      <th></th>\n",
       "      <th>Day_name</th>\n",
       "      <th>Month_Name</th>\n",
       "      <th>High</th>\n",
       "      <th>Low</th>\n",
       "      <th>Open</th>\n",
       "      <th>Close</th>\n",
       "      <th>Volume</th>\n",
       "      <th>Adj Close</th>\n",
       "    </tr>\n",
       "    <tr>\n",
       "      <th>Date</th>\n",
       "      <th></th>\n",
       "      <th></th>\n",
       "      <th></th>\n",
       "      <th></th>\n",
       "      <th></th>\n",
       "      <th></th>\n",
       "      <th></th>\n",
       "      <th></th>\n",
       "    </tr>\n",
       "  </thead>\n",
       "  <tbody>\n",
       "    <tr>\n",
       "      <th>1990-02-01</th>\n",
       "      <td>Thursday</td>\n",
       "      <td>February</td>\n",
       "      <td>0.654514</td>\n",
       "      <td>0.642361</td>\n",
       "      <td>0.642361</td>\n",
       "      <td>0.651042</td>\n",
       "      <td>89193600.0</td>\n",
       "      <td>0.408349</td>\n",
       "    </tr>\n",
       "    <tr>\n",
       "      <th>1990-03-01</th>\n",
       "      <td>Thursday</td>\n",
       "      <td>March</td>\n",
       "      <td>0.706597</td>\n",
       "      <td>0.684028</td>\n",
       "      <td>0.684028</td>\n",
       "      <td>0.694444</td>\n",
       "      <td>76867200.0</td>\n",
       "      <td>0.435572</td>\n",
       "    </tr>\n",
       "    <tr>\n",
       "      <th>1990-05-01</th>\n",
       "      <td>Tuesday</td>\n",
       "      <td>May</td>\n",
       "      <td>0.815972</td>\n",
       "      <td>0.788194</td>\n",
       "      <td>0.815972</td>\n",
       "      <td>0.793403</td>\n",
       "      <td>52473600.0</td>\n",
       "      <td>0.497641</td>\n",
       "    </tr>\n",
       "    <tr>\n",
       "      <th>1990-06-01</th>\n",
       "      <td>Friday</td>\n",
       "      <td>June</td>\n",
       "      <td>1.045139</td>\n",
       "      <td>1.013889</td>\n",
       "      <td>1.017361</td>\n",
       "      <td>1.043403</td>\n",
       "      <td>69069600.0</td>\n",
       "      <td>0.654447</td>\n",
       "    </tr>\n",
       "    <tr>\n",
       "      <th>1990-08-01</th>\n",
       "      <td>Wednesday</td>\n",
       "      <td>August</td>\n",
       "      <td>0.934028</td>\n",
       "      <td>0.885417</td>\n",
       "      <td>0.920139</td>\n",
       "      <td>0.927083</td>\n",
       "      <td>111117600.0</td>\n",
       "      <td>0.581488</td>\n",
       "    </tr>\n",
       "    <tr>\n",
       "      <th>...</th>\n",
       "      <td>...</td>\n",
       "      <td>...</td>\n",
       "      <td>...</td>\n",
       "      <td>...</td>\n",
       "      <td>...</td>\n",
       "      <td>...</td>\n",
       "      <td>...</td>\n",
       "      <td>...</td>\n",
       "    </tr>\n",
       "    <tr>\n",
       "      <th>2021-07-01</th>\n",
       "      <td>Thursday</td>\n",
       "      <td>July</td>\n",
       "      <td>271.839996</td>\n",
       "      <td>269.600006</td>\n",
       "      <td>269.609985</td>\n",
       "      <td>271.600006</td>\n",
       "      <td>16725300.0</td>\n",
       "      <td>268.829590</td>\n",
       "    </tr>\n",
       "    <tr>\n",
       "      <th>2021-09-01</th>\n",
       "      <td>Wednesday</td>\n",
       "      <td>September</td>\n",
       "      <td>305.190002</td>\n",
       "      <td>301.489990</td>\n",
       "      <td>302.869995</td>\n",
       "      <td>301.829987</td>\n",
       "      <td>18983800.0</td>\n",
       "      <td>299.323151</td>\n",
       "    </tr>\n",
       "    <tr>\n",
       "      <th>2021-10-01</th>\n",
       "      <td>Friday</td>\n",
       "      <td>October</td>\n",
       "      <td>289.980011</td>\n",
       "      <td>281.290009</td>\n",
       "      <td>282.119995</td>\n",
       "      <td>289.100006</td>\n",
       "      <td>30086300.0</td>\n",
       "      <td>286.698883</td>\n",
       "    </tr>\n",
       "    <tr>\n",
       "      <th>2021-11-01</th>\n",
       "      <td>Monday</td>\n",
       "      <td>November</td>\n",
       "      <td>331.489990</td>\n",
       "      <td>326.369995</td>\n",
       "      <td>331.359985</td>\n",
       "      <td>329.369995</td>\n",
       "      <td>27073200.0</td>\n",
       "      <td>326.634399</td>\n",
       "    </tr>\n",
       "    <tr>\n",
       "      <th>2021-12-01</th>\n",
       "      <td>Wednesday</td>\n",
       "      <td>December</td>\n",
       "      <td>339.279999</td>\n",
       "      <td>329.390015</td>\n",
       "      <td>335.130005</td>\n",
       "      <td>330.079987</td>\n",
       "      <td>33337600.0</td>\n",
       "      <td>327.937408</td>\n",
       "    </tr>\n",
       "  </tbody>\n",
       "</table>\n",
       "<p>246 rows × 8 columns</p>\n",
       "</div>"
      ],
      "text/plain": [
       "             Day_name Month_Name        High         Low        Open  \\\n",
       "Date                                                                   \n",
       "1990-02-01   Thursday   February    0.654514    0.642361    0.642361   \n",
       "1990-03-01   Thursday      March    0.706597    0.684028    0.684028   \n",
       "1990-05-01    Tuesday        May    0.815972    0.788194    0.815972   \n",
       "1990-06-01     Friday       June    1.045139    1.013889    1.017361   \n",
       "1990-08-01  Wednesday     August    0.934028    0.885417    0.920139   \n",
       "...               ...        ...         ...         ...         ...   \n",
       "2021-07-01   Thursday       July  271.839996  269.600006  269.609985   \n",
       "2021-09-01  Wednesday  September  305.190002  301.489990  302.869995   \n",
       "2021-10-01     Friday    October  289.980011  281.290009  282.119995   \n",
       "2021-11-01     Monday   November  331.489990  326.369995  331.359985   \n",
       "2021-12-01  Wednesday   December  339.279999  329.390015  335.130005   \n",
       "\n",
       "                 Close       Volume   Adj Close  \n",
       "Date                                             \n",
       "1990-02-01    0.651042   89193600.0    0.408349  \n",
       "1990-03-01    0.694444   76867200.0    0.435572  \n",
       "1990-05-01    0.793403   52473600.0    0.497641  \n",
       "1990-06-01    1.043403   69069600.0    0.654447  \n",
       "1990-08-01    0.927083  111117600.0    0.581488  \n",
       "...                ...          ...         ...  \n",
       "2021-07-01  271.600006   16725300.0  268.829590  \n",
       "2021-09-01  301.829987   18983800.0  299.323151  \n",
       "2021-10-01  289.100006   30086300.0  286.698883  \n",
       "2021-11-01  329.369995   27073200.0  326.634399  \n",
       "2021-12-01  330.079987   33337600.0  327.937408  \n",
       "\n",
       "[246 rows x 8 columns]"
      ]
     },
     "execution_count": 88,
     "metadata": {},
     "output_type": "execute_result"
    }
   ],
   "source": [
    "stocks[stocks.index.is_month_start]"
   ]
  },
  {
   "cell_type": "markdown",
   "id": "deb1442f",
   "metadata": {},
   "source": [
    "## The pd.DateOffset Object"
   ]
  },
  {
   "cell_type": "code",
   "execution_count": 89,
   "id": "e9a3a35c",
   "metadata": {},
   "outputs": [
    {
     "data": {
      "text/html": [
       "<div>\n",
       "<style scoped>\n",
       "    .dataframe tbody tr th:only-of-type {\n",
       "        vertical-align: middle;\n",
       "    }\n",
       "\n",
       "    .dataframe tbody tr th {\n",
       "        vertical-align: top;\n",
       "    }\n",
       "\n",
       "    .dataframe thead th {\n",
       "        text-align: right;\n",
       "    }\n",
       "</style>\n",
       "<table border=\"1\" class=\"dataframe\">\n",
       "  <thead>\n",
       "    <tr style=\"text-align: right;\">\n",
       "      <th></th>\n",
       "      <th>Day_name</th>\n",
       "      <th>Month_Name</th>\n",
       "      <th>High</th>\n",
       "      <th>Low</th>\n",
       "      <th>Open</th>\n",
       "      <th>Close</th>\n",
       "      <th>Volume</th>\n",
       "      <th>Adj Close</th>\n",
       "    </tr>\n",
       "    <tr>\n",
       "      <th>Date</th>\n",
       "      <th></th>\n",
       "      <th></th>\n",
       "      <th></th>\n",
       "      <th></th>\n",
       "      <th></th>\n",
       "      <th></th>\n",
       "      <th></th>\n",
       "      <th></th>\n",
       "    </tr>\n",
       "  </thead>\n",
       "  <tbody>\n",
       "    <tr>\n",
       "      <th>1990-01-02</th>\n",
       "      <td>Tuesday</td>\n",
       "      <td>January</td>\n",
       "      <td>0.616319</td>\n",
       "      <td>0.598090</td>\n",
       "      <td>0.605903</td>\n",
       "      <td>0.616319</td>\n",
       "      <td>53035200.0</td>\n",
       "      <td>0.386570</td>\n",
       "    </tr>\n",
       "    <tr>\n",
       "      <th>1990-01-03</th>\n",
       "      <td>Wednesday</td>\n",
       "      <td>January</td>\n",
       "      <td>0.626736</td>\n",
       "      <td>0.614583</td>\n",
       "      <td>0.621528</td>\n",
       "      <td>0.619792</td>\n",
       "      <td>113774400.0</td>\n",
       "      <td>0.388748</td>\n",
       "    </tr>\n",
       "    <tr>\n",
       "      <th>1990-01-04</th>\n",
       "      <td>Thursday</td>\n",
       "      <td>January</td>\n",
       "      <td>0.638889</td>\n",
       "      <td>0.616319</td>\n",
       "      <td>0.619792</td>\n",
       "      <td>0.638021</td>\n",
       "      <td>125740800.0</td>\n",
       "      <td>0.400182</td>\n",
       "    </tr>\n",
       "    <tr>\n",
       "      <th>1990-01-05</th>\n",
       "      <td>Friday</td>\n",
       "      <td>January</td>\n",
       "      <td>0.638889</td>\n",
       "      <td>0.621528</td>\n",
       "      <td>0.635417</td>\n",
       "      <td>0.622396</td>\n",
       "      <td>69566400.0</td>\n",
       "      <td>0.390381</td>\n",
       "    </tr>\n",
       "    <tr>\n",
       "      <th>1990-01-08</th>\n",
       "      <td>Monday</td>\n",
       "      <td>January</td>\n",
       "      <td>0.631944</td>\n",
       "      <td>0.614583</td>\n",
       "      <td>0.621528</td>\n",
       "      <td>0.631944</td>\n",
       "      <td>58982400.0</td>\n",
       "      <td>0.396370</td>\n",
       "    </tr>\n",
       "  </tbody>\n",
       "</table>\n",
       "</div>"
      ],
      "text/plain": [
       "             Day_name Month_Name      High       Low      Open     Close  \\\n",
       "Date                                                                       \n",
       "1990-01-02    Tuesday    January  0.616319  0.598090  0.605903  0.616319   \n",
       "1990-01-03  Wednesday    January  0.626736  0.614583  0.621528  0.619792   \n",
       "1990-01-04   Thursday    January  0.638889  0.616319  0.619792  0.638021   \n",
       "1990-01-05     Friday    January  0.638889  0.621528  0.635417  0.622396   \n",
       "1990-01-08     Monday    January  0.631944  0.614583  0.621528  0.631944   \n",
       "\n",
       "                 Volume  Adj Close  \n",
       "Date                                \n",
       "1990-01-02   53035200.0   0.386570  \n",
       "1990-01-03  113774400.0   0.388748  \n",
       "1990-01-04  125740800.0   0.400182  \n",
       "1990-01-05   69566400.0   0.390381  \n",
       "1990-01-08   58982400.0   0.396370  "
      ]
     },
     "execution_count": 89,
     "metadata": {},
     "output_type": "execute_result"
    }
   ],
   "source": [
    "stocks.head()"
   ]
  },
  {
   "cell_type": "code",
   "execution_count": 90,
   "id": "efd0784f",
   "metadata": {},
   "outputs": [
    {
     "data": {
      "text/plain": [
       "DatetimeIndex(['1990-01-02', '1990-01-03', '1990-01-04', '1990-01-05',\n",
       "               '1990-01-08', '1990-01-09', '1990-01-10', '1990-01-11',\n",
       "               '1990-01-12', '1990-01-15',\n",
       "               ...\n",
       "               '2021-12-17', '2021-12-20', '2021-12-21', '2021-12-22',\n",
       "               '2021-12-23', '2021-12-27', '2021-12-28', '2021-12-29',\n",
       "               '2021-12-30', '2021-12-31'],\n",
       "              dtype='datetime64[ns]', name='Date', length=8064, freq=None)"
      ]
     },
     "execution_count": 90,
     "metadata": {},
     "output_type": "execute_result"
    }
   ],
   "source": [
    "stocks.index"
   ]
  },
  {
   "cell_type": "code",
   "execution_count": 92,
   "id": "2e14cc8b",
   "metadata": {},
   "outputs": [
    {
     "ename": "TypeError",
     "evalue": "Addition/subtraction of integers and integer-arrays with DatetimeArray is no longer supported.  Instead of adding/subtracting `n`, use `n * obj.freq`",
     "output_type": "error",
     "traceback": [
      "\u001b[1;31m---------------------------------------------------------------------------\u001b[0m",
      "\u001b[1;31mTypeError\u001b[0m                                 Traceback (most recent call last)",
      "Input \u001b[1;32mIn [92]\u001b[0m, in \u001b[0;36m<cell line: 1>\u001b[1;34m()\u001b[0m\n\u001b[1;32m----> 1\u001b[0m \u001b[43mstocks\u001b[49m\u001b[38;5;241;43m.\u001b[39;49m\u001b[43mindex\u001b[49m\u001b[38;5;241;43m+\u001b[39;49m\u001b[38;5;241;43m5\u001b[39;49m\n",
      "File \u001b[1;32m~\\anaconda3\\lib\\site-packages\\pandas\\core\\ops\\common.py:70\u001b[0m, in \u001b[0;36m_unpack_zerodim_and_defer.<locals>.new_method\u001b[1;34m(self, other)\u001b[0m\n\u001b[0;32m     66\u001b[0m             \u001b[38;5;28;01mreturn\u001b[39;00m \u001b[38;5;28mNotImplemented\u001b[39m\n\u001b[0;32m     68\u001b[0m other \u001b[38;5;241m=\u001b[39m item_from_zerodim(other)\n\u001b[1;32m---> 70\u001b[0m \u001b[38;5;28;01mreturn\u001b[39;00m \u001b[43mmethod\u001b[49m\u001b[43m(\u001b[49m\u001b[38;5;28;43mself\u001b[39;49m\u001b[43m,\u001b[49m\u001b[43m \u001b[49m\u001b[43mother\u001b[49m\u001b[43m)\u001b[49m\n",
      "File \u001b[1;32m~\\anaconda3\\lib\\site-packages\\pandas\\core\\arraylike.py:100\u001b[0m, in \u001b[0;36mOpsMixin.__add__\u001b[1;34m(self, other)\u001b[0m\n\u001b[0;32m     98\u001b[0m \u001b[38;5;129m@unpack_zerodim_and_defer\u001b[39m(\u001b[38;5;124m\"\u001b[39m\u001b[38;5;124m__add__\u001b[39m\u001b[38;5;124m\"\u001b[39m)\n\u001b[0;32m     99\u001b[0m \u001b[38;5;28;01mdef\u001b[39;00m \u001b[38;5;21m__add__\u001b[39m(\u001b[38;5;28mself\u001b[39m, other):\n\u001b[1;32m--> 100\u001b[0m     \u001b[38;5;28;01mreturn\u001b[39;00m \u001b[38;5;28;43mself\u001b[39;49m\u001b[38;5;241;43m.\u001b[39;49m\u001b[43m_arith_method\u001b[49m\u001b[43m(\u001b[49m\u001b[43mother\u001b[49m\u001b[43m,\u001b[49m\u001b[43m \u001b[49m\u001b[43moperator\u001b[49m\u001b[38;5;241;43m.\u001b[39;49m\u001b[43madd\u001b[49m\u001b[43m)\u001b[49m\n",
      "File \u001b[1;32m~\\anaconda3\\lib\\site-packages\\pandas\\core\\indexes\\base.py:6717\u001b[0m, in \u001b[0;36mIndex._arith_method\u001b[1;34m(self, other, op)\u001b[0m\n\u001b[0;32m   6707\u001b[0m \u001b[38;5;28;01mif\u001b[39;00m (\n\u001b[0;32m   6708\u001b[0m     \u001b[38;5;28misinstance\u001b[39m(other, Index)\n\u001b[0;32m   6709\u001b[0m     \u001b[38;5;129;01mand\u001b[39;00m is_object_dtype(other\u001b[38;5;241m.\u001b[39mdtype)\n\u001b[1;32m   (...)\u001b[0m\n\u001b[0;32m   6713\u001b[0m     \u001b[38;5;66;03m# a chance to implement ops before we unwrap them.\u001b[39;00m\n\u001b[0;32m   6714\u001b[0m     \u001b[38;5;66;03m# See https://github.com/pandas-dev/pandas/issues/31109\u001b[39;00m\n\u001b[0;32m   6715\u001b[0m     \u001b[38;5;28;01mreturn\u001b[39;00m \u001b[38;5;28mNotImplemented\u001b[39m\n\u001b[1;32m-> 6717\u001b[0m \u001b[38;5;28;01mreturn\u001b[39;00m \u001b[38;5;28;43msuper\u001b[39;49m\u001b[43m(\u001b[49m\u001b[43m)\u001b[49m\u001b[38;5;241;43m.\u001b[39;49m\u001b[43m_arith_method\u001b[49m\u001b[43m(\u001b[49m\u001b[43mother\u001b[49m\u001b[43m,\u001b[49m\u001b[43m \u001b[49m\u001b[43mop\u001b[49m\u001b[43m)\u001b[49m\n",
      "File \u001b[1;32m~\\anaconda3\\lib\\site-packages\\pandas\\core\\base.py:1295\u001b[0m, in \u001b[0;36mIndexOpsMixin._arith_method\u001b[1;34m(self, other, op)\u001b[0m\n\u001b[0;32m   1292\u001b[0m rvalues \u001b[38;5;241m=\u001b[39m ensure_wrapped_if_datetimelike(rvalues)\n\u001b[0;32m   1294\u001b[0m \u001b[38;5;28;01mwith\u001b[39;00m np\u001b[38;5;241m.\u001b[39merrstate(\u001b[38;5;28mall\u001b[39m\u001b[38;5;241m=\u001b[39m\u001b[38;5;124m\"\u001b[39m\u001b[38;5;124mignore\u001b[39m\u001b[38;5;124m\"\u001b[39m):\n\u001b[1;32m-> 1295\u001b[0m     result \u001b[38;5;241m=\u001b[39m \u001b[43mops\u001b[49m\u001b[38;5;241;43m.\u001b[39;49m\u001b[43marithmetic_op\u001b[49m\u001b[43m(\u001b[49m\u001b[43mlvalues\u001b[49m\u001b[43m,\u001b[49m\u001b[43m \u001b[49m\u001b[43mrvalues\u001b[49m\u001b[43m,\u001b[49m\u001b[43m \u001b[49m\u001b[43mop\u001b[49m\u001b[43m)\u001b[49m\n\u001b[0;32m   1297\u001b[0m \u001b[38;5;28;01mreturn\u001b[39;00m \u001b[38;5;28mself\u001b[39m\u001b[38;5;241m.\u001b[39m_construct_result(result, name\u001b[38;5;241m=\u001b[39mres_name)\n",
      "File \u001b[1;32m~\\anaconda3\\lib\\site-packages\\pandas\\core\\ops\\array_ops.py:216\u001b[0m, in \u001b[0;36marithmetic_op\u001b[1;34m(left, right, op)\u001b[0m\n\u001b[0;32m    203\u001b[0m \u001b[38;5;66;03m# NB: We assume that extract_array and ensure_wrapped_if_datetimelike\u001b[39;00m\n\u001b[0;32m    204\u001b[0m \u001b[38;5;66;03m#  have already been called on `left` and `right`,\u001b[39;00m\n\u001b[0;32m    205\u001b[0m \u001b[38;5;66;03m#  and `maybe_prepare_scalar_for_op` has already been called on `right`\u001b[39;00m\n\u001b[0;32m    206\u001b[0m \u001b[38;5;66;03m# We need to special-case datetime64/timedelta64 dtypes (e.g. because numpy\u001b[39;00m\n\u001b[0;32m    207\u001b[0m \u001b[38;5;66;03m# casts integer dtypes to timedelta64 when operating with timedelta64 - GH#22390)\u001b[39;00m\n\u001b[0;32m    209\u001b[0m \u001b[38;5;28;01mif\u001b[39;00m (\n\u001b[0;32m    210\u001b[0m     should_extension_dispatch(left, right)\n\u001b[0;32m    211\u001b[0m     \u001b[38;5;129;01mor\u001b[39;00m \u001b[38;5;28misinstance\u001b[39m(right, (Timedelta, BaseOffset, Timestamp))\n\u001b[1;32m   (...)\u001b[0m\n\u001b[0;32m    214\u001b[0m     \u001b[38;5;66;03m# Timedelta/Timestamp and other custom scalars are included in the check\u001b[39;00m\n\u001b[0;32m    215\u001b[0m     \u001b[38;5;66;03m# because numexpr will fail on it, see GH#31457\u001b[39;00m\n\u001b[1;32m--> 216\u001b[0m     res_values \u001b[38;5;241m=\u001b[39m \u001b[43mop\u001b[49m\u001b[43m(\u001b[49m\u001b[43mleft\u001b[49m\u001b[43m,\u001b[49m\u001b[43m \u001b[49m\u001b[43mright\u001b[49m\u001b[43m)\u001b[49m\n\u001b[0;32m    217\u001b[0m \u001b[38;5;28;01melse\u001b[39;00m:\n\u001b[0;32m    218\u001b[0m     \u001b[38;5;66;03m# TODO we should handle EAs consistently and move this check before the if/else\u001b[39;00m\n\u001b[0;32m    219\u001b[0m     \u001b[38;5;66;03m# (https://github.com/pandas-dev/pandas/issues/41165)\u001b[39;00m\n\u001b[0;32m    220\u001b[0m     _bool_arith_check(op, left, right)\n",
      "File \u001b[1;32m~\\anaconda3\\lib\\site-packages\\pandas\\core\\ops\\common.py:70\u001b[0m, in \u001b[0;36m_unpack_zerodim_and_defer.<locals>.new_method\u001b[1;34m(self, other)\u001b[0m\n\u001b[0;32m     66\u001b[0m             \u001b[38;5;28;01mreturn\u001b[39;00m \u001b[38;5;28mNotImplemented\u001b[39m\n\u001b[0;32m     68\u001b[0m other \u001b[38;5;241m=\u001b[39m item_from_zerodim(other)\n\u001b[1;32m---> 70\u001b[0m \u001b[38;5;28;01mreturn\u001b[39;00m \u001b[43mmethod\u001b[49m\u001b[43m(\u001b[49m\u001b[38;5;28;43mself\u001b[39;49m\u001b[43m,\u001b[49m\u001b[43m \u001b[49m\u001b[43mother\u001b[49m\u001b[43m)\u001b[49m\n",
      "File \u001b[1;32m~\\anaconda3\\lib\\site-packages\\pandas\\core\\arrays\\datetimelike.py:1271\u001b[0m, in \u001b[0;36mDatetimeLikeArrayMixin.__add__\u001b[1;34m(self, other)\u001b[0m\n\u001b[0;32m   1267\u001b[0m \u001b[38;5;28;01melif\u001b[39;00m lib\u001b[38;5;241m.\u001b[39mis_integer(other):\n\u001b[0;32m   1268\u001b[0m     \u001b[38;5;66;03m# This check must come after the check for np.timedelta64\u001b[39;00m\n\u001b[0;32m   1269\u001b[0m     \u001b[38;5;66;03m# as is_integer returns True for these\u001b[39;00m\n\u001b[0;32m   1270\u001b[0m     \u001b[38;5;28;01mif\u001b[39;00m \u001b[38;5;129;01mnot\u001b[39;00m is_period_dtype(\u001b[38;5;28mself\u001b[39m\u001b[38;5;241m.\u001b[39mdtype):\n\u001b[1;32m-> 1271\u001b[0m         \u001b[38;5;28;01mraise\u001b[39;00m integer_op_not_supported(\u001b[38;5;28mself\u001b[39m)\n\u001b[0;32m   1272\u001b[0m     result \u001b[38;5;241m=\u001b[39m \u001b[38;5;28mself\u001b[39m\u001b[38;5;241m.\u001b[39m_time_shift(other)\n\u001b[0;32m   1274\u001b[0m \u001b[38;5;66;03m# array-like others\u001b[39;00m\n",
      "\u001b[1;31mTypeError\u001b[0m: Addition/subtraction of integers and integer-arrays with DatetimeArray is no longer supported.  Instead of adding/subtracting `n`, use `n * obj.freq`"
     ]
    }
   ],
   "source": [
    "stocks.index+5 # pands geting confsue, if you are addding date,adding month or year, for that we are using the dateoffset"
   ]
  },
  {
   "cell_type": "code",
   "execution_count": 93,
   "id": "e6bfb117",
   "metadata": {},
   "outputs": [
    {
     "data": {
      "text/plain": [
       "DatetimeIndex(['1990-01-07', '1990-01-08', '1990-01-09', '1990-01-10',\n",
       "               '1990-01-13', '1990-01-14', '1990-01-15', '1990-01-16',\n",
       "               '1990-01-17', '1990-01-20',\n",
       "               ...\n",
       "               '2021-12-22', '2021-12-25', '2021-12-26', '2021-12-27',\n",
       "               '2021-12-28', '2022-01-01', '2022-01-02', '2022-01-03',\n",
       "               '2022-01-04', '2022-01-05'],\n",
       "              dtype='datetime64[ns]', name='Date', length=8064, freq=None)"
      ]
     },
     "execution_count": 93,
     "metadata": {},
     "output_type": "execute_result"
    }
   ],
   "source": [
    "stocks.index+pd.DateOffset(days=5) "
   ]
  },
  {
   "cell_type": "code",
   "execution_count": 104,
   "id": "d6d40596",
   "metadata": {},
   "outputs": [
    {
     "data": {
      "text/plain": [
       "DatetimeIndex(['1987-07-08 13:14:26', '1987-07-09 13:14:26',\n",
       "               '1987-07-10 13:14:26', '1987-07-11 13:14:26',\n",
       "               '1987-07-14 13:14:26', '1987-07-15 13:14:26',\n",
       "               '1987-07-16 13:14:26', '1987-07-17 13:14:26',\n",
       "               '1987-07-18 13:14:26', '1987-07-21 13:14:26',\n",
       "               ...\n",
       "               '2019-06-22 13:14:26', '2019-06-25 13:14:26',\n",
       "               '2019-06-26 13:14:26', '2019-06-27 13:14:26',\n",
       "               '2019-06-28 13:14:26', '2019-07-02 13:14:26',\n",
       "               '2019-07-03 13:14:26', '2019-07-04 13:14:26',\n",
       "               '2019-07-05 13:14:26', '2019-07-06 13:14:26'],\n",
       "              dtype='datetime64[ns]', name='Date', length=8064, freq=None)"
      ]
     },
     "execution_count": 104,
     "metadata": {},
     "output_type": "execute_result"
    }
   ],
   "source": [
    "stocks.index + pd.DateOffset(weeks=5) \n",
    "stocks.index - pd.DateOffset(weeks=5) \n",
    "\n",
    "\n",
    "stocks.index + pd.DateOffset(months=5)\n",
    "stocks.index - pd.DateOffset(months=5) \n",
    "\n",
    "stocks.index + pd.DateOffset(years=5) \n",
    "stocks.index - pd.DateOffset(years=5) \n",
    "\n",
    "\n",
    "stocks.index + pd.DateOffset(days=3,months=5,weeks=3,years=2)\n",
    "\n",
    "stocks.index - pd.DateOffset(days=3,months=5,weeks=3,years=2,hours=10,minutes=45,seconds=34)\n",
    "\n",
    "    "
   ]
  },
  {
   "cell_type": "markdown",
   "id": "9a660b18",
   "metadata": {},
   "source": [
    "## Timeseries Offsets"
   ]
  },
  {
   "cell_type": "markdown",
   "id": "c23b2a34",
   "metadata": {},
   "source": [
    "The offset specifies a set of dates that conform to the DateOffset. We can create the DateOffsets to move the dates forward to valid dates."
   ]
  },
  {
   "cell_type": "markdown",
   "id": "205f0bab",
   "metadata": {},
   "source": [
    "we want round of the date for end of the month or start of the month timeseries offsets help us"
   ]
  },
  {
   "cell_type": "code",
   "execution_count": 8,
   "id": "d583c656",
   "metadata": {},
   "outputs": [
    {
     "name": "stdout",
     "output_type": "stream",
     "text": [
      "<class 'pandas.core.frame.DataFrame'>\n",
      "DatetimeIndex: 8064 entries, 1990-01-02 to 2021-12-31\n",
      "Data columns (total 6 columns):\n",
      " #   Column     Non-Null Count  Dtype  \n",
      "---  ------     --------------  -----  \n",
      " 0   High       8064 non-null   float64\n",
      " 1   Low        8064 non-null   float64\n",
      " 2   Open       8064 non-null   float64\n",
      " 3   Close      8064 non-null   float64\n",
      " 4   Volume     8064 non-null   float64\n",
      " 5   Adj Close  8064 non-null   float64\n",
      "dtypes: float64(6)\n",
      "memory usage: 441.0 KB\n"
     ]
    }
   ],
   "source": [
    "stocks.info()"
   ]
  },
  {
   "cell_type": "code",
   "execution_count": 18,
   "id": "3fd23ed5",
   "metadata": {},
   "outputs": [
    {
     "data": {
      "text/plain": [
       "DatetimeIndex(['1990-01-31', '1990-01-31', '1990-01-31', '1990-01-31',\n",
       "               '1990-01-31', '1990-01-31', '1990-01-31', '1990-01-31',\n",
       "               '1990-01-31', '1990-01-31', '1990-01-31', '1990-01-31',\n",
       "               '1990-01-31', '1990-01-31', '1990-01-31', '1990-01-31',\n",
       "               '1990-01-31', '1990-01-31', '1990-01-31', '1990-01-31',\n",
       "               '1990-01-31', '1990-02-28', '1990-02-28', '1990-02-28',\n",
       "               '1990-02-28', '1990-02-28', '1990-02-28', '1990-02-28',\n",
       "               '1990-02-28', '1990-02-28', '1990-02-28', '1990-02-28',\n",
       "               '1990-02-28', '1990-02-28', '1990-02-28', '1990-02-28',\n",
       "               '1990-02-28', '1990-02-28', '1990-02-28', '1990-02-28'],\n",
       "              dtype='datetime64[ns]', name='Date', freq=None)"
      ]
     },
     "execution_count": 18,
     "metadata": {},
     "output_type": "execute_result"
    }
   ],
   "source": [
    "stock_monthend=stocks.index+pd.tseries.offsets.MonthEnd() \n",
    "stock_monthend[:40]\n",
    "# Monthend making each day to 31,"
   ]
  },
  {
   "cell_type": "code",
   "execution_count": 23,
   "id": "60ee7bec",
   "metadata": {},
   "outputs": [
    {
     "data": {
      "text/plain": [
       "DatetimeIndex(['1990-01-31', '1990-01-31', '1990-01-31', '1990-01-31',\n",
       "               '1990-01-31', '1990-01-31', '1990-01-31', '1990-01-31',\n",
       "               '1990-01-31', '1990-01-31',\n",
       "               ...\n",
       "               '2021-12-31', '2021-12-31', '2021-12-31', '2021-12-31',\n",
       "               '2021-12-31', '2021-12-31', '2021-12-31', '2021-12-31',\n",
       "               '2021-12-31', '2022-01-31'],\n",
       "              dtype='datetime64[ns]', name='Date', length=8064, freq=None)"
      ]
     },
     "execution_count": 23,
     "metadata": {},
     "output_type": "execute_result"
    }
   ],
   "source": [
    "month_end=stocks.index+pd.tseries.offsets.MonthEnd()\n",
    "month_end"
   ]
  },
  {
   "cell_type": "code",
   "execution_count": 9,
   "id": "901eccd3",
   "metadata": {},
   "outputs": [
    {
     "data": {
      "text/html": [
       "<div>\n",
       "<style scoped>\n",
       "    .dataframe tbody tr th:only-of-type {\n",
       "        vertical-align: middle;\n",
       "    }\n",
       "\n",
       "    .dataframe tbody tr th {\n",
       "        vertical-align: top;\n",
       "    }\n",
       "\n",
       "    .dataframe thead th {\n",
       "        text-align: right;\n",
       "    }\n",
       "</style>\n",
       "<table border=\"1\" class=\"dataframe\">\n",
       "  <thead>\n",
       "    <tr style=\"text-align: right;\">\n",
       "      <th></th>\n",
       "      <th>High</th>\n",
       "      <th>Low</th>\n",
       "      <th>Open</th>\n",
       "      <th>Close</th>\n",
       "      <th>Volume</th>\n",
       "      <th>Adj Close</th>\n",
       "    </tr>\n",
       "    <tr>\n",
       "      <th>Date</th>\n",
       "      <th></th>\n",
       "      <th></th>\n",
       "      <th></th>\n",
       "      <th></th>\n",
       "      <th></th>\n",
       "      <th></th>\n",
       "    </tr>\n",
       "  </thead>\n",
       "  <tbody>\n",
       "    <tr>\n",
       "      <th>2021-10-21</th>\n",
       "      <td>311.019989</td>\n",
       "      <td>306.359985</td>\n",
       "      <td>307.170013</td>\n",
       "      <td>310.760010</td>\n",
       "      <td>16918100.0</td>\n",
       "      <td>308.178986</td>\n",
       "    </tr>\n",
       "    <tr>\n",
       "      <th>2021-10-22</th>\n",
       "      <td>311.089996</td>\n",
       "      <td>307.799988</td>\n",
       "      <td>310.399994</td>\n",
       "      <td>309.160004</td>\n",
       "      <td>17449300.0</td>\n",
       "      <td>306.592285</td>\n",
       "    </tr>\n",
       "    <tr>\n",
       "      <th>2021-10-25</th>\n",
       "      <td>309.399994</td>\n",
       "      <td>306.459991</td>\n",
       "      <td>309.359985</td>\n",
       "      <td>308.130005</td>\n",
       "      <td>17554500.0</td>\n",
       "      <td>305.570862</td>\n",
       "    </tr>\n",
       "    <tr>\n",
       "      <th>2021-10-26</th>\n",
       "      <td>312.399994</td>\n",
       "      <td>308.600006</td>\n",
       "      <td>311.000000</td>\n",
       "      <td>310.109985</td>\n",
       "      <td>28107300.0</td>\n",
       "      <td>307.534393</td>\n",
       "    </tr>\n",
       "    <tr>\n",
       "      <th>2021-10-27</th>\n",
       "      <td>326.100006</td>\n",
       "      <td>316.000000</td>\n",
       "      <td>316.000000</td>\n",
       "      <td>323.170013</td>\n",
       "      <td>52588700.0</td>\n",
       "      <td>320.485931</td>\n",
       "    </tr>\n",
       "    <tr>\n",
       "      <th>2021-10-28</th>\n",
       "      <td>324.869995</td>\n",
       "      <td>321.359985</td>\n",
       "      <td>324.329987</td>\n",
       "      <td>324.350006</td>\n",
       "      <td>26297900.0</td>\n",
       "      <td>321.656097</td>\n",
       "    </tr>\n",
       "    <tr>\n",
       "      <th>2021-10-29</th>\n",
       "      <td>332.000000</td>\n",
       "      <td>323.899994</td>\n",
       "      <td>324.130005</td>\n",
       "      <td>331.619995</td>\n",
       "      <td>34766000.0</td>\n",
       "      <td>328.865753</td>\n",
       "    </tr>\n",
       "    <tr>\n",
       "      <th>2021-11-01</th>\n",
       "      <td>331.489990</td>\n",
       "      <td>326.369995</td>\n",
       "      <td>331.359985</td>\n",
       "      <td>329.369995</td>\n",
       "      <td>27073200.0</td>\n",
       "      <td>326.634430</td>\n",
       "    </tr>\n",
       "    <tr>\n",
       "      <th>2021-11-02</th>\n",
       "      <td>333.450012</td>\n",
       "      <td>330.000000</td>\n",
       "      <td>330.309998</td>\n",
       "      <td>333.130005</td>\n",
       "      <td>26487100.0</td>\n",
       "      <td>330.363220</td>\n",
       "    </tr>\n",
       "    <tr>\n",
       "      <th>2021-11-03</th>\n",
       "      <td>334.899994</td>\n",
       "      <td>330.649994</td>\n",
       "      <td>333.899994</td>\n",
       "      <td>334.000000</td>\n",
       "      <td>21500100.0</td>\n",
       "      <td>331.225952</td>\n",
       "    </tr>\n",
       "    <tr>\n",
       "      <th>2021-11-04</th>\n",
       "      <td>336.540009</td>\n",
       "      <td>329.510010</td>\n",
       "      <td>332.890015</td>\n",
       "      <td>336.440002</td>\n",
       "      <td>23992200.0</td>\n",
       "      <td>333.645691</td>\n",
       "    </tr>\n",
       "    <tr>\n",
       "      <th>2021-11-05</th>\n",
       "      <td>338.790009</td>\n",
       "      <td>334.420013</td>\n",
       "      <td>338.510010</td>\n",
       "      <td>336.059998</td>\n",
       "      <td>22570100.0</td>\n",
       "      <td>333.268829</td>\n",
       "    </tr>\n",
       "    <tr>\n",
       "      <th>2021-11-08</th>\n",
       "      <td>337.649994</td>\n",
       "      <td>334.440002</td>\n",
       "      <td>337.299988</td>\n",
       "      <td>336.989990</td>\n",
       "      <td>20897000.0</td>\n",
       "      <td>334.191162</td>\n",
       "    </tr>\n",
       "    <tr>\n",
       "      <th>2021-11-09</th>\n",
       "      <td>338.720001</td>\n",
       "      <td>334.529999</td>\n",
       "      <td>337.109985</td>\n",
       "      <td>335.950012</td>\n",
       "      <td>21307400.0</td>\n",
       "      <td>333.159821</td>\n",
       "    </tr>\n",
       "    <tr>\n",
       "      <th>2021-11-10</th>\n",
       "      <td>334.630005</td>\n",
       "      <td>329.920013</td>\n",
       "      <td>334.570007</td>\n",
       "      <td>330.799988</td>\n",
       "      <td>25500900.0</td>\n",
       "      <td>328.052551</td>\n",
       "    </tr>\n",
       "    <tr>\n",
       "      <th>2021-11-11</th>\n",
       "      <td>333.769989</td>\n",
       "      <td>330.510010</td>\n",
       "      <td>331.250000</td>\n",
       "      <td>332.429993</td>\n",
       "      <td>16849800.0</td>\n",
       "      <td>329.668976</td>\n",
       "    </tr>\n",
       "    <tr>\n",
       "      <th>2021-11-12</th>\n",
       "      <td>337.230011</td>\n",
       "      <td>333.790009</td>\n",
       "      <td>333.920013</td>\n",
       "      <td>336.720001</td>\n",
       "      <td>23831000.0</td>\n",
       "      <td>333.923370</td>\n",
       "    </tr>\n",
       "    <tr>\n",
       "      <th>2021-11-15</th>\n",
       "      <td>337.880005</td>\n",
       "      <td>334.029999</td>\n",
       "      <td>337.540009</td>\n",
       "      <td>336.070007</td>\n",
       "      <td>16723000.0</td>\n",
       "      <td>333.278778</td>\n",
       "    </tr>\n",
       "    <tr>\n",
       "      <th>2021-11-16</th>\n",
       "      <td>340.670013</td>\n",
       "      <td>335.510010</td>\n",
       "      <td>335.679993</td>\n",
       "      <td>339.510010</td>\n",
       "      <td>20886800.0</td>\n",
       "      <td>336.690247</td>\n",
       "    </tr>\n",
       "    <tr>\n",
       "      <th>2021-11-17</th>\n",
       "      <td>342.190002</td>\n",
       "      <td>338.000000</td>\n",
       "      <td>338.940002</td>\n",
       "      <td>339.119995</td>\n",
       "      <td>19053400.0</td>\n",
       "      <td>336.918732</td>\n",
       "    </tr>\n",
       "    <tr>\n",
       "      <th>2021-11-18</th>\n",
       "      <td>342.450012</td>\n",
       "      <td>337.119995</td>\n",
       "      <td>338.179993</td>\n",
       "      <td>341.269989</td>\n",
       "      <td>22463500.0</td>\n",
       "      <td>339.054749</td>\n",
       "    </tr>\n",
       "    <tr>\n",
       "      <th>2021-11-19</th>\n",
       "      <td>345.100006</td>\n",
       "      <td>342.200012</td>\n",
       "      <td>342.640015</td>\n",
       "      <td>343.109985</td>\n",
       "      <td>21963400.0</td>\n",
       "      <td>340.882782</td>\n",
       "    </tr>\n",
       "    <tr>\n",
       "      <th>2021-11-22</th>\n",
       "      <td>349.670013</td>\n",
       "      <td>339.549988</td>\n",
       "      <td>344.619995</td>\n",
       "      <td>339.829987</td>\n",
       "      <td>31031100.0</td>\n",
       "      <td>337.624054</td>\n",
       "    </tr>\n",
       "    <tr>\n",
       "      <th>2021-11-23</th>\n",
       "      <td>339.450012</td>\n",
       "      <td>333.559998</td>\n",
       "      <td>337.049988</td>\n",
       "      <td>337.679993</td>\n",
       "      <td>30427600.0</td>\n",
       "      <td>335.488037</td>\n",
       "    </tr>\n",
       "    <tr>\n",
       "      <th>2021-11-24</th>\n",
       "      <td>338.160004</td>\n",
       "      <td>333.910004</td>\n",
       "      <td>336.279999</td>\n",
       "      <td>337.910004</td>\n",
       "      <td>21661300.0</td>\n",
       "      <td>335.716583</td>\n",
       "    </tr>\n",
       "    <tr>\n",
       "      <th>2021-11-26</th>\n",
       "      <td>337.929993</td>\n",
       "      <td>328.119995</td>\n",
       "      <td>334.350006</td>\n",
       "      <td>329.679993</td>\n",
       "      <td>24217200.0</td>\n",
       "      <td>327.539978</td>\n",
       "    </tr>\n",
       "    <tr>\n",
       "      <th>2021-11-29</th>\n",
       "      <td>339.029999</td>\n",
       "      <td>334.739990</td>\n",
       "      <td>334.940002</td>\n",
       "      <td>336.630005</td>\n",
       "      <td>28563500.0</td>\n",
       "      <td>334.444885</td>\n",
       "    </tr>\n",
       "    <tr>\n",
       "      <th>2021-11-30</th>\n",
       "      <td>337.779999</td>\n",
       "      <td>328.989990</td>\n",
       "      <td>335.320007</td>\n",
       "      <td>330.589996</td>\n",
       "      <td>42885600.0</td>\n",
       "      <td>328.444061</td>\n",
       "    </tr>\n",
       "    <tr>\n",
       "      <th>2021-12-01</th>\n",
       "      <td>339.279999</td>\n",
       "      <td>329.390015</td>\n",
       "      <td>335.130005</td>\n",
       "      <td>330.079987</td>\n",
       "      <td>33337600.0</td>\n",
       "      <td>327.937408</td>\n",
       "    </tr>\n",
       "    <tr>\n",
       "      <th>2021-12-02</th>\n",
       "      <td>333.489990</td>\n",
       "      <td>327.799988</td>\n",
       "      <td>330.299988</td>\n",
       "      <td>329.489990</td>\n",
       "      <td>30766000.0</td>\n",
       "      <td>327.351196</td>\n",
       "    </tr>\n",
       "    <tr>\n",
       "      <th>2021-12-03</th>\n",
       "      <td>332.700012</td>\n",
       "      <td>318.029999</td>\n",
       "      <td>331.989990</td>\n",
       "      <td>323.010010</td>\n",
       "      <td>41779300.0</td>\n",
       "      <td>320.913300</td>\n",
       "    </tr>\n",
       "    <tr>\n",
       "      <th>2021-12-06</th>\n",
       "      <td>327.450012</td>\n",
       "      <td>319.230011</td>\n",
       "      <td>323.950012</td>\n",
       "      <td>326.190002</td>\n",
       "      <td>30032600.0</td>\n",
       "      <td>324.072632</td>\n",
       "    </tr>\n",
       "    <tr>\n",
       "      <th>2021-12-07</th>\n",
       "      <td>335.799988</td>\n",
       "      <td>330.100006</td>\n",
       "      <td>331.640015</td>\n",
       "      <td>334.920013</td>\n",
       "      <td>31021900.0</td>\n",
       "      <td>332.745972</td>\n",
       "    </tr>\n",
       "    <tr>\n",
       "      <th>2021-12-08</th>\n",
       "      <td>335.500000</td>\n",
       "      <td>330.799988</td>\n",
       "      <td>335.309998</td>\n",
       "      <td>334.970001</td>\n",
       "      <td>24761000.0</td>\n",
       "      <td>332.795654</td>\n",
       "    </tr>\n",
       "    <tr>\n",
       "      <th>2021-12-09</th>\n",
       "      <td>336.489990</td>\n",
       "      <td>332.119995</td>\n",
       "      <td>334.410004</td>\n",
       "      <td>333.100006</td>\n",
       "      <td>22214200.0</td>\n",
       "      <td>330.937775</td>\n",
       "    </tr>\n",
       "    <tr>\n",
       "      <th>2021-12-10</th>\n",
       "      <td>343.000000</td>\n",
       "      <td>334.790009</td>\n",
       "      <td>334.980011</td>\n",
       "      <td>342.540009</td>\n",
       "      <td>38095700.0</td>\n",
       "      <td>340.316528</td>\n",
       "    </tr>\n",
       "    <tr>\n",
       "      <th>2021-12-13</th>\n",
       "      <td>343.790009</td>\n",
       "      <td>339.079987</td>\n",
       "      <td>340.679993</td>\n",
       "      <td>339.399994</td>\n",
       "      <td>28899400.0</td>\n",
       "      <td>337.196869</td>\n",
       "    </tr>\n",
       "    <tr>\n",
       "      <th>2021-12-14</th>\n",
       "      <td>334.640015</td>\n",
       "      <td>324.109985</td>\n",
       "      <td>333.220001</td>\n",
       "      <td>328.339996</td>\n",
       "      <td>44438700.0</td>\n",
       "      <td>326.208679</td>\n",
       "    </tr>\n",
       "    <tr>\n",
       "      <th>2021-12-15</th>\n",
       "      <td>335.190002</td>\n",
       "      <td>324.500000</td>\n",
       "      <td>328.609985</td>\n",
       "      <td>334.649994</td>\n",
       "      <td>35381100.0</td>\n",
       "      <td>332.477722</td>\n",
       "    </tr>\n",
       "    <tr>\n",
       "      <th>2021-12-16</th>\n",
       "      <td>336.760010</td>\n",
       "      <td>323.019989</td>\n",
       "      <td>335.709991</td>\n",
       "      <td>324.899994</td>\n",
       "      <td>35034800.0</td>\n",
       "      <td>322.790985</td>\n",
       "    </tr>\n",
       "    <tr>\n",
       "      <th>2021-12-17</th>\n",
       "      <td>324.920013</td>\n",
       "      <td>317.250000</td>\n",
       "      <td>320.880005</td>\n",
       "      <td>323.799988</td>\n",
       "      <td>47750300.0</td>\n",
       "      <td>321.698120</td>\n",
       "    </tr>\n",
       "    <tr>\n",
       "      <th>2021-12-20</th>\n",
       "      <td>322.799988</td>\n",
       "      <td>317.570007</td>\n",
       "      <td>320.049988</td>\n",
       "      <td>319.910004</td>\n",
       "      <td>28326500.0</td>\n",
       "      <td>317.833405</td>\n",
       "    </tr>\n",
       "    <tr>\n",
       "      <th>2021-12-21</th>\n",
       "      <td>327.730011</td>\n",
       "      <td>319.799988</td>\n",
       "      <td>323.290009</td>\n",
       "      <td>327.290009</td>\n",
       "      <td>24740600.0</td>\n",
       "      <td>325.165497</td>\n",
       "    </tr>\n",
       "    <tr>\n",
       "      <th>2021-12-22</th>\n",
       "      <td>333.609985</td>\n",
       "      <td>325.750000</td>\n",
       "      <td>328.299988</td>\n",
       "      <td>333.200012</td>\n",
       "      <td>24831500.0</td>\n",
       "      <td>331.037170</td>\n",
       "    </tr>\n",
       "    <tr>\n",
       "      <th>2021-12-23</th>\n",
       "      <td>336.390015</td>\n",
       "      <td>332.730011</td>\n",
       "      <td>332.750000</td>\n",
       "      <td>334.690002</td>\n",
       "      <td>19617800.0</td>\n",
       "      <td>332.517456</td>\n",
       "    </tr>\n",
       "    <tr>\n",
       "      <th>2021-12-27</th>\n",
       "      <td>342.480011</td>\n",
       "      <td>335.429993</td>\n",
       "      <td>335.459991</td>\n",
       "      <td>342.450012</td>\n",
       "      <td>19947000.0</td>\n",
       "      <td>340.227112</td>\n",
       "    </tr>\n",
       "    <tr>\n",
       "      <th>2021-12-28</th>\n",
       "      <td>343.809998</td>\n",
       "      <td>340.320007</td>\n",
       "      <td>343.149994</td>\n",
       "      <td>341.250000</td>\n",
       "      <td>15661500.0</td>\n",
       "      <td>339.034882</td>\n",
       "    </tr>\n",
       "    <tr>\n",
       "      <th>2021-12-29</th>\n",
       "      <td>344.299988</td>\n",
       "      <td>339.679993</td>\n",
       "      <td>341.299988</td>\n",
       "      <td>341.950012</td>\n",
       "      <td>15042000.0</td>\n",
       "      <td>339.730377</td>\n",
       "    </tr>\n",
       "    <tr>\n",
       "      <th>2021-12-30</th>\n",
       "      <td>343.130005</td>\n",
       "      <td>338.820007</td>\n",
       "      <td>341.910004</td>\n",
       "      <td>339.320007</td>\n",
       "      <td>15994500.0</td>\n",
       "      <td>337.117432</td>\n",
       "    </tr>\n",
       "    <tr>\n",
       "      <th>2021-12-31</th>\n",
       "      <td>339.359985</td>\n",
       "      <td>335.850006</td>\n",
       "      <td>338.510010</td>\n",
       "      <td>336.320007</td>\n",
       "      <td>18000800.0</td>\n",
       "      <td>334.136932</td>\n",
       "    </tr>\n",
       "  </tbody>\n",
       "</table>\n",
       "</div>"
      ],
      "text/plain": [
       "                  High         Low        Open       Close      Volume  \\\n",
       "Date                                                                     \n",
       "2021-10-21  311.019989  306.359985  307.170013  310.760010  16918100.0   \n",
       "2021-10-22  311.089996  307.799988  310.399994  309.160004  17449300.0   \n",
       "2021-10-25  309.399994  306.459991  309.359985  308.130005  17554500.0   \n",
       "2021-10-26  312.399994  308.600006  311.000000  310.109985  28107300.0   \n",
       "2021-10-27  326.100006  316.000000  316.000000  323.170013  52588700.0   \n",
       "2021-10-28  324.869995  321.359985  324.329987  324.350006  26297900.0   \n",
       "2021-10-29  332.000000  323.899994  324.130005  331.619995  34766000.0   \n",
       "2021-11-01  331.489990  326.369995  331.359985  329.369995  27073200.0   \n",
       "2021-11-02  333.450012  330.000000  330.309998  333.130005  26487100.0   \n",
       "2021-11-03  334.899994  330.649994  333.899994  334.000000  21500100.0   \n",
       "2021-11-04  336.540009  329.510010  332.890015  336.440002  23992200.0   \n",
       "2021-11-05  338.790009  334.420013  338.510010  336.059998  22570100.0   \n",
       "2021-11-08  337.649994  334.440002  337.299988  336.989990  20897000.0   \n",
       "2021-11-09  338.720001  334.529999  337.109985  335.950012  21307400.0   \n",
       "2021-11-10  334.630005  329.920013  334.570007  330.799988  25500900.0   \n",
       "2021-11-11  333.769989  330.510010  331.250000  332.429993  16849800.0   \n",
       "2021-11-12  337.230011  333.790009  333.920013  336.720001  23831000.0   \n",
       "2021-11-15  337.880005  334.029999  337.540009  336.070007  16723000.0   \n",
       "2021-11-16  340.670013  335.510010  335.679993  339.510010  20886800.0   \n",
       "2021-11-17  342.190002  338.000000  338.940002  339.119995  19053400.0   \n",
       "2021-11-18  342.450012  337.119995  338.179993  341.269989  22463500.0   \n",
       "2021-11-19  345.100006  342.200012  342.640015  343.109985  21963400.0   \n",
       "2021-11-22  349.670013  339.549988  344.619995  339.829987  31031100.0   \n",
       "2021-11-23  339.450012  333.559998  337.049988  337.679993  30427600.0   \n",
       "2021-11-24  338.160004  333.910004  336.279999  337.910004  21661300.0   \n",
       "2021-11-26  337.929993  328.119995  334.350006  329.679993  24217200.0   \n",
       "2021-11-29  339.029999  334.739990  334.940002  336.630005  28563500.0   \n",
       "2021-11-30  337.779999  328.989990  335.320007  330.589996  42885600.0   \n",
       "2021-12-01  339.279999  329.390015  335.130005  330.079987  33337600.0   \n",
       "2021-12-02  333.489990  327.799988  330.299988  329.489990  30766000.0   \n",
       "2021-12-03  332.700012  318.029999  331.989990  323.010010  41779300.0   \n",
       "2021-12-06  327.450012  319.230011  323.950012  326.190002  30032600.0   \n",
       "2021-12-07  335.799988  330.100006  331.640015  334.920013  31021900.0   \n",
       "2021-12-08  335.500000  330.799988  335.309998  334.970001  24761000.0   \n",
       "2021-12-09  336.489990  332.119995  334.410004  333.100006  22214200.0   \n",
       "2021-12-10  343.000000  334.790009  334.980011  342.540009  38095700.0   \n",
       "2021-12-13  343.790009  339.079987  340.679993  339.399994  28899400.0   \n",
       "2021-12-14  334.640015  324.109985  333.220001  328.339996  44438700.0   \n",
       "2021-12-15  335.190002  324.500000  328.609985  334.649994  35381100.0   \n",
       "2021-12-16  336.760010  323.019989  335.709991  324.899994  35034800.0   \n",
       "2021-12-17  324.920013  317.250000  320.880005  323.799988  47750300.0   \n",
       "2021-12-20  322.799988  317.570007  320.049988  319.910004  28326500.0   \n",
       "2021-12-21  327.730011  319.799988  323.290009  327.290009  24740600.0   \n",
       "2021-12-22  333.609985  325.750000  328.299988  333.200012  24831500.0   \n",
       "2021-12-23  336.390015  332.730011  332.750000  334.690002  19617800.0   \n",
       "2021-12-27  342.480011  335.429993  335.459991  342.450012  19947000.0   \n",
       "2021-12-28  343.809998  340.320007  343.149994  341.250000  15661500.0   \n",
       "2021-12-29  344.299988  339.679993  341.299988  341.950012  15042000.0   \n",
       "2021-12-30  343.130005  338.820007  341.910004  339.320007  15994500.0   \n",
       "2021-12-31  339.359985  335.850006  338.510010  336.320007  18000800.0   \n",
       "\n",
       "             Adj Close  \n",
       "Date                    \n",
       "2021-10-21  308.178986  \n",
       "2021-10-22  306.592285  \n",
       "2021-10-25  305.570862  \n",
       "2021-10-26  307.534393  \n",
       "2021-10-27  320.485931  \n",
       "2021-10-28  321.656097  \n",
       "2021-10-29  328.865753  \n",
       "2021-11-01  326.634430  \n",
       "2021-11-02  330.363220  \n",
       "2021-11-03  331.225952  \n",
       "2021-11-04  333.645691  \n",
       "2021-11-05  333.268829  \n",
       "2021-11-08  334.191162  \n",
       "2021-11-09  333.159821  \n",
       "2021-11-10  328.052551  \n",
       "2021-11-11  329.668976  \n",
       "2021-11-12  333.923370  \n",
       "2021-11-15  333.278778  \n",
       "2021-11-16  336.690247  \n",
       "2021-11-17  336.918732  \n",
       "2021-11-18  339.054749  \n",
       "2021-11-19  340.882782  \n",
       "2021-11-22  337.624054  \n",
       "2021-11-23  335.488037  \n",
       "2021-11-24  335.716583  \n",
       "2021-11-26  327.539978  \n",
       "2021-11-29  334.444885  \n",
       "2021-11-30  328.444061  \n",
       "2021-12-01  327.937408  \n",
       "2021-12-02  327.351196  \n",
       "2021-12-03  320.913300  \n",
       "2021-12-06  324.072632  \n",
       "2021-12-07  332.745972  \n",
       "2021-12-08  332.795654  \n",
       "2021-12-09  330.937775  \n",
       "2021-12-10  340.316528  \n",
       "2021-12-13  337.196869  \n",
       "2021-12-14  326.208679  \n",
       "2021-12-15  332.477722  \n",
       "2021-12-16  322.790985  \n",
       "2021-12-17  321.698120  \n",
       "2021-12-20  317.833405  \n",
       "2021-12-21  325.165497  \n",
       "2021-12-22  331.037170  \n",
       "2021-12-23  332.517456  \n",
       "2021-12-27  340.227112  \n",
       "2021-12-28  339.034882  \n",
       "2021-12-29  339.730377  \n",
       "2021-12-30  337.117432  \n",
       "2021-12-31  334.136932  "
      ]
     },
     "execution_count": 9,
     "metadata": {},
     "output_type": "execute_result"
    }
   ],
   "source": [
    "stocks.tail(50)"
   ]
  },
  {
   "cell_type": "code",
   "execution_count": 111,
   "id": "47da756e",
   "metadata": {
    "scrolled": true
   },
   "outputs": [
    {
     "data": {
      "text/plain": [
       "DatetimeIndex(['1989-12-31', '1989-12-31', '1989-12-31', '1989-12-31',\n",
       "               '1989-12-31', '1989-12-31', '1989-12-31', '1989-12-31',\n",
       "               '1989-12-31', '1989-12-31',\n",
       "               ...\n",
       "               '2021-11-30', '2021-11-30', '2021-11-30', '2021-11-30',\n",
       "               '2021-11-30', '2021-11-30', '2021-11-30', '2021-11-30',\n",
       "               '2021-11-30', '2021-11-30'],\n",
       "              dtype='datetime64[ns]', name='Date', length=8064, freq=None)"
      ]
     },
     "execution_count": 111,
     "metadata": {},
     "output_type": "execute_result"
    }
   ],
   "source": [
    "stocks.index - pd.tseries.offsets.MonthEnd() "
   ]
  },
  {
   "cell_type": "code",
   "execution_count": 112,
   "id": "ef95d26e",
   "metadata": {},
   "outputs": [
    {
     "data": {
      "text/plain": [
       "DatetimeIndex(['1990-01-01', '1990-01-01', '1990-01-01', '1990-01-01',\n",
       "               '1990-01-01', '1990-01-01', '1990-01-01', '1990-01-01',\n",
       "               '1990-01-01', '1990-01-01',\n",
       "               ...\n",
       "               '2021-12-01', '2021-12-01', '2021-12-01', '2021-12-01',\n",
       "               '2021-12-01', '2021-12-01', '2021-12-01', '2021-12-01',\n",
       "               '2021-12-01', '2021-12-01'],\n",
       "              dtype='datetime64[ns]', name='Date', length=8064, freq=None)"
      ]
     },
     "execution_count": 112,
     "metadata": {},
     "output_type": "execute_result"
    }
   ],
   "source": [
    "stocks.index - pd.tseries.offsets.MonthBegin() "
   ]
  },
  {
   "cell_type": "code",
   "execution_count": 113,
   "id": "5528a6f6",
   "metadata": {},
   "outputs": [],
   "source": [
    "from pandas.tseries import offsets"
   ]
  },
  {
   "cell_type": "code",
   "execution_count": 117,
   "id": "60e488b1",
   "metadata": {},
   "outputs": [
    {
     "data": {
      "text/plain": [
       "DatetimeIndex(['1990-01-03', '1990-01-04', '1990-01-05', '1990-01-08',\n",
       "               '1990-01-09', '1990-01-10', '1990-01-11', '1990-01-12',\n",
       "               '1990-01-15', '1990-01-16',\n",
       "               ...\n",
       "               '2021-12-20', '2021-12-21', '2021-12-22', '2021-12-23',\n",
       "               '2021-12-24', '2021-12-28', '2021-12-29', '2021-12-30',\n",
       "               '2021-12-31', '2022-01-03'],\n",
       "              dtype='datetime64[ns]', name='Date', length=8064, freq=None)"
      ]
     },
     "execution_count": 117,
     "metadata": {},
     "output_type": "execute_result"
    }
   ],
   "source": [
    "stocks.index+offsets.MonthEnd()\n",
    "\n",
    "stocks.index + offsets.BDay()"
   ]
  },
  {
   "cell_type": "code",
   "execution_count": 119,
   "id": "e25de64d",
   "metadata": {},
   "outputs": [
    {
     "data": {
      "text/plain": [
       "DatetimeIndex(['1990-12-31', '1990-12-31', '1990-12-31', '1990-12-31',\n",
       "               '1990-12-31', '1990-12-31', '1990-12-31', '1990-12-31',\n",
       "               '1990-12-31', '1990-12-31',\n",
       "               ...\n",
       "               '2021-12-31', '2021-12-31', '2021-12-31', '2021-12-31',\n",
       "               '2021-12-31', '2021-12-31', '2021-12-31', '2021-12-31',\n",
       "               '2021-12-31', '2022-12-31'],\n",
       "              dtype='datetime64[ns]', name='Date', length=8064, freq=None)"
      ]
     },
     "execution_count": 119,
     "metadata": {},
     "output_type": "execute_result"
    }
   ],
   "source": [
    "stocks.index + offsets.YearBegin()\n",
    "stocks.index + offsets.YearEnd()"
   ]
  },
  {
   "cell_type": "markdown",
   "id": "3d4da168",
   "metadata": {},
   "source": [
    "## The Timedelta Object"
   ]
  },
  {
   "cell_type": "code",
   "execution_count": 164,
   "id": "eb3b71ff",
   "metadata": {},
   "outputs": [],
   "source": [
    "#Timedelts is help us find the diff.. between the two time\n",
    "\n",
    "time_a=pd.Timestamp(\"31-7-1997\")\n",
    "time_b=pd.Timestamp(\"16-9-2022\")"
   ]
  },
  {
   "cell_type": "code",
   "execution_count": 165,
   "id": "d9ff95e7",
   "metadata": {},
   "outputs": [
    {
     "data": {
      "text/plain": [
       "Timedelta('9178 days 00:00:00')"
      ]
     },
     "execution_count": 165,
     "metadata": {},
     "output_type": "execute_result"
    }
   ],
   "source": [
    "time_b-time_a"
   ]
  },
  {
   "cell_type": "code",
   "execution_count": 161,
   "id": "5530f070",
   "metadata": {},
   "outputs": [
    {
     "data": {
      "text/plain": [
       "Timedelta('-9178 days +00:00:00')"
      ]
     },
     "execution_count": 161,
     "metadata": {},
     "output_type": "execute_result"
    }
   ],
   "source": [
    "time_a-time_b"
   ]
  },
  {
   "cell_type": "code",
   "execution_count": 162,
   "id": "a80f4ca5",
   "metadata": {},
   "outputs": [
    {
     "data": {
      "text/plain": [
       "Timedelta('66 days 07:23:20')"
      ]
     },
     "execution_count": 162,
     "metadata": {},
     "output_type": "execute_result"
    }
   ],
   "source": [
    "pd.Timedelta(days=3)\n",
    "pd.Timedelta(days=3,hours=7)\n",
    "pd.Timedelta(days=3,hours=7,minutes=23)\n",
    "pd.Timedelta(days=3,hours=7,minutes=23,seconds=20)\n",
    "pd.Timedelta(weeks=9,days=3,hours=7,minutes=23,seconds=20)"
   ]
  },
  {
   "cell_type": "code",
   "execution_count": 134,
   "id": "6035683a",
   "metadata": {},
   "outputs": [
    {
     "data": {
      "text/plain": [
       "Timedelta('14 days 00:00:00')"
      ]
     },
     "execution_count": 134,
     "metadata": {},
     "output_type": "execute_result"
    }
   ],
   "source": [
    "pd.Timedelta(\"14 days\")"
   ]
  },
  {
   "cell_type": "code",
   "execution_count": 136,
   "id": "4b9f2eff",
   "metadata": {},
   "outputs": [
    {
     "data": {
      "text/plain": [
       "Timedelta('14 days 23:00:34')"
      ]
     },
     "execution_count": 136,
     "metadata": {},
     "output_type": "execute_result"
    }
   ],
   "source": [
    "pd.Timedelta(\"14 days,23 hours,34 seconds\")"
   ]
  },
  {
   "cell_type": "markdown",
   "id": "9a790abb",
   "metadata": {},
   "source": [
    "## Timedeltas in Datasets"
   ]
  },
  {
   "cell_type": "code",
   "execution_count": 173,
   "id": "c8ba04b8",
   "metadata": {},
   "outputs": [],
   "source": [
    "import pandas as pd,numpy as np,os\n",
    "os.chdir('C:/Users/Manjunath/Desktop/Raw_Data')"
   ]
  },
  {
   "cell_type": "code",
   "execution_count": 174,
   "id": "b46d78bf",
   "metadata": {
    "scrolled": true
   },
   "outputs": [
    {
     "data": {
      "text/html": [
       "<div>\n",
       "<style scoped>\n",
       "    .dataframe tbody tr th:only-of-type {\n",
       "        vertical-align: middle;\n",
       "    }\n",
       "\n",
       "    .dataframe tbody tr th {\n",
       "        vertical-align: top;\n",
       "    }\n",
       "\n",
       "    .dataframe thead th {\n",
       "        text-align: right;\n",
       "    }\n",
       "</style>\n",
       "<table border=\"1\" class=\"dataframe\">\n",
       "  <thead>\n",
       "    <tr style=\"text-align: right;\">\n",
       "      <th></th>\n",
       "      <th>order_date</th>\n",
       "      <th>delivery_date</th>\n",
       "    </tr>\n",
       "    <tr>\n",
       "      <th>ID</th>\n",
       "      <th></th>\n",
       "      <th></th>\n",
       "    </tr>\n",
       "  </thead>\n",
       "  <tbody>\n",
       "    <tr>\n",
       "      <th>1</th>\n",
       "      <td>1998-05-24</td>\n",
       "      <td>1999-02-05</td>\n",
       "    </tr>\n",
       "    <tr>\n",
       "      <th>2</th>\n",
       "      <td>1992-04-22</td>\n",
       "      <td>1998-03-06</td>\n",
       "    </tr>\n",
       "    <tr>\n",
       "      <th>4</th>\n",
       "      <td>1991-02-10</td>\n",
       "      <td>1992-08-26</td>\n",
       "    </tr>\n",
       "    <tr>\n",
       "      <th>5</th>\n",
       "      <td>1992-07-21</td>\n",
       "      <td>1997-11-20</td>\n",
       "    </tr>\n",
       "    <tr>\n",
       "      <th>7</th>\n",
       "      <td>1993-09-02</td>\n",
       "      <td>1998-06-10</td>\n",
       "    </tr>\n",
       "  </tbody>\n",
       "</table>\n",
       "</div>"
      ],
      "text/plain": [
       "   order_date delivery_date\n",
       "ID                         \n",
       "1  1998-05-24    1999-02-05\n",
       "2  1992-04-22    1998-03-06\n",
       "4  1991-02-10    1992-08-26\n",
       "5  1992-07-21    1997-11-20\n",
       "7  1993-09-02    1998-06-10"
      ]
     },
     "execution_count": 174,
     "metadata": {},
     "output_type": "execute_result"
    }
   ],
   "source": [
    "shipping=pd.read_csv(\"ecommerce.csv\",index_col=\"ID\",parse_dates=[\"order_date\",\"delivery_date\"])\n",
    "shipping.head()"
   ]
  },
  {
   "cell_type": "code",
   "execution_count": 175,
   "id": "c8cf45a7",
   "metadata": {},
   "outputs": [
    {
     "data": {
      "text/html": [
       "<div>\n",
       "<style scoped>\n",
       "    .dataframe tbody tr th:only-of-type {\n",
       "        vertical-align: middle;\n",
       "    }\n",
       "\n",
       "    .dataframe tbody tr th {\n",
       "        vertical-align: top;\n",
       "    }\n",
       "\n",
       "    .dataframe thead th {\n",
       "        text-align: right;\n",
       "    }\n",
       "</style>\n",
       "<table border=\"1\" class=\"dataframe\">\n",
       "  <thead>\n",
       "    <tr style=\"text-align: right;\">\n",
       "      <th></th>\n",
       "      <th>order_date</th>\n",
       "      <th>delivery_date</th>\n",
       "      <th>Delivery_time</th>\n",
       "    </tr>\n",
       "    <tr>\n",
       "      <th>ID</th>\n",
       "      <th></th>\n",
       "      <th></th>\n",
       "      <th></th>\n",
       "    </tr>\n",
       "  </thead>\n",
       "  <tbody>\n",
       "    <tr>\n",
       "      <th>1</th>\n",
       "      <td>1998-05-24</td>\n",
       "      <td>1999-02-05</td>\n",
       "      <td>257 days</td>\n",
       "    </tr>\n",
       "    <tr>\n",
       "      <th>2</th>\n",
       "      <td>1992-04-22</td>\n",
       "      <td>1998-03-06</td>\n",
       "      <td>2144 days</td>\n",
       "    </tr>\n",
       "    <tr>\n",
       "      <th>4</th>\n",
       "      <td>1991-02-10</td>\n",
       "      <td>1992-08-26</td>\n",
       "      <td>563 days</td>\n",
       "    </tr>\n",
       "  </tbody>\n",
       "</table>\n",
       "</div>"
      ],
      "text/plain": [
       "   order_date delivery_date Delivery_time\n",
       "ID                                       \n",
       "1  1998-05-24    1999-02-05      257 days\n",
       "2  1992-04-22    1998-03-06     2144 days\n",
       "4  1991-02-10    1992-08-26      563 days"
      ]
     },
     "execution_count": 175,
     "metadata": {},
     "output_type": "execute_result"
    }
   ],
   "source": [
    "shipping[\"Delivery_time\"]=shipping['delivery_date']-shipping[\"order_date\"]\n",
    "shipping.head(3)"
   ]
  },
  {
   "cell_type": "code",
   "execution_count": 176,
   "id": "5e951918",
   "metadata": {},
   "outputs": [
    {
     "data": {
      "text/html": [
       "<div>\n",
       "<style scoped>\n",
       "    .dataframe tbody tr th:only-of-type {\n",
       "        vertical-align: middle;\n",
       "    }\n",
       "\n",
       "    .dataframe tbody tr th {\n",
       "        vertical-align: top;\n",
       "    }\n",
       "\n",
       "    .dataframe thead th {\n",
       "        text-align: right;\n",
       "    }\n",
       "</style>\n",
       "<table border=\"1\" class=\"dataframe\">\n",
       "  <thead>\n",
       "    <tr style=\"text-align: right;\">\n",
       "      <th></th>\n",
       "      <th>order_date</th>\n",
       "      <th>delivery_date</th>\n",
       "      <th>Delivery_time</th>\n",
       "      <th>Twice as long</th>\n",
       "    </tr>\n",
       "    <tr>\n",
       "      <th>ID</th>\n",
       "      <th></th>\n",
       "      <th></th>\n",
       "      <th></th>\n",
       "      <th></th>\n",
       "    </tr>\n",
       "  </thead>\n",
       "  <tbody>\n",
       "    <tr>\n",
       "      <th>1</th>\n",
       "      <td>1998-05-24</td>\n",
       "      <td>1999-02-05</td>\n",
       "      <td>257 days</td>\n",
       "      <td>1999-10-20</td>\n",
       "    </tr>\n",
       "    <tr>\n",
       "      <th>2</th>\n",
       "      <td>1992-04-22</td>\n",
       "      <td>1998-03-06</td>\n",
       "      <td>2144 days</td>\n",
       "      <td>2004-01-18</td>\n",
       "    </tr>\n",
       "    <tr>\n",
       "      <th>4</th>\n",
       "      <td>1991-02-10</td>\n",
       "      <td>1992-08-26</td>\n",
       "      <td>563 days</td>\n",
       "      <td>1994-03-12</td>\n",
       "    </tr>\n",
       "    <tr>\n",
       "      <th>5</th>\n",
       "      <td>1992-07-21</td>\n",
       "      <td>1997-11-20</td>\n",
       "      <td>1948 days</td>\n",
       "      <td>2003-03-22</td>\n",
       "    </tr>\n",
       "    <tr>\n",
       "      <th>7</th>\n",
       "      <td>1993-09-02</td>\n",
       "      <td>1998-06-10</td>\n",
       "      <td>1742 days</td>\n",
       "      <td>2003-03-18</td>\n",
       "    </tr>\n",
       "  </tbody>\n",
       "</table>\n",
       "</div>"
      ],
      "text/plain": [
       "   order_date delivery_date Delivery_time Twice as long\n",
       "ID                                                     \n",
       "1  1998-05-24    1999-02-05      257 days    1999-10-20\n",
       "2  1992-04-22    1998-03-06     2144 days    2004-01-18\n",
       "4  1991-02-10    1992-08-26      563 days    1994-03-12\n",
       "5  1992-07-21    1997-11-20     1948 days    2003-03-22\n",
       "7  1993-09-02    1998-06-10     1742 days    2003-03-18"
      ]
     },
     "execution_count": 176,
     "metadata": {},
     "output_type": "execute_result"
    }
   ],
   "source": [
    "shipping[\"Twice as long\"]=shipping[\"delivery_date\"]+shipping[\"Delivery_time\"]\n",
    "shipping.head()"
   ]
  },
  {
   "cell_type": "code",
   "execution_count": 177,
   "id": "550ea1f5",
   "metadata": {},
   "outputs": [
    {
     "data": {
      "text/plain": [
       "Timedelta('3583 days 00:00:00')"
      ]
     },
     "execution_count": 177,
     "metadata": {},
     "output_type": "execute_result"
    }
   ],
   "source": [
    "shipping[\"Delivery_time\"].max()"
   ]
  },
  {
   "cell_type": "code",
   "execution_count": 178,
   "id": "b3192ec2",
   "metadata": {},
   "outputs": [
    {
     "data": {
      "text/plain": [
       "Timedelta('8 days 00:00:00')"
      ]
     },
     "execution_count": 178,
     "metadata": {},
     "output_type": "execute_result"
    }
   ],
   "source": [
    "shipping[\"Delivery_time\"].min()"
   ]
  },
  {
   "cell_type": "code",
   "execution_count": 182,
   "id": "9bfb6da4",
   "metadata": {},
   "outputs": [
    {
     "data": {
      "text/html": [
       "<div>\n",
       "<style scoped>\n",
       "    .dataframe tbody tr th:only-of-type {\n",
       "        vertical-align: middle;\n",
       "    }\n",
       "\n",
       "    .dataframe tbody tr th {\n",
       "        vertical-align: top;\n",
       "    }\n",
       "\n",
       "    .dataframe thead th {\n",
       "        text-align: right;\n",
       "    }\n",
       "</style>\n",
       "<table border=\"1\" class=\"dataframe\">\n",
       "  <thead>\n",
       "    <tr style=\"text-align: right;\">\n",
       "      <th></th>\n",
       "      <th>order_date</th>\n",
       "      <th>delivery_date</th>\n",
       "      <th>Delivery_time</th>\n",
       "      <th>Twice as long</th>\n",
       "    </tr>\n",
       "    <tr>\n",
       "      <th>ID</th>\n",
       "      <th></th>\n",
       "      <th></th>\n",
       "      <th></th>\n",
       "      <th></th>\n",
       "    </tr>\n",
       "  </thead>\n",
       "  <tbody>\n",
       "    <tr>\n",
       "      <th>2</th>\n",
       "      <td>1992-04-22</td>\n",
       "      <td>1998-03-06</td>\n",
       "      <td>2144 days</td>\n",
       "      <td>2004-01-18</td>\n",
       "    </tr>\n",
       "    <tr>\n",
       "      <th>4</th>\n",
       "      <td>1991-02-10</td>\n",
       "      <td>1992-08-26</td>\n",
       "      <td>563 days</td>\n",
       "      <td>1994-03-12</td>\n",
       "    </tr>\n",
       "    <tr>\n",
       "      <th>5</th>\n",
       "      <td>1992-07-21</td>\n",
       "      <td>1997-11-20</td>\n",
       "      <td>1948 days</td>\n",
       "      <td>2003-03-22</td>\n",
       "    </tr>\n",
       "    <tr>\n",
       "      <th>7</th>\n",
       "      <td>1993-09-02</td>\n",
       "      <td>1998-06-10</td>\n",
       "      <td>1742 days</td>\n",
       "      <td>2003-03-18</td>\n",
       "    </tr>\n",
       "    <tr>\n",
       "      <th>9</th>\n",
       "      <td>1990-01-25</td>\n",
       "      <td>1994-10-02</td>\n",
       "      <td>1711 days</td>\n",
       "      <td>1999-06-09</td>\n",
       "    </tr>\n",
       "  </tbody>\n",
       "</table>\n",
       "</div>"
      ],
      "text/plain": [
       "   order_date delivery_date Delivery_time Twice as long\n",
       "ID                                                     \n",
       "2  1992-04-22    1998-03-06     2144 days    2004-01-18\n",
       "4  1991-02-10    1992-08-26      563 days    1994-03-12\n",
       "5  1992-07-21    1997-11-20     1948 days    2003-03-22\n",
       "7  1993-09-02    1998-06-10     1742 days    2003-03-18\n",
       "9  1990-01-25    1994-10-02     1711 days    1999-06-09"
      ]
     },
     "execution_count": 182,
     "metadata": {},
     "output_type": "execute_result"
    }
   ],
   "source": [
    "shipping[shipping[\"Delivery_time\"]>\"365 days\"].head() # Delivery time >365"
   ]
  },
  {
   "cell_type": "code",
   "execution_count": null,
   "id": "643c19ea",
   "metadata": {},
   "outputs": [],
   "source": []
  }
 ],
 "metadata": {
  "kernelspec": {
   "display_name": "Python 3 (ipykernel)",
   "language": "python",
   "name": "python3"
  },
  "language_info": {
   "codemirror_mode": {
    "name": "ipython",
    "version": 3
   },
   "file_extension": ".py",
   "mimetype": "text/x-python",
   "name": "python",
   "nbconvert_exporter": "python",
   "pygments_lexer": "ipython3",
   "version": "3.9.12"
  }
 },
 "nbformat": 4,
 "nbformat_minor": 5
}
